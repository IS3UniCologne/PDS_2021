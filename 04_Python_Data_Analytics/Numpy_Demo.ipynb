{
 "cells": [
  {
   "cell_type": "markdown",
   "id": "prime-restaurant",
   "metadata": {},
   "source": [
    "# Data Analytics with numpy"
   ]
  },
  {
   "cell_type": "markdown",
   "id": "present-machine",
   "metadata": {},
   "source": [
    "## numpy arrays"
   ]
  },
  {
   "cell_type": "code",
   "execution_count": 1,
   "id": "peaceful-interstate",
   "metadata": {},
   "outputs": [],
   "source": [
    "import numpy as np"
   ]
  },
  {
   "cell_type": "code",
   "execution_count": 2,
   "id": "active-executive",
   "metadata": {},
   "outputs": [],
   "source": [
    "lst = [4, 5, 6]"
   ]
  },
  {
   "cell_type": "code",
   "execution_count": 6,
   "id": "substantial-county",
   "metadata": {},
   "outputs": [
    {
     "data": {
      "text/plain": [
       "[4, 5, 6]"
      ]
     },
     "execution_count": 6,
     "metadata": {},
     "output_type": "execute_result"
    }
   ],
   "source": [
    "lst"
   ]
  },
  {
   "cell_type": "code",
   "execution_count": 3,
   "id": "arctic-balloon",
   "metadata": {},
   "outputs": [
    {
     "data": {
      "text/plain": [
       "list"
      ]
     },
     "execution_count": 3,
     "metadata": {},
     "output_type": "execute_result"
    }
   ],
   "source": [
    "type(lst)"
   ]
  },
  {
   "cell_type": "code",
   "execution_count": 4,
   "id": "demonstrated-alaska",
   "metadata": {},
   "outputs": [],
   "source": [
    "np_vec = np.array(lst)"
   ]
  },
  {
   "cell_type": "code",
   "execution_count": 5,
   "id": "small-pursuit",
   "metadata": {},
   "outputs": [
    {
     "data": {
      "text/plain": [
       "array([4, 5, 6])"
      ]
     },
     "execution_count": 5,
     "metadata": {},
     "output_type": "execute_result"
    }
   ],
   "source": [
    "np_vec"
   ]
  },
  {
   "cell_type": "code",
   "execution_count": 7,
   "id": "greenhouse-lender",
   "metadata": {},
   "outputs": [
    {
     "data": {
      "text/plain": [
       "numpy.ndarray"
      ]
     },
     "execution_count": 7,
     "metadata": {},
     "output_type": "execute_result"
    }
   ],
   "source": [
    "type(np_vec)"
   ]
  },
  {
   "cell_type": "code",
   "execution_count": 8,
   "id": "behavioral-guide",
   "metadata": {},
   "outputs": [],
   "source": [
    "np_vec2 = np.array([1, 2, 3, 4])"
   ]
  },
  {
   "cell_type": "code",
   "execution_count": 10,
   "id": "likely-supervision",
   "metadata": {},
   "outputs": [
    {
     "data": {
      "text/plain": [
       "array([1, 2, 3, 4])"
      ]
     },
     "execution_count": 10,
     "metadata": {},
     "output_type": "execute_result"
    }
   ],
   "source": [
    "np_vec2"
   ]
  },
  {
   "cell_type": "code",
   "execution_count": 11,
   "id": "ruled-brooks",
   "metadata": {},
   "outputs": [],
   "source": [
    "nested_lst = [[1, 2], [3, 4]]"
   ]
  },
  {
   "cell_type": "code",
   "execution_count": 12,
   "id": "regional-delivery",
   "metadata": {},
   "outputs": [],
   "source": [
    "nested_np = np.array(nested_lst)"
   ]
  },
  {
   "cell_type": "code",
   "execution_count": 13,
   "id": "twenty-height",
   "metadata": {},
   "outputs": [
    {
     "data": {
      "text/plain": [
       "array([[1, 2],\n",
       "       [3, 4]])"
      ]
     },
     "execution_count": 13,
     "metadata": {},
     "output_type": "execute_result"
    }
   ],
   "source": [
    "nested_np"
   ]
  },
  {
   "cell_type": "code",
   "execution_count": 14,
   "id": "acting-loading",
   "metadata": {},
   "outputs": [],
   "source": [
    "mixed_list = [\"A\", 1]"
   ]
  },
  {
   "cell_type": "code",
   "execution_count": 16,
   "id": "primary-sherman",
   "metadata": {},
   "outputs": [
    {
     "data": {
      "text/plain": [
       "['A', 1]"
      ]
     },
     "execution_count": 16,
     "metadata": {},
     "output_type": "execute_result"
    }
   ],
   "source": [
    "mixed_list"
   ]
  },
  {
   "cell_type": "code",
   "execution_count": 17,
   "id": "actual-rescue",
   "metadata": {},
   "outputs": [
    {
     "data": {
      "text/plain": [
       "array(['A', '1'], dtype='<U1')"
      ]
     },
     "execution_count": 17,
     "metadata": {},
     "output_type": "execute_result"
    }
   ],
   "source": [
    "np.array(mixed_list)"
   ]
  },
  {
   "cell_type": "markdown",
   "id": "incredible-terrain",
   "metadata": {},
   "source": [
    "## List comprehension"
   ]
  },
  {
   "cell_type": "code",
   "execution_count": 18,
   "id": "valued-apollo",
   "metadata": {},
   "outputs": [],
   "source": [
    "# [0, 1, 4, 9, 16, 25, ....]"
   ]
  },
  {
   "cell_type": "code",
   "execution_count": 19,
   "id": "alternate-potential",
   "metadata": {},
   "outputs": [
    {
     "data": {
      "text/plain": [
       "[0, 1, 4, 9, 16, 25, 36, 49, 64, 81]"
      ]
     },
     "execution_count": 19,
     "metadata": {},
     "output_type": "execute_result"
    }
   ],
   "source": [
    "[x**2 for x in range(10)]"
   ]
  },
  {
   "cell_type": "code",
   "execution_count": 20,
   "id": "defined-brisbane",
   "metadata": {},
   "outputs": [
    {
     "data": {
      "text/plain": [
       "[0, 1, 4, 9, 16, 25, 36, 49, 64, 81]"
      ]
     },
     "execution_count": 20,
     "metadata": {},
     "output_type": "execute_result"
    }
   ],
   "source": [
    "lst_loop = []\n",
    "\n",
    "for x in range(10):\n",
    "    lst_loop.append(x**2)\n",
    "lst_loop"
   ]
  },
  {
   "cell_type": "code",
   "execution_count": 21,
   "id": "textile-pakistan",
   "metadata": {},
   "outputs": [
    {
     "data": {
      "text/plain": [
       "array([ 0,  1,  4,  9, 16, 25, 36, 49, 64, 81])"
      ]
     },
     "execution_count": 21,
     "metadata": {},
     "output_type": "execute_result"
    }
   ],
   "source": [
    "np.array([x**2 for x in range(10)])"
   ]
  },
  {
   "cell_type": "markdown",
   "id": "conservative-surgeon",
   "metadata": {},
   "source": [
    "## Built-in functions"
   ]
  },
  {
   "cell_type": "code",
   "execution_count": 25,
   "id": "legal-collectible",
   "metadata": {},
   "outputs": [
    {
     "name": "stdout",
     "output_type": "stream",
     "text": [
      "1.3 µs ± 266 ns per loop (mean ± std. dev. of 7 runs, 100000 loops each)\n"
     ]
    }
   ],
   "source": [
    "%timeit np.arange(0,10)"
   ]
  },
  {
   "cell_type": "code",
   "execution_count": 26,
   "id": "through-poison",
   "metadata": {},
   "outputs": [
    {
     "name": "stdout",
     "output_type": "stream",
     "text": [
      "687 ns ± 239 ns per loop (mean ± std. dev. of 7 runs, 1000000 loops each)\n"
     ]
    }
   ],
   "source": [
    "%timeit list(range(10))"
   ]
  },
  {
   "cell_type": "code",
   "execution_count": 27,
   "id": "consolidated-george",
   "metadata": {},
   "outputs": [
    {
     "name": "stdout",
     "output_type": "stream",
     "text": [
      "The slowest run took 4.03 times longer than the fastest. This could mean that an intermediate result is being cached.\n",
      "25.8 µs ± 14 µs per loop (mean ± std. dev. of 7 runs, 10000 loops each)\n"
     ]
    }
   ],
   "source": [
    "%timeit np.array(range(10))"
   ]
  },
  {
   "cell_type": "code",
   "execution_count": 28,
   "id": "alpha-scene",
   "metadata": {},
   "outputs": [],
   "source": [
    "def func1():\n",
    "    for i in range(1000000):\n",
    "        pass"
   ]
  },
  {
   "cell_type": "code",
   "execution_count": 29,
   "id": "theoretical-india",
   "metadata": {},
   "outputs": [],
   "source": [
    "def func2():\n",
    "    for i in np.arange(1000000):\n",
    "        pass"
   ]
  },
  {
   "cell_type": "code",
   "execution_count": 30,
   "id": "taken-transcript",
   "metadata": {},
   "outputs": [],
   "source": [
    "def func3():\n",
    "    for i in list(range(1000000)):\n",
    "        pass"
   ]
  },
  {
   "cell_type": "code",
   "execution_count": 31,
   "id": "devoted-tongue",
   "metadata": {},
   "outputs": [
    {
     "name": "stdout",
     "output_type": "stream",
     "text": [
      "58.9 ms ± 9.54 ms per loop (mean ± std. dev. of 7 runs, 10 loops each)\n"
     ]
    }
   ],
   "source": [
    "%timeit func1()"
   ]
  },
  {
   "cell_type": "code",
   "execution_count": 32,
   "id": "magnetic-choir",
   "metadata": {},
   "outputs": [
    {
     "name": "stdout",
     "output_type": "stream",
     "text": [
      "272 ms ± 113 ms per loop (mean ± std. dev. of 7 runs, 1 loop each)\n"
     ]
    }
   ],
   "source": [
    "%timeit func2()"
   ]
  },
  {
   "cell_type": "code",
   "execution_count": 33,
   "id": "confidential-earth",
   "metadata": {},
   "outputs": [
    {
     "name": "stdout",
     "output_type": "stream",
     "text": [
      "97 ms ± 2.8 ms per loop (mean ± std. dev. of 7 runs, 10 loops each)\n"
     ]
    }
   ],
   "source": [
    "%timeit func3()"
   ]
  },
  {
   "cell_type": "code",
   "execution_count": 34,
   "id": "national-novelty",
   "metadata": {},
   "outputs": [
    {
     "data": {
      "text/plain": [
       "array([ 0,  2,  4,  6,  8, 10])"
      ]
     },
     "execution_count": 34,
     "metadata": {},
     "output_type": "execute_result"
    }
   ],
   "source": [
    "np.arange(0, 12, 2)"
   ]
  },
  {
   "cell_type": "code",
   "execution_count": 35,
   "id": "solved-luxembourg",
   "metadata": {},
   "outputs": [
    {
     "data": {
      "text/plain": [
       "array([ 0,  1,  2,  3,  4,  5,  6,  7,  8,  9, 10, 11])"
      ]
     },
     "execution_count": 35,
     "metadata": {},
     "output_type": "execute_result"
    }
   ],
   "source": [
    "np.arange(0, 12)"
   ]
  },
  {
   "cell_type": "code",
   "execution_count": 36,
   "id": "foreign-ebony",
   "metadata": {},
   "outputs": [
    {
     "data": {
      "text/plain": [
       "array([0., 0., 0., 0., 0.])"
      ]
     },
     "execution_count": 36,
     "metadata": {},
     "output_type": "execute_result"
    }
   ],
   "source": [
    "np.zeros(5)"
   ]
  },
  {
   "cell_type": "code",
   "execution_count": 39,
   "id": "developmental-current",
   "metadata": {},
   "outputs": [],
   "source": [
    "two_d_array = np.zeros( (3, 4) )"
   ]
  },
  {
   "cell_type": "code",
   "execution_count": 43,
   "id": "royal-indication",
   "metadata": {},
   "outputs": [
    {
     "data": {
      "text/plain": [
       "array([[0., 0., 0., 0.],\n",
       "       [0., 0., 0., 0.],\n",
       "       [0., 0., 0., 0.]])"
      ]
     },
     "execution_count": 43,
     "metadata": {},
     "output_type": "execute_result"
    }
   ],
   "source": [
    "two_d_array"
   ]
  },
  {
   "cell_type": "code",
   "execution_count": 42,
   "id": "express-research",
   "metadata": {},
   "outputs": [
    {
     "data": {
      "text/plain": [
       "0.0"
      ]
     },
     "execution_count": 42,
     "metadata": {},
     "output_type": "execute_result"
    }
   ],
   "source": [
    "two_d_array[1][2]"
   ]
  },
  {
   "cell_type": "code",
   "execution_count": 44,
   "id": "ultimate-spain",
   "metadata": {},
   "outputs": [
    {
     "data": {
      "text/plain": [
       "array([[1., 1., 1., 1., 1., 1.],\n",
       "       [1., 1., 1., 1., 1., 1.],\n",
       "       [1., 1., 1., 1., 1., 1.],\n",
       "       [1., 1., 1., 1., 1., 1.],\n",
       "       [1., 1., 1., 1., 1., 1.]])"
      ]
     },
     "execution_count": 44,
     "metadata": {},
     "output_type": "execute_result"
    }
   ],
   "source": [
    " np.ones( (5, 6) )"
   ]
  },
  {
   "cell_type": "code",
   "execution_count": 45,
   "id": "artistic-hormone",
   "metadata": {},
   "outputs": [
    {
     "data": {
      "text/plain": [
       "array([[1., 0., 0.],\n",
       "       [0., 1., 0.],\n",
       "       [0., 0., 1.]])"
      ]
     },
     "execution_count": 45,
     "metadata": {},
     "output_type": "execute_result"
    }
   ],
   "source": [
    "np.eye(3)"
   ]
  },
  {
   "cell_type": "code",
   "execution_count": 47,
   "id": "stuffed-organ",
   "metadata": {},
   "outputs": [],
   "source": [
    "np_matrix = np.array([[1, 2, 3], [4, 5,6 ], [7, 8, 9]])"
   ]
  },
  {
   "cell_type": "code",
   "execution_count": 48,
   "id": "optical-collect",
   "metadata": {},
   "outputs": [
    {
     "data": {
      "text/plain": [
       "array([[1, 2, 3],\n",
       "       [4, 5, 6],\n",
       "       [7, 8, 9]])"
      ]
     },
     "execution_count": 48,
     "metadata": {},
     "output_type": "execute_result"
    }
   ],
   "source": [
    "np_matrix"
   ]
  },
  {
   "cell_type": "code",
   "execution_count": 49,
   "id": "unsigned-entity",
   "metadata": {},
   "outputs": [
    {
     "data": {
      "text/plain": [
       "array([[1., 2., 3.],\n",
       "       [4., 5., 6.],\n",
       "       [7., 8., 9.]])"
      ]
     },
     "execution_count": 49,
     "metadata": {},
     "output_type": "execute_result"
    }
   ],
   "source": [
    "np.matmul( np.eye(3), np_matrix )"
   ]
  },
  {
   "cell_type": "code",
   "execution_count": 50,
   "id": "noticed-conviction",
   "metadata": {},
   "outputs": [
    {
     "data": {
      "text/plain": [
       "array([[ 2.,  2.,  3.],\n",
       "       [ 4.,  6.,  6.],\n",
       "       [ 7.,  8., 10.]])"
      ]
     },
     "execution_count": 50,
     "metadata": {},
     "output_type": "execute_result"
    }
   ],
   "source": [
    "np_matrix + np.eye(3)"
   ]
  },
  {
   "cell_type": "markdown",
   "id": "thick-attribute",
   "metadata": {},
   "source": [
    "## linspace"
   ]
  },
  {
   "cell_type": "code",
   "execution_count": 54,
   "id": "continuous-aquatic",
   "metadata": {},
   "outputs": [],
   "source": [
    "xx = np.linspace(0, 2*np.pi, 100)"
   ]
  },
  {
   "cell_type": "code",
   "execution_count": 55,
   "id": "composite-tolerance",
   "metadata": {},
   "outputs": [],
   "source": [
    "yy = np.sin(xx)"
   ]
  },
  {
   "cell_type": "code",
   "execution_count": 56,
   "id": "standing-valve",
   "metadata": {},
   "outputs": [
    {
     "data": {
      "text/plain": [
       "array([ 0.00000000e+00,  6.34239197e-02,  1.26592454e-01,  1.89251244e-01,\n",
       "        2.51147987e-01,  3.12033446e-01,  3.71662456e-01,  4.29794912e-01,\n",
       "        4.86196736e-01,  5.40640817e-01,  5.92907929e-01,  6.42787610e-01,\n",
       "        6.90079011e-01,  7.34591709e-01,  7.76146464e-01,  8.14575952e-01,\n",
       "        8.49725430e-01,  8.81453363e-01,  9.09631995e-01,  9.34147860e-01,\n",
       "        9.54902241e-01,  9.71811568e-01,  9.84807753e-01,  9.93838464e-01,\n",
       "        9.98867339e-01,  9.99874128e-01,  9.96854776e-01,  9.89821442e-01,\n",
       "        9.78802446e-01,  9.63842159e-01,  9.45000819e-01,  9.22354294e-01,\n",
       "        8.95993774e-01,  8.66025404e-01,  8.32569855e-01,  7.95761841e-01,\n",
       "        7.55749574e-01,  7.12694171e-01,  6.66769001e-01,  6.18158986e-01,\n",
       "        5.67059864e-01,  5.13677392e-01,  4.58226522e-01,  4.00930535e-01,\n",
       "        3.42020143e-01,  2.81732557e-01,  2.20310533e-01,  1.58001396e-01,\n",
       "        9.50560433e-02,  3.17279335e-02, -3.17279335e-02, -9.50560433e-02,\n",
       "       -1.58001396e-01, -2.20310533e-01, -2.81732557e-01, -3.42020143e-01,\n",
       "       -4.00930535e-01, -4.58226522e-01, -5.13677392e-01, -5.67059864e-01,\n",
       "       -6.18158986e-01, -6.66769001e-01, -7.12694171e-01, -7.55749574e-01,\n",
       "       -7.95761841e-01, -8.32569855e-01, -8.66025404e-01, -8.95993774e-01,\n",
       "       -9.22354294e-01, -9.45000819e-01, -9.63842159e-01, -9.78802446e-01,\n",
       "       -9.89821442e-01, -9.96854776e-01, -9.99874128e-01, -9.98867339e-01,\n",
       "       -9.93838464e-01, -9.84807753e-01, -9.71811568e-01, -9.54902241e-01,\n",
       "       -9.34147860e-01, -9.09631995e-01, -8.81453363e-01, -8.49725430e-01,\n",
       "       -8.14575952e-01, -7.76146464e-01, -7.34591709e-01, -6.90079011e-01,\n",
       "       -6.42787610e-01, -5.92907929e-01, -5.40640817e-01, -4.86196736e-01,\n",
       "       -4.29794912e-01, -3.71662456e-01, -3.12033446e-01, -2.51147987e-01,\n",
       "       -1.89251244e-01, -1.26592454e-01, -6.34239197e-02, -2.44929360e-16])"
      ]
     },
     "execution_count": 56,
     "metadata": {},
     "output_type": "execute_result"
    }
   ],
   "source": [
    "yy"
   ]
  },
  {
   "cell_type": "code",
   "execution_count": 57,
   "id": "boxed-funds",
   "metadata": {},
   "outputs": [
    {
     "data": {
      "text/plain": [
       "-0.9589242746631385"
      ]
     },
     "execution_count": 57,
     "metadata": {},
     "output_type": "execute_result"
    }
   ],
   "source": [
    "np.sin(5)"
   ]
  },
  {
   "cell_type": "code",
   "execution_count": 58,
   "id": "hungry-interaction",
   "metadata": {},
   "outputs": [
    {
     "data": {
      "text/plain": [
       "array([ 0.84147098, -0.95892427, -0.2794155 ])"
      ]
     },
     "execution_count": 58,
     "metadata": {},
     "output_type": "execute_result"
    }
   ],
   "source": [
    "np.sin( np.array([1, 5, 6]))"
   ]
  },
  {
   "cell_type": "markdown",
   "id": "major-catch",
   "metadata": {},
   "source": [
    "### Random numbers"
   ]
  },
  {
   "cell_type": "code",
   "execution_count": 59,
   "id": "regulation-delay",
   "metadata": {},
   "outputs": [
    {
     "data": {
      "text/plain": [
       "array([2.07233062e-01, 7.30769002e-01, 6.59791864e-01, 6.81025637e-01,\n",
       "       2.48557484e-01, 2.71871045e-01, 7.98990123e-01, 7.49208249e-01,\n",
       "       5.72233075e-01, 7.19896884e-01, 8.88027820e-03, 2.76608823e-04,\n",
       "       5.03071453e-02, 8.65511112e-01, 3.58309014e-01, 8.40501672e-01,\n",
       "       9.03427833e-01, 9.32651150e-01, 6.14676351e-01, 8.82393520e-01,\n",
       "       8.51672909e-01, 9.52241513e-01, 5.50925613e-01, 7.45574908e-01,\n",
       "       3.04163985e-01, 2.38570689e-01, 4.26198297e-01, 7.82322230e-01,\n",
       "       4.75883856e-01, 9.38394012e-01, 7.61078526e-01, 9.22307495e-01,\n",
       "       1.71856121e-01, 7.25176738e-03, 3.79195419e-01, 8.16633668e-01,\n",
       "       6.82256725e-01, 3.50835792e-01, 3.68318579e-01, 8.90676062e-01,\n",
       "       8.20226164e-01, 2.26176131e-01, 9.19472847e-01, 6.02745204e-01,\n",
       "       2.11978342e-01, 8.87075297e-01, 7.59906158e-01, 4.01817384e-01,\n",
       "       3.74450760e-01, 8.93435301e-01, 8.98109442e-01, 9.65878629e-01,\n",
       "       1.20312523e-01, 1.82925082e-01, 2.72745498e-01, 7.39754564e-01,\n",
       "       5.57839070e-01, 6.67503975e-01, 2.16857284e-01, 6.63893784e-01,\n",
       "       4.09747131e-01, 3.40808076e-02, 1.01181628e-02, 9.12219058e-01,\n",
       "       3.74225124e-01, 8.04637395e-01, 8.52360244e-01, 5.97064341e-01,\n",
       "       8.88816435e-01, 8.09814963e-01, 9.14308489e-01, 1.96980037e-01,\n",
       "       8.05097898e-01, 6.37443371e-01, 1.34046937e-01, 1.19829929e-01,\n",
       "       7.21598194e-01, 9.17381121e-01, 4.69820627e-01, 5.34643809e-01,\n",
       "       9.58422822e-01, 7.16295244e-01, 8.09719168e-01, 8.15377611e-01,\n",
       "       3.78187355e-01, 3.47214779e-01, 7.79976060e-01, 9.92379553e-01,\n",
       "       5.99993897e-02, 2.69819447e-01, 6.19284159e-01, 2.79860862e-01,\n",
       "       5.56479749e-01, 4.21521128e-01, 1.93822309e-01, 9.18113469e-01,\n",
       "       8.89288071e-01, 3.68613760e-01, 8.88587445e-01, 7.13729877e-02])"
      ]
     },
     "execution_count": 59,
     "metadata": {},
     "output_type": "execute_result"
    }
   ],
   "source": [
    "rand_vec = np.random.rand(100)\n",
    "rand_vec"
   ]
  },
  {
   "cell_type": "code",
   "execution_count": 60,
   "id": "graphic-drive",
   "metadata": {},
   "outputs": [
    {
     "data": {
      "text/plain": [
       "array([[0.8349315 , 0.99580634, 0.84686293, 0.10481451, 0.40017336],\n",
       "       [0.81453703, 0.51849209, 0.33604286, 0.98237668, 0.17386774],\n",
       "       [0.38914509, 0.74001759, 0.24992495, 0.31066586, 0.7993317 ],\n",
       "       [0.90880565, 0.60182417, 0.21522295, 0.06798405, 0.85852678],\n",
       "       [0.22272768, 0.70482772, 0.51398234, 0.34348099, 0.41894107]])"
      ]
     },
     "execution_count": 60,
     "metadata": {},
     "output_type": "execute_result"
    }
   ],
   "source": [
    "rand_matrix = np.random.rand(5, 5)\n",
    "rand_matrix"
   ]
  },
  {
   "cell_type": "code",
   "execution_count": 61,
   "id": "occupied-dominant",
   "metadata": {},
   "outputs": [
    {
     "data": {
      "text/plain": [
       "array([[ 1.04328029,  1.46487476,  0.43344817, -1.41157425, -0.65185633],\n",
       "       [-1.73220232, -1.08918884, -0.83809476, -0.08218435,  0.3420978 ],\n",
       "       [ 0.2142321 , -0.689139  ,  2.96929339,  0.6567088 ,  0.45753991],\n",
       "       [ 1.00418736, -1.8381635 ,  0.09898517,  0.47093167,  0.61791758],\n",
       "       [ 0.63931784,  1.42934777, -0.47613175,  0.60120961, -0.61932642]])"
      ]
     },
     "execution_count": 61,
     "metadata": {},
     "output_type": "execute_result"
    }
   ],
   "source": [
    "np.random.randn(5, 5)"
   ]
  },
  {
   "cell_type": "code",
   "execution_count": 62,
   "id": "smaller-musical",
   "metadata": {},
   "outputs": [
    {
     "data": {
      "text/plain": [
       "array([ 7.82899038, 11.67320934, -2.78428661,  3.479198  ,  7.94668005,\n",
       "        8.08610305,  0.98817602, -0.30634372, -1.19914283, 11.47233162])"
      ]
     },
     "execution_count": 62,
     "metadata": {},
     "output_type": "execute_result"
    }
   ],
   "source": [
    "5 + 5 * np.random.randn(10)"
   ]
  },
  {
   "cell_type": "code",
   "execution_count": 65,
   "id": "metric-campus",
   "metadata": {},
   "outputs": [],
   "source": [
    "np_vec = np.array([x**3 for x in range(10)])"
   ]
  },
  {
   "cell_type": "code",
   "execution_count": 66,
   "id": "supposed-martin",
   "metadata": {
    "scrolled": true
   },
   "outputs": [
    {
     "data": {
      "text/plain": [
       "array([  0,   1,   8,  27,  64, 125, 216, 343, 512, 729])"
      ]
     },
     "execution_count": 66,
     "metadata": {},
     "output_type": "execute_result"
    }
   ],
   "source": [
    "np_vec"
   ]
  },
  {
   "cell_type": "code",
   "execution_count": 67,
   "id": "derived-fifty",
   "metadata": {},
   "outputs": [],
   "source": [
    "rand_int = np.random.randint(0, len(np_vec), 100)"
   ]
  },
  {
   "cell_type": "code",
   "execution_count": 68,
   "id": "conditional-whale",
   "metadata": {},
   "outputs": [
    {
     "data": {
      "text/plain": [
       "array([3, 1, 7, 3, 5, 0, 5, 7, 2, 4, 7, 0, 7, 1, 5, 0, 0, 1, 3, 9, 5, 9,\n",
       "       9, 6, 4, 8, 0, 5, 9, 5, 4, 9, 1, 2, 5, 0, 9, 6, 0, 9, 5, 6, 3, 9,\n",
       "       4, 7, 1, 6, 7, 6, 8, 1, 3, 8, 7, 0, 0, 5, 1, 6, 2, 0, 6, 1, 5, 7,\n",
       "       0, 5, 2, 4, 9, 7, 5, 9, 5, 7, 7, 5, 7, 2, 2, 4, 3, 5, 0, 8, 3, 8,\n",
       "       6, 0, 1, 7, 9, 2, 4, 2, 4, 5, 9, 3])"
      ]
     },
     "execution_count": 68,
     "metadata": {},
     "output_type": "execute_result"
    }
   ],
   "source": [
    "rand_int"
   ]
  },
  {
   "cell_type": "code",
   "execution_count": 69,
   "id": "mathematical-tokyo",
   "metadata": {},
   "outputs": [
    {
     "data": {
      "text/plain": [
       "array([ 27,   1, 343,  27, 125,   0, 125, 343,   8,  64, 343,   0, 343,\n",
       "         1, 125,   0,   0,   1,  27, 729, 125, 729, 729, 216,  64, 512,\n",
       "         0, 125, 729, 125,  64, 729,   1,   8, 125,   0, 729, 216,   0,\n",
       "       729, 125, 216,  27, 729,  64, 343,   1, 216, 343, 216, 512,   1,\n",
       "        27, 512, 343,   0,   0, 125,   1, 216,   8,   0, 216,   1, 125,\n",
       "       343,   0, 125,   8,  64, 729, 343, 125, 729, 125, 343, 343, 125,\n",
       "       343,   8,   8,  64,  27, 125,   0, 512,  27, 512, 216,   0,   1,\n",
       "       343, 729,   8,  64,   8,  64, 125, 729,  27])"
      ]
     },
     "execution_count": 69,
     "metadata": {},
     "output_type": "execute_result"
    }
   ],
   "source": [
    "np_vec[rand_int]"
   ]
  },
  {
   "cell_type": "markdown",
   "id": "liked-yeast",
   "metadata": {},
   "source": [
    "## Numpy methods and attributes"
   ]
  },
  {
   "cell_type": "code",
   "execution_count": 70,
   "id": "civic-syndicate",
   "metadata": {},
   "outputs": [
    {
     "data": {
      "text/plain": [
       "array([  0,   1,   8,  27,  64, 125, 216, 343, 512, 729])"
      ]
     },
     "execution_count": 70,
     "metadata": {},
     "output_type": "execute_result"
    }
   ],
   "source": [
    "np_vec"
   ]
  },
  {
   "cell_type": "code",
   "execution_count": 71,
   "id": "hispanic-league",
   "metadata": {},
   "outputs": [
    {
     "data": {
      "text/plain": [
       "array([[1, 2, 3],\n",
       "       [4, 5, 6],\n",
       "       [7, 8, 9]])"
      ]
     },
     "execution_count": 71,
     "metadata": {},
     "output_type": "execute_result"
    }
   ],
   "source": [
    "np_matrix"
   ]
  },
  {
   "cell_type": "code",
   "execution_count": 72,
   "id": "humanitarian-society",
   "metadata": {},
   "outputs": [
    {
     "data": {
      "text/plain": [
       "10"
      ]
     },
     "execution_count": 72,
     "metadata": {},
     "output_type": "execute_result"
    }
   ],
   "source": [
    "len(np_vec)"
   ]
  },
  {
   "cell_type": "code",
   "execution_count": 73,
   "id": "useful-publication",
   "metadata": {},
   "outputs": [
    {
     "data": {
      "text/plain": [
       "10"
      ]
     },
     "execution_count": 73,
     "metadata": {},
     "output_type": "execute_result"
    }
   ],
   "source": [
    "np_vec.size"
   ]
  },
  {
   "cell_type": "code",
   "execution_count": 74,
   "id": "nutritional-begin",
   "metadata": {},
   "outputs": [
    {
     "data": {
      "text/plain": [
       "3"
      ]
     },
     "execution_count": 74,
     "metadata": {},
     "output_type": "execute_result"
    }
   ],
   "source": [
    "len(np_matrix)"
   ]
  },
  {
   "cell_type": "code",
   "execution_count": 75,
   "id": "standard-catholic",
   "metadata": {},
   "outputs": [
    {
     "data": {
      "text/plain": [
       "9"
      ]
     },
     "execution_count": 75,
     "metadata": {},
     "output_type": "execute_result"
    }
   ],
   "source": [
    "np_matrix.size"
   ]
  },
  {
   "cell_type": "code",
   "execution_count": 76,
   "id": "technical-muslim",
   "metadata": {},
   "outputs": [
    {
     "data": {
      "text/plain": [
       "array([[1],\n",
       "       [2],\n",
       "       [3],\n",
       "       [4],\n",
       "       [5],\n",
       "       [6],\n",
       "       [7],\n",
       "       [8],\n",
       "       [9]])"
      ]
     },
     "execution_count": 76,
     "metadata": {},
     "output_type": "execute_result"
    }
   ],
   "source": [
    "np_matrix.reshape(9, 1)"
   ]
  },
  {
   "cell_type": "code",
   "execution_count": 78,
   "id": "reserved-apollo",
   "metadata": {},
   "outputs": [
    {
     "data": {
      "text/plain": [
       "array([[1, 2, 3, 4, 5, 6, 7, 8, 9]])"
      ]
     },
     "execution_count": 78,
     "metadata": {},
     "output_type": "execute_result"
    }
   ],
   "source": [
    "np_matrix.reshape(1, 9)"
   ]
  },
  {
   "cell_type": "code",
   "execution_count": 79,
   "id": "unnecessary-commons",
   "metadata": {},
   "outputs": [
    {
     "data": {
      "text/plain": [
       "array([[1, 2, 3],\n",
       "       [4, 5, 6],\n",
       "       [7, 8, 9]])"
      ]
     },
     "execution_count": 79,
     "metadata": {},
     "output_type": "execute_result"
    }
   ],
   "source": [
    "np_matrix"
   ]
  },
  {
   "cell_type": "code",
   "execution_count": 80,
   "id": "alternate-torture",
   "metadata": {},
   "outputs": [
    {
     "data": {
      "text/plain": [
       "array([[1],\n",
       "       [2],\n",
       "       [3],\n",
       "       [4],\n",
       "       [5],\n",
       "       [6],\n",
       "       [7],\n",
       "       [8],\n",
       "       [9]])"
      ]
     },
     "execution_count": 80,
     "metadata": {},
     "output_type": "execute_result"
    }
   ],
   "source": [
    "np_matrix.reshape(-1, 1)"
   ]
  },
  {
   "cell_type": "code",
   "execution_count": 83,
   "id": "threaded-highlight",
   "metadata": {},
   "outputs": [
    {
     "data": {
      "text/plain": [
       "array([[1, 2, 3],\n",
       "       [4, 5, 6],\n",
       "       [7, 8, 9]])"
      ]
     },
     "execution_count": 83,
     "metadata": {},
     "output_type": "execute_result"
    }
   ],
   "source": [
    "np_matrix.reshape(3, -1)"
   ]
  },
  {
   "cell_type": "code",
   "execution_count": 84,
   "id": "invalid-synthesis",
   "metadata": {},
   "outputs": [
    {
     "data": {
      "text/plain": [
       "array([[1, 2, 3],\n",
       "       [4, 5, 6],\n",
       "       [7, 8, 9]])"
      ]
     },
     "execution_count": 84,
     "metadata": {},
     "output_type": "execute_result"
    }
   ],
   "source": [
    "np_matrix"
   ]
  },
  {
   "cell_type": "code",
   "execution_count": 85,
   "id": "voluntary-chester",
   "metadata": {},
   "outputs": [
    {
     "data": {
      "text/plain": [
       "9"
      ]
     },
     "execution_count": 85,
     "metadata": {},
     "output_type": "execute_result"
    }
   ],
   "source": [
    "np_matrix.max()"
   ]
  },
  {
   "cell_type": "code",
   "execution_count": 86,
   "id": "moving-trust",
   "metadata": {},
   "outputs": [
    {
     "data": {
      "text/plain": [
       "1"
      ]
     },
     "execution_count": 86,
     "metadata": {},
     "output_type": "execute_result"
    }
   ],
   "source": [
    "np_matrix.min()"
   ]
  },
  {
   "cell_type": "code",
   "execution_count": 87,
   "id": "alone-difference",
   "metadata": {},
   "outputs": [
    {
     "data": {
      "text/plain": [
       "8"
      ]
     },
     "execution_count": 87,
     "metadata": {},
     "output_type": "execute_result"
    }
   ],
   "source": [
    "np_matrix.argmax()"
   ]
  },
  {
   "cell_type": "code",
   "execution_count": 88,
   "id": "covered-april",
   "metadata": {},
   "outputs": [
    {
     "data": {
      "text/plain": [
       "0"
      ]
     },
     "execution_count": 88,
     "metadata": {},
     "output_type": "execute_result"
    }
   ],
   "source": [
    "np_matrix.argmin()"
   ]
  },
  {
   "cell_type": "code",
   "execution_count": 90,
   "id": "loving-ethnic",
   "metadata": {},
   "outputs": [
    {
     "data": {
      "text/plain": [
       "(3, 3)"
      ]
     },
     "execution_count": 90,
     "metadata": {},
     "output_type": "execute_result"
    }
   ],
   "source": [
    "np_matrix.shape"
   ]
  },
  {
   "cell_type": "code",
   "execution_count": 91,
   "id": "shaped-clause",
   "metadata": {},
   "outputs": [
    {
     "data": {
      "text/plain": [
       "array([  0,   1,   8,  27,  64, 125, 216, 343, 512, 729])"
      ]
     },
     "execution_count": 91,
     "metadata": {},
     "output_type": "execute_result"
    }
   ],
   "source": [
    "np_vec"
   ]
  },
  {
   "cell_type": "code",
   "execution_count": 92,
   "id": "several-concentration",
   "metadata": {},
   "outputs": [
    {
     "data": {
      "text/plain": [
       "(10,)"
      ]
     },
     "execution_count": 92,
     "metadata": {},
     "output_type": "execute_result"
    }
   ],
   "source": [
    "np_vec.shape"
   ]
  },
  {
   "cell_type": "code",
   "execution_count": 94,
   "id": "about-atlanta",
   "metadata": {},
   "outputs": [
    {
     "data": {
      "text/plain": [
       "(1, 10)"
      ]
     },
     "execution_count": 94,
     "metadata": {},
     "output_type": "execute_result"
    }
   ],
   "source": [
    "np_vec.reshape(1, -1).shape"
   ]
  },
  {
   "cell_type": "code",
   "execution_count": 95,
   "id": "forward-debate",
   "metadata": {},
   "outputs": [
    {
     "data": {
      "text/plain": [
       "array([[  0,   1,   8,  27,  64, 125, 216, 343, 512, 729]])"
      ]
     },
     "execution_count": 95,
     "metadata": {},
     "output_type": "execute_result"
    }
   ],
   "source": [
    "np_vec.reshape(1, -1) # Matrix"
   ]
  },
  {
   "cell_type": "code",
   "execution_count": 96,
   "id": "dutch-affiliation",
   "metadata": {},
   "outputs": [
    {
     "data": {
      "text/plain": [
       "array([  0,   1,   8,  27,  64, 125, 216, 343, 512, 729])"
      ]
     },
     "execution_count": 96,
     "metadata": {},
     "output_type": "execute_result"
    }
   ],
   "source": [
    "np_vec # Vector"
   ]
  },
  {
   "cell_type": "code",
   "execution_count": 97,
   "id": "comprehensive-permit",
   "metadata": {},
   "outputs": [
    {
     "data": {
      "text/plain": [
       "dtype('int64')"
      ]
     },
     "execution_count": 97,
     "metadata": {},
     "output_type": "execute_result"
    }
   ],
   "source": [
    "np_matrix.dtype"
   ]
  },
  {
   "cell_type": "code",
   "execution_count": null,
   "id": "practical-assessment",
   "metadata": {},
   "outputs": [],
   "source": []
  }
 ],
 "metadata": {
  "kernelspec": {
   "display_name": "Python 3",
   "language": "python",
   "name": "python3"
  },
  "language_info": {
   "codemirror_mode": {
    "name": "ipython",
    "version": 3
   },
   "file_extension": ".py",
   "mimetype": "text/x-python",
   "name": "python",
   "nbconvert_exporter": "python",
   "pygments_lexer": "ipython3",
   "version": "3.9.2"
  }
 },
 "nbformat": 4,
 "nbformat_minor": 5
}
