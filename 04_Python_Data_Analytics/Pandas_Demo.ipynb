{
 "cells": [
  {
   "cell_type": "markdown",
   "id": "certified-silicon",
   "metadata": {},
   "source": [
    "# Pandas\n",
    "## Series\n",
    "### Basics"
   ]
  },
  {
   "cell_type": "code",
   "execution_count": 1,
   "id": "sexual-phrase",
   "metadata": {},
   "outputs": [],
   "source": [
    "import numpy as np\n",
    "import pandas as pd"
   ]
  },
  {
   "cell_type": "code",
   "execution_count": 3,
   "id": "short-charleston",
   "metadata": {},
   "outputs": [
    {
     "data": {
      "text/plain": [
       "[0, 1, 4, 9, 16, 25, 36, 49, 64, 81]"
      ]
     },
     "execution_count": 3,
     "metadata": {},
     "output_type": "execute_result"
    }
   ],
   "source": [
    "lst = [i**2 for i in range(10)]\n",
    "lst"
   ]
  },
  {
   "cell_type": "code",
   "execution_count": 4,
   "id": "sporting-selection",
   "metadata": {},
   "outputs": [
    {
     "data": {
      "text/plain": [
       "list"
      ]
     },
     "execution_count": 4,
     "metadata": {},
     "output_type": "execute_result"
    }
   ],
   "source": [
    "type(lst)"
   ]
  },
  {
   "cell_type": "code",
   "execution_count": 5,
   "id": "empirical-queensland",
   "metadata": {},
   "outputs": [
    {
     "data": {
      "text/plain": [
       "0     0\n",
       "1     1\n",
       "2     4\n",
       "3     9\n",
       "4    16\n",
       "5    25\n",
       "6    36\n",
       "7    49\n",
       "8    64\n",
       "9    81\n",
       "dtype: int64"
      ]
     },
     "execution_count": 5,
     "metadata": {},
     "output_type": "execute_result"
    }
   ],
   "source": [
    "pd_series = pd.Series(lst)\n",
    "pd_series"
   ]
  },
  {
   "cell_type": "code",
   "execution_count": 6,
   "id": "civil-procedure",
   "metadata": {},
   "outputs": [
    {
     "data": {
      "text/plain": [
       "pandas.core.series.Series"
      ]
     },
     "execution_count": 6,
     "metadata": {},
     "output_type": "execute_result"
    }
   ],
   "source": [
    "type(pd_series)"
   ]
  },
  {
   "cell_type": "code",
   "execution_count": 7,
   "id": "pressed-caribbean",
   "metadata": {},
   "outputs": [
    {
     "data": {
      "text/plain": [
       "25"
      ]
     },
     "execution_count": 7,
     "metadata": {},
     "output_type": "execute_result"
    }
   ],
   "source": [
    "lst[5]"
   ]
  },
  {
   "cell_type": "code",
   "execution_count": 8,
   "id": "perceived-insert",
   "metadata": {},
   "outputs": [
    {
     "data": {
      "text/plain": [
       "25"
      ]
     },
     "execution_count": 8,
     "metadata": {},
     "output_type": "execute_result"
    }
   ],
   "source": [
    "pd_series[5]"
   ]
  },
  {
   "cell_type": "code",
   "execution_count": 11,
   "id": "local-guarantee",
   "metadata": {},
   "outputs": [],
   "source": [
    "number_names = [\"zero\", \"one\", \"two\", \"three\", \"four\", \"five\", \"six\", \"seven\", \"eight\", \"nine\"]"
   ]
  },
  {
   "cell_type": "code",
   "execution_count": 14,
   "id": "oriented-guatemala",
   "metadata": {},
   "outputs": [
    {
     "data": {
      "text/plain": [
       "zero      0\n",
       "one       1\n",
       "two       4\n",
       "three     9\n",
       "four     16\n",
       "five     25\n",
       "six      36\n",
       "seven    49\n",
       "eight    64\n",
       "nine     81\n",
       "dtype: int64"
      ]
     },
     "execution_count": 14,
     "metadata": {},
     "output_type": "execute_result"
    }
   ],
   "source": [
    "named_series = pd.Series(lst, number_names)\n",
    "named_series"
   ]
  },
  {
   "cell_type": "code",
   "execution_count": 15,
   "id": "physical-debate",
   "metadata": {},
   "outputs": [
    {
     "data": {
      "text/plain": [
       "25"
      ]
     },
     "execution_count": 15,
     "metadata": {},
     "output_type": "execute_result"
    }
   ],
   "source": [
    "named_series[\"five\"]"
   ]
  },
  {
   "cell_type": "code",
   "execution_count": 16,
   "id": "political-judges",
   "metadata": {},
   "outputs": [
    {
     "data": {
      "text/plain": [
       "25"
      ]
     },
     "execution_count": 16,
     "metadata": {},
     "output_type": "execute_result"
    }
   ],
   "source": [
    "named_series[5]"
   ]
  },
  {
   "cell_type": "code",
   "execution_count": 18,
   "id": "cubic-graduation",
   "metadata": {},
   "outputs": [
    {
     "data": {
      "text/plain": [
       "array([0, 2, 4, 6, 8])"
      ]
     },
     "execution_count": 18,
     "metadata": {},
     "output_type": "execute_result"
    }
   ],
   "source": [
    "np_arr = np.arange(0,9,2)\n",
    "np_arr"
   ]
  },
  {
   "cell_type": "code",
   "execution_count": 19,
   "id": "breathing-frost",
   "metadata": {},
   "outputs": [
    {
     "data": {
      "text/plain": [
       "0    0\n",
       "1    2\n",
       "2    4\n",
       "3    6\n",
       "4    8\n",
       "dtype: int64"
      ]
     },
     "execution_count": 19,
     "metadata": {},
     "output_type": "execute_result"
    }
   ],
   "source": [
    "pd.Series(np_arr)"
   ]
  },
  {
   "cell_type": "code",
   "execution_count": 20,
   "id": "korean-sitting",
   "metadata": {},
   "outputs": [
    {
     "data": {
      "text/plain": [
       "{'a': 1, 'b': 2, 'c': 3}"
      ]
     },
     "execution_count": 20,
     "metadata": {},
     "output_type": "execute_result"
    }
   ],
   "source": [
    "dictionary = {\"a\":1, \"b\":2, \"c\":3}\n",
    "dictionary"
   ]
  },
  {
   "cell_type": "code",
   "execution_count": 23,
   "id": "friendly-handling",
   "metadata": {},
   "outputs": [
    {
     "data": {
      "text/plain": [
       "a    1\n",
       "b    2\n",
       "c    3\n",
       "dtype: int64"
      ]
     },
     "execution_count": 23,
     "metadata": {},
     "output_type": "execute_result"
    }
   ],
   "source": [
    "dict_series = pd.Series(dictionary)\n",
    "dict_series"
   ]
  },
  {
   "cell_type": "code",
   "execution_count": 24,
   "id": "sharing-apollo",
   "metadata": {},
   "outputs": [
    {
     "data": {
      "text/plain": [
       "1"
      ]
     },
     "execution_count": 24,
     "metadata": {},
     "output_type": "execute_result"
    }
   ],
   "source": [
    "dict_series[\"a\"]"
   ]
  },
  {
   "cell_type": "code",
   "execution_count": 25,
   "id": "comfortable-height",
   "metadata": {},
   "outputs": [
    {
     "data": {
      "text/plain": [
       "1"
      ]
     },
     "execution_count": 25,
     "metadata": {},
     "output_type": "execute_result"
    }
   ],
   "source": [
    "dictionary[\"a\"]"
   ]
  },
  {
   "cell_type": "markdown",
   "id": "frozen-bones",
   "metadata": {},
   "source": [
    "### Calculations"
   ]
  },
  {
   "cell_type": "code",
   "execution_count": 26,
   "id": "worse-hazard",
   "metadata": {},
   "outputs": [],
   "source": [
    "#import numpy as np\n",
    "#import pandas as pd"
   ]
  },
  {
   "cell_type": "code",
   "execution_count": 27,
   "id": "central-flavor",
   "metadata": {},
   "outputs": [],
   "source": [
    "basket_1 = {\"apples\":3, \"pears\":2, \"bananas\":1}\n",
    "basket_2 = {\"apples\":5, \"bananas\":2, \"grapes\":10}"
   ]
  },
  {
   "cell_type": "code",
   "execution_count": 28,
   "id": "driving-vienna",
   "metadata": {},
   "outputs": [],
   "source": [
    "basket_series1 = pd.Series(basket_1)\n",
    "basket_series2 = pd.Series(basket_2)"
   ]
  },
  {
   "cell_type": "code",
   "execution_count": 30,
   "id": "angry-luxury",
   "metadata": {},
   "outputs": [
    {
     "data": {
      "text/plain": [
       "apples     3\n",
       "pears      2\n",
       "bananas    1\n",
       "dtype: int64"
      ]
     },
     "execution_count": 30,
     "metadata": {},
     "output_type": "execute_result"
    }
   ],
   "source": [
    "basket_series1"
   ]
  },
  {
   "cell_type": "code",
   "execution_count": 31,
   "id": "efficient-morgan",
   "metadata": {},
   "outputs": [
    {
     "data": {
      "text/plain": [
       "apples     8.0\n",
       "bananas    3.0\n",
       "grapes     NaN\n",
       "pears      NaN\n",
       "dtype: float64"
      ]
     },
     "execution_count": 31,
     "metadata": {},
     "output_type": "execute_result"
    }
   ],
   "source": [
    "basket_series1 + basket_series2"
   ]
  },
  {
   "cell_type": "code",
   "execution_count": 33,
   "id": "orange-providence",
   "metadata": {},
   "outputs": [],
   "source": [
    "basket_3 = {\"apples\":3, \"pears\":2, \"bananas\":1, \"grapes\":100}\n",
    "basket_4 = {\"apples\":5, \"bananas\":2, \"grapes\":10, \"pears\":4}"
   ]
  },
  {
   "cell_type": "code",
   "execution_count": 34,
   "id": "persistent-internship",
   "metadata": {},
   "outputs": [],
   "source": [
    "basket_series3 = pd.Series(basket_3)\n",
    "basket_series4 = pd.Series(basket_4)"
   ]
  },
  {
   "cell_type": "code",
   "execution_count": 35,
   "id": "smart-interim",
   "metadata": {},
   "outputs": [
    {
     "data": {
      "text/plain": [
       "apples       8\n",
       "bananas      3\n",
       "grapes     110\n",
       "pears        6\n",
       "dtype: int64"
      ]
     },
     "execution_count": 35,
     "metadata": {},
     "output_type": "execute_result"
    }
   ],
   "source": [
    "basket_series3 + basket_series4"
   ]
  },
  {
   "cell_type": "markdown",
   "id": "strong-cookie",
   "metadata": {},
   "source": [
    "## DataFrames"
   ]
  },
  {
   "cell_type": "markdown",
   "id": "armed-boating",
   "metadata": {},
   "source": [
    "### Creating a random DataFrame (data is synthetic!)"
   ]
  },
  {
   "cell_type": "code",
   "execution_count": 37,
   "id": "continued-google",
   "metadata": {},
   "outputs": [],
   "source": [
    "cols = [\"Cars\", \"Bicycles\", \"Scooter\", \"Powerplants\", \"Flower\"]\n",
    "rows = [\"Germany\", \"China\", \"France\", \"USA\", \"Iceland\"]"
   ]
  },
  {
   "cell_type": "code",
   "execution_count": 38,
   "id": "analyzed-probe",
   "metadata": {},
   "outputs": [
    {
     "data": {
      "text/plain": [
       "array([[149455, 843869, 817887, 256802, 804946],\n",
       "       [993542, 952183,   1729, 376470, 611754],\n",
       "       [488843, 957826, 897808, 748764,  20518],\n",
       "       [199580, 309767, 734203, 134947,  56205],\n",
       "       [  7767, 163751, 126818, 162259, 928317]])"
      ]
     },
     "execution_count": 38,
     "metadata": {},
     "output_type": "execute_result"
    }
   ],
   "source": [
    "data = np.random.randint(1, 1000000, (len(rows), len(cols)))\n",
    "data"
   ]
  },
  {
   "cell_type": "code",
   "execution_count": 39,
   "id": "fiscal-emergency",
   "metadata": {},
   "outputs": [
    {
     "data": {
      "text/html": [
       "<div>\n",
       "<style scoped>\n",
       "    .dataframe tbody tr th:only-of-type {\n",
       "        vertical-align: middle;\n",
       "    }\n",
       "\n",
       "    .dataframe tbody tr th {\n",
       "        vertical-align: top;\n",
       "    }\n",
       "\n",
       "    .dataframe thead th {\n",
       "        text-align: right;\n",
       "    }\n",
       "</style>\n",
       "<table border=\"1\" class=\"dataframe\">\n",
       "  <thead>\n",
       "    <tr style=\"text-align: right;\">\n",
       "      <th></th>\n",
       "      <th>Cars</th>\n",
       "      <th>Bicycles</th>\n",
       "      <th>Scooter</th>\n",
       "      <th>Powerplants</th>\n",
       "      <th>Flower</th>\n",
       "    </tr>\n",
       "  </thead>\n",
       "  <tbody>\n",
       "    <tr>\n",
       "      <th>Germany</th>\n",
       "      <td>149455</td>\n",
       "      <td>843869</td>\n",
       "      <td>817887</td>\n",
       "      <td>256802</td>\n",
       "      <td>804946</td>\n",
       "    </tr>\n",
       "    <tr>\n",
       "      <th>China</th>\n",
       "      <td>993542</td>\n",
       "      <td>952183</td>\n",
       "      <td>1729</td>\n",
       "      <td>376470</td>\n",
       "      <td>611754</td>\n",
       "    </tr>\n",
       "    <tr>\n",
       "      <th>France</th>\n",
       "      <td>488843</td>\n",
       "      <td>957826</td>\n",
       "      <td>897808</td>\n",
       "      <td>748764</td>\n",
       "      <td>20518</td>\n",
       "    </tr>\n",
       "    <tr>\n",
       "      <th>USA</th>\n",
       "      <td>199580</td>\n",
       "      <td>309767</td>\n",
       "      <td>734203</td>\n",
       "      <td>134947</td>\n",
       "      <td>56205</td>\n",
       "    </tr>\n",
       "    <tr>\n",
       "      <th>Iceland</th>\n",
       "      <td>7767</td>\n",
       "      <td>163751</td>\n",
       "      <td>126818</td>\n",
       "      <td>162259</td>\n",
       "      <td>928317</td>\n",
       "    </tr>\n",
       "  </tbody>\n",
       "</table>\n",
       "</div>"
      ],
      "text/plain": [
       "           Cars  Bicycles  Scooter  Powerplants  Flower\n",
       "Germany  149455    843869   817887       256802  804946\n",
       "China    993542    952183     1729       376470  611754\n",
       "France   488843    957826   897808       748764   20518\n",
       "USA      199580    309767   734203       134947   56205\n",
       "Iceland    7767    163751   126818       162259  928317"
      ]
     },
     "execution_count": 39,
     "metadata": {},
     "output_type": "execute_result"
    }
   ],
   "source": [
    "countries_df = pd.DataFrame(data, index=rows, columns=cols)\n",
    "countries_df"
   ]
  },
  {
   "cell_type": "markdown",
   "id": "jewish-anthony",
   "metadata": {},
   "source": [
    "### Accessing values"
   ]
  },
  {
   "cell_type": "code",
   "execution_count": 40,
   "id": "urban-puppy",
   "metadata": {},
   "outputs": [
    {
     "data": {
      "text/plain": [
       "Germany    149455\n",
       "China      993542\n",
       "France     488843\n",
       "USA        199580\n",
       "Iceland      7767\n",
       "Name: Cars, dtype: int64"
      ]
     },
     "execution_count": 40,
     "metadata": {},
     "output_type": "execute_result"
    }
   ],
   "source": [
    "countries_df[\"Cars\"]"
   ]
  },
  {
   "cell_type": "code",
   "execution_count": 41,
   "id": "bigger-soundtrack",
   "metadata": {},
   "outputs": [
    {
     "data": {
      "text/plain": [
       "pandas.core.series.Series"
      ]
     },
     "execution_count": 41,
     "metadata": {},
     "output_type": "execute_result"
    }
   ],
   "source": [
    "type(countries_df[\"Cars\"])"
   ]
  },
  {
   "cell_type": "code",
   "execution_count": 42,
   "id": "sensitive-arbor",
   "metadata": {},
   "outputs": [
    {
     "data": {
      "text/plain": [
       "149455"
      ]
     },
     "execution_count": 42,
     "metadata": {},
     "output_type": "execute_result"
    }
   ],
   "source": [
    "countries_df[\"Cars\"][\"Germany\"]"
   ]
  },
  {
   "cell_type": "code",
   "execution_count": 44,
   "id": "applicable-catholic",
   "metadata": {},
   "outputs": [
    {
     "data": {
      "text/html": [
       "<div>\n",
       "<style scoped>\n",
       "    .dataframe tbody tr th:only-of-type {\n",
       "        vertical-align: middle;\n",
       "    }\n",
       "\n",
       "    .dataframe tbody tr th {\n",
       "        vertical-align: top;\n",
       "    }\n",
       "\n",
       "    .dataframe thead th {\n",
       "        text-align: right;\n",
       "    }\n",
       "</style>\n",
       "<table border=\"1\" class=\"dataframe\">\n",
       "  <thead>\n",
       "    <tr style=\"text-align: right;\">\n",
       "      <th></th>\n",
       "      <th>Cars</th>\n",
       "      <th>Bicycles</th>\n",
       "    </tr>\n",
       "  </thead>\n",
       "  <tbody>\n",
       "    <tr>\n",
       "      <th>Germany</th>\n",
       "      <td>149455</td>\n",
       "      <td>843869</td>\n",
       "    </tr>\n",
       "    <tr>\n",
       "      <th>China</th>\n",
       "      <td>993542</td>\n",
       "      <td>952183</td>\n",
       "    </tr>\n",
       "    <tr>\n",
       "      <th>France</th>\n",
       "      <td>488843</td>\n",
       "      <td>957826</td>\n",
       "    </tr>\n",
       "    <tr>\n",
       "      <th>USA</th>\n",
       "      <td>199580</td>\n",
       "      <td>309767</td>\n",
       "    </tr>\n",
       "    <tr>\n",
       "      <th>Iceland</th>\n",
       "      <td>7767</td>\n",
       "      <td>163751</td>\n",
       "    </tr>\n",
       "  </tbody>\n",
       "</table>\n",
       "</div>"
      ],
      "text/plain": [
       "           Cars  Bicycles\n",
       "Germany  149455    843869\n",
       "China    993542    952183\n",
       "France   488843    957826\n",
       "USA      199580    309767\n",
       "Iceland    7767    163751"
      ]
     },
     "execution_count": 44,
     "metadata": {},
     "output_type": "execute_result"
    }
   ],
   "source": [
    "countries_df[[\"Cars\", \"Bicycles\"]]"
   ]
  },
  {
   "cell_type": "code",
   "execution_count": 45,
   "id": "second-milan",
   "metadata": {},
   "outputs": [
    {
     "data": {
      "text/html": [
       "<div>\n",
       "<style scoped>\n",
       "    .dataframe tbody tr th:only-of-type {\n",
       "        vertical-align: middle;\n",
       "    }\n",
       "\n",
       "    .dataframe tbody tr th {\n",
       "        vertical-align: top;\n",
       "    }\n",
       "\n",
       "    .dataframe thead th {\n",
       "        text-align: right;\n",
       "    }\n",
       "</style>\n",
       "<table border=\"1\" class=\"dataframe\">\n",
       "  <thead>\n",
       "    <tr style=\"text-align: right;\">\n",
       "      <th></th>\n",
       "      <th>Cars</th>\n",
       "    </tr>\n",
       "  </thead>\n",
       "  <tbody>\n",
       "    <tr>\n",
       "      <th>Germany</th>\n",
       "      <td>149455</td>\n",
       "    </tr>\n",
       "    <tr>\n",
       "      <th>China</th>\n",
       "      <td>993542</td>\n",
       "    </tr>\n",
       "    <tr>\n",
       "      <th>France</th>\n",
       "      <td>488843</td>\n",
       "    </tr>\n",
       "    <tr>\n",
       "      <th>USA</th>\n",
       "      <td>199580</td>\n",
       "    </tr>\n",
       "    <tr>\n",
       "      <th>Iceland</th>\n",
       "      <td>7767</td>\n",
       "    </tr>\n",
       "  </tbody>\n",
       "</table>\n",
       "</div>"
      ],
      "text/plain": [
       "           Cars\n",
       "Germany  149455\n",
       "China    993542\n",
       "France   488843\n",
       "USA      199580\n",
       "Iceland    7767"
      ]
     },
     "execution_count": 45,
     "metadata": {},
     "output_type": "execute_result"
    }
   ],
   "source": [
    "countries_df[[\"Cars\"]]"
   ]
  },
  {
   "cell_type": "code",
   "execution_count": 48,
   "id": "middle-component",
   "metadata": {},
   "outputs": [
    {
     "ename": "KeyError",
     "evalue": "'Germany'",
     "output_type": "error",
     "traceback": [
      "\u001b[0;31m---------------------------------------------------------------------------\u001b[0m",
      "\u001b[0;31mKeyError\u001b[0m                                  Traceback (most recent call last)",
      "\u001b[0;32m~/opt/miniconda3/envs/PDS21/lib/python3.9/site-packages/pandas/core/indexes/base.py\u001b[0m in \u001b[0;36mget_loc\u001b[0;34m(self, key, method, tolerance)\u001b[0m\n\u001b[1;32m   3079\u001b[0m             \u001b[0;32mtry\u001b[0m\u001b[0;34m:\u001b[0m\u001b[0;34m\u001b[0m\u001b[0;34m\u001b[0m\u001b[0m\n\u001b[0;32m-> 3080\u001b[0;31m                 \u001b[0;32mreturn\u001b[0m \u001b[0mself\u001b[0m\u001b[0;34m.\u001b[0m\u001b[0m_engine\u001b[0m\u001b[0;34m.\u001b[0m\u001b[0mget_loc\u001b[0m\u001b[0;34m(\u001b[0m\u001b[0mcasted_key\u001b[0m\u001b[0;34m)\u001b[0m\u001b[0;34m\u001b[0m\u001b[0;34m\u001b[0m\u001b[0m\n\u001b[0m\u001b[1;32m   3081\u001b[0m             \u001b[0;32mexcept\u001b[0m \u001b[0mKeyError\u001b[0m \u001b[0;32mas\u001b[0m \u001b[0merr\u001b[0m\u001b[0;34m:\u001b[0m\u001b[0;34m\u001b[0m\u001b[0;34m\u001b[0m\u001b[0m\n",
      "\u001b[0;32mpandas/_libs/index.pyx\u001b[0m in \u001b[0;36mpandas._libs.index.IndexEngine.get_loc\u001b[0;34m()\u001b[0m\n",
      "\u001b[0;32mpandas/_libs/index.pyx\u001b[0m in \u001b[0;36mpandas._libs.index.IndexEngine.get_loc\u001b[0;34m()\u001b[0m\n",
      "\u001b[0;32mpandas/_libs/hashtable_class_helper.pxi\u001b[0m in \u001b[0;36mpandas._libs.hashtable.PyObjectHashTable.get_item\u001b[0;34m()\u001b[0m\n",
      "\u001b[0;32mpandas/_libs/hashtable_class_helper.pxi\u001b[0m in \u001b[0;36mpandas._libs.hashtable.PyObjectHashTable.get_item\u001b[0;34m()\u001b[0m\n",
      "\u001b[0;31mKeyError\u001b[0m: 'Germany'",
      "\nThe above exception was the direct cause of the following exception:\n",
      "\u001b[0;31mKeyError\u001b[0m                                  Traceback (most recent call last)",
      "\u001b[0;32m<ipython-input-48-201e76505ff8>\u001b[0m in \u001b[0;36m<module>\u001b[0;34m\u001b[0m\n\u001b[0;32m----> 1\u001b[0;31m \u001b[0mcountries_df\u001b[0m\u001b[0;34m[\u001b[0m\u001b[0;34m[\u001b[0m\u001b[0;34m\"Cars\"\u001b[0m\u001b[0;34m]\u001b[0m\u001b[0;34m]\u001b[0m\u001b[0;34m[\u001b[0m\u001b[0;34m\"Germany\"\u001b[0m\u001b[0;34m]\u001b[0m\u001b[0;34m\u001b[0m\u001b[0;34m\u001b[0m\u001b[0m\n\u001b[0m",
      "\u001b[0;32m~/opt/miniconda3/envs/PDS21/lib/python3.9/site-packages/pandas/core/frame.py\u001b[0m in \u001b[0;36m__getitem__\u001b[0;34m(self, key)\u001b[0m\n\u001b[1;32m   3022\u001b[0m             \u001b[0;32mif\u001b[0m \u001b[0mself\u001b[0m\u001b[0;34m.\u001b[0m\u001b[0mcolumns\u001b[0m\u001b[0;34m.\u001b[0m\u001b[0mnlevels\u001b[0m \u001b[0;34m>\u001b[0m \u001b[0;36m1\u001b[0m\u001b[0;34m:\u001b[0m\u001b[0;34m\u001b[0m\u001b[0;34m\u001b[0m\u001b[0m\n\u001b[1;32m   3023\u001b[0m                 \u001b[0;32mreturn\u001b[0m \u001b[0mself\u001b[0m\u001b[0;34m.\u001b[0m\u001b[0m_getitem_multilevel\u001b[0m\u001b[0;34m(\u001b[0m\u001b[0mkey\u001b[0m\u001b[0;34m)\u001b[0m\u001b[0;34m\u001b[0m\u001b[0;34m\u001b[0m\u001b[0m\n\u001b[0;32m-> 3024\u001b[0;31m             \u001b[0mindexer\u001b[0m \u001b[0;34m=\u001b[0m \u001b[0mself\u001b[0m\u001b[0;34m.\u001b[0m\u001b[0mcolumns\u001b[0m\u001b[0;34m.\u001b[0m\u001b[0mget_loc\u001b[0m\u001b[0;34m(\u001b[0m\u001b[0mkey\u001b[0m\u001b[0;34m)\u001b[0m\u001b[0;34m\u001b[0m\u001b[0;34m\u001b[0m\u001b[0m\n\u001b[0m\u001b[1;32m   3025\u001b[0m             \u001b[0;32mif\u001b[0m \u001b[0mis_integer\u001b[0m\u001b[0;34m(\u001b[0m\u001b[0mindexer\u001b[0m\u001b[0;34m)\u001b[0m\u001b[0;34m:\u001b[0m\u001b[0;34m\u001b[0m\u001b[0;34m\u001b[0m\u001b[0m\n\u001b[1;32m   3026\u001b[0m                 \u001b[0mindexer\u001b[0m \u001b[0;34m=\u001b[0m \u001b[0;34m[\u001b[0m\u001b[0mindexer\u001b[0m\u001b[0;34m]\u001b[0m\u001b[0;34m\u001b[0m\u001b[0;34m\u001b[0m\u001b[0m\n",
      "\u001b[0;32m~/opt/miniconda3/envs/PDS21/lib/python3.9/site-packages/pandas/core/indexes/base.py\u001b[0m in \u001b[0;36mget_loc\u001b[0;34m(self, key, method, tolerance)\u001b[0m\n\u001b[1;32m   3080\u001b[0m                 \u001b[0;32mreturn\u001b[0m \u001b[0mself\u001b[0m\u001b[0;34m.\u001b[0m\u001b[0m_engine\u001b[0m\u001b[0;34m.\u001b[0m\u001b[0mget_loc\u001b[0m\u001b[0;34m(\u001b[0m\u001b[0mcasted_key\u001b[0m\u001b[0;34m)\u001b[0m\u001b[0;34m\u001b[0m\u001b[0;34m\u001b[0m\u001b[0m\n\u001b[1;32m   3081\u001b[0m             \u001b[0;32mexcept\u001b[0m \u001b[0mKeyError\u001b[0m \u001b[0;32mas\u001b[0m \u001b[0merr\u001b[0m\u001b[0;34m:\u001b[0m\u001b[0;34m\u001b[0m\u001b[0;34m\u001b[0m\u001b[0m\n\u001b[0;32m-> 3082\u001b[0;31m                 \u001b[0;32mraise\u001b[0m \u001b[0mKeyError\u001b[0m\u001b[0;34m(\u001b[0m\u001b[0mkey\u001b[0m\u001b[0;34m)\u001b[0m \u001b[0;32mfrom\u001b[0m \u001b[0merr\u001b[0m\u001b[0;34m\u001b[0m\u001b[0;34m\u001b[0m\u001b[0m\n\u001b[0m\u001b[1;32m   3083\u001b[0m \u001b[0;34m\u001b[0m\u001b[0m\n\u001b[1;32m   3084\u001b[0m         \u001b[0;32mif\u001b[0m \u001b[0mtolerance\u001b[0m \u001b[0;32mis\u001b[0m \u001b[0;32mnot\u001b[0m \u001b[0;32mNone\u001b[0m\u001b[0;34m:\u001b[0m\u001b[0;34m\u001b[0m\u001b[0;34m\u001b[0m\u001b[0m\n",
      "\u001b[0;31mKeyError\u001b[0m: 'Germany'"
     ]
    }
   ],
   "source": [
    "countries_df[[\"Cars\"]][\"Germany\"]"
   ]
  },
  {
   "cell_type": "code",
   "execution_count": 49,
   "id": "studied-spine",
   "metadata": {},
   "outputs": [
    {
     "data": {
      "text/plain": [
       "Cars           149455\n",
       "Bicycles       843869\n",
       "Scooter        817887\n",
       "Powerplants    256802\n",
       "Flower         804946\n",
       "Name: Germany, dtype: int64"
      ]
     },
     "execution_count": 49,
     "metadata": {},
     "output_type": "execute_result"
    }
   ],
   "source": [
    "countries_df.loc[\"Germany\"]"
   ]
  },
  {
   "cell_type": "code",
   "execution_count": 50,
   "id": "pediatric-mixer",
   "metadata": {},
   "outputs": [
    {
     "data": {
      "text/plain": [
       "pandas.core.series.Series"
      ]
     },
     "execution_count": 50,
     "metadata": {},
     "output_type": "execute_result"
    }
   ],
   "source": [
    "type(countries_df.loc[\"Germany\"])"
   ]
  },
  {
   "cell_type": "code",
   "execution_count": 51,
   "id": "arctic-comfort",
   "metadata": {},
   "outputs": [
    {
     "data": {
      "text/plain": [
       "149455"
      ]
     },
     "execution_count": 51,
     "metadata": {},
     "output_type": "execute_result"
    }
   ],
   "source": [
    "countries_df.loc[\"Germany\"][\"Cars\"]"
   ]
  },
  {
   "cell_type": "code",
   "execution_count": 52,
   "id": "dramatic-institute",
   "metadata": {},
   "outputs": [
    {
     "data": {
      "text/html": [
       "<div>\n",
       "<style scoped>\n",
       "    .dataframe tbody tr th:only-of-type {\n",
       "        vertical-align: middle;\n",
       "    }\n",
       "\n",
       "    .dataframe tbody tr th {\n",
       "        vertical-align: top;\n",
       "    }\n",
       "\n",
       "    .dataframe thead th {\n",
       "        text-align: right;\n",
       "    }\n",
       "</style>\n",
       "<table border=\"1\" class=\"dataframe\">\n",
       "  <thead>\n",
       "    <tr style=\"text-align: right;\">\n",
       "      <th></th>\n",
       "      <th>Cars</th>\n",
       "      <th>Bicycles</th>\n",
       "      <th>Scooter</th>\n",
       "      <th>Powerplants</th>\n",
       "      <th>Flower</th>\n",
       "    </tr>\n",
       "  </thead>\n",
       "  <tbody>\n",
       "    <tr>\n",
       "      <th>Germany</th>\n",
       "      <td>149455</td>\n",
       "      <td>843869</td>\n",
       "      <td>817887</td>\n",
       "      <td>256802</td>\n",
       "      <td>804946</td>\n",
       "    </tr>\n",
       "    <tr>\n",
       "      <th>China</th>\n",
       "      <td>993542</td>\n",
       "      <td>952183</td>\n",
       "      <td>1729</td>\n",
       "      <td>376470</td>\n",
       "      <td>611754</td>\n",
       "    </tr>\n",
       "  </tbody>\n",
       "</table>\n",
       "</div>"
      ],
      "text/plain": [
       "           Cars  Bicycles  Scooter  Powerplants  Flower\n",
       "Germany  149455    843869   817887       256802  804946\n",
       "China    993542    952183     1729       376470  611754"
      ]
     },
     "execution_count": 52,
     "metadata": {},
     "output_type": "execute_result"
    }
   ],
   "source": [
    "countries_df.loc[[\"Germany\", \"China\"]]"
   ]
  },
  {
   "cell_type": "code",
   "execution_count": 53,
   "id": "mysterious-definition",
   "metadata": {},
   "outputs": [
    {
     "data": {
      "text/html": [
       "<div>\n",
       "<style scoped>\n",
       "    .dataframe tbody tr th:only-of-type {\n",
       "        vertical-align: middle;\n",
       "    }\n",
       "\n",
       "    .dataframe tbody tr th {\n",
       "        vertical-align: top;\n",
       "    }\n",
       "\n",
       "    .dataframe thead th {\n",
       "        text-align: right;\n",
       "    }\n",
       "</style>\n",
       "<table border=\"1\" class=\"dataframe\">\n",
       "  <thead>\n",
       "    <tr style=\"text-align: right;\">\n",
       "      <th></th>\n",
       "      <th>Cars</th>\n",
       "      <th>Bicycles</th>\n",
       "      <th>Scooter</th>\n",
       "      <th>Powerplants</th>\n",
       "      <th>Flower</th>\n",
       "    </tr>\n",
       "  </thead>\n",
       "  <tbody>\n",
       "    <tr>\n",
       "      <th>France</th>\n",
       "      <td>488843</td>\n",
       "      <td>957826</td>\n",
       "      <td>897808</td>\n",
       "      <td>748764</td>\n",
       "      <td>20518</td>\n",
       "    </tr>\n",
       "  </tbody>\n",
       "</table>\n",
       "</div>"
      ],
      "text/plain": [
       "          Cars  Bicycles  Scooter  Powerplants  Flower\n",
       "France  488843    957826   897808       748764   20518"
      ]
     },
     "execution_count": 53,
     "metadata": {},
     "output_type": "execute_result"
    }
   ],
   "source": [
    "countries_df.loc[[\"France\"]]"
   ]
  },
  {
   "cell_type": "code",
   "execution_count": 54,
   "id": "electric-mapping",
   "metadata": {},
   "outputs": [
    {
     "data": {
      "text/plain": [
       "France    897808\n",
       "Name: Scooter, dtype: int64"
      ]
     },
     "execution_count": 54,
     "metadata": {},
     "output_type": "execute_result"
    }
   ],
   "source": [
    "countries_df.loc[[\"France\"]][\"Scooter\"]"
   ]
  },
  {
   "cell_type": "code",
   "execution_count": 55,
   "id": "beneficial-kernel",
   "metadata": {},
   "outputs": [
    {
     "data": {
      "text/plain": [
       "897808"
      ]
     },
     "execution_count": 55,
     "metadata": {},
     "output_type": "execute_result"
    }
   ],
   "source": [
    "countries_df.loc[\"France\"][\"Scooter\"]"
   ]
  },
  {
   "cell_type": "code",
   "execution_count": 56,
   "id": "outside-spectacular",
   "metadata": {},
   "outputs": [
    {
     "data": {
      "text/html": [
       "<div>\n",
       "<style scoped>\n",
       "    .dataframe tbody tr th:only-of-type {\n",
       "        vertical-align: middle;\n",
       "    }\n",
       "\n",
       "    .dataframe tbody tr th {\n",
       "        vertical-align: top;\n",
       "    }\n",
       "\n",
       "    .dataframe thead th {\n",
       "        text-align: right;\n",
       "    }\n",
       "</style>\n",
       "<table border=\"1\" class=\"dataframe\">\n",
       "  <thead>\n",
       "    <tr style=\"text-align: right;\">\n",
       "      <th></th>\n",
       "      <th>Cars</th>\n",
       "      <th>Bicycles</th>\n",
       "      <th>Scooter</th>\n",
       "      <th>Powerplants</th>\n",
       "      <th>Flower</th>\n",
       "    </tr>\n",
       "  </thead>\n",
       "  <tbody>\n",
       "    <tr>\n",
       "      <th>Germany</th>\n",
       "      <td>149455</td>\n",
       "      <td>843869</td>\n",
       "      <td>817887</td>\n",
       "      <td>256802</td>\n",
       "      <td>804946</td>\n",
       "    </tr>\n",
       "    <tr>\n",
       "      <th>China</th>\n",
       "      <td>993542</td>\n",
       "      <td>952183</td>\n",
       "      <td>1729</td>\n",
       "      <td>376470</td>\n",
       "      <td>611754</td>\n",
       "    </tr>\n",
       "    <tr>\n",
       "      <th>France</th>\n",
       "      <td>488843</td>\n",
       "      <td>957826</td>\n",
       "      <td>897808</td>\n",
       "      <td>748764</td>\n",
       "      <td>20518</td>\n",
       "    </tr>\n",
       "    <tr>\n",
       "      <th>USA</th>\n",
       "      <td>199580</td>\n",
       "      <td>309767</td>\n",
       "      <td>734203</td>\n",
       "      <td>134947</td>\n",
       "      <td>56205</td>\n",
       "    </tr>\n",
       "    <tr>\n",
       "      <th>Iceland</th>\n",
       "      <td>7767</td>\n",
       "      <td>163751</td>\n",
       "      <td>126818</td>\n",
       "      <td>162259</td>\n",
       "      <td>928317</td>\n",
       "    </tr>\n",
       "  </tbody>\n",
       "</table>\n",
       "</div>"
      ],
      "text/plain": [
       "           Cars  Bicycles  Scooter  Powerplants  Flower\n",
       "Germany  149455    843869   817887       256802  804946\n",
       "China    993542    952183     1729       376470  611754\n",
       "France   488843    957826   897808       748764   20518\n",
       "USA      199580    309767   734203       134947   56205\n",
       "Iceland    7767    163751   126818       162259  928317"
      ]
     },
     "execution_count": 56,
     "metadata": {},
     "output_type": "execute_result"
    }
   ],
   "source": [
    "countries_df"
   ]
  },
  {
   "cell_type": "code",
   "execution_count": 57,
   "id": "revolutionary-blood",
   "metadata": {},
   "outputs": [],
   "source": [
    "countries_df[\"Bicycles\"][\"Germany\"] = 80000"
   ]
  },
  {
   "cell_type": "code",
   "execution_count": 58,
   "id": "chemical-investor",
   "metadata": {},
   "outputs": [
    {
     "data": {
      "text/html": [
       "<div>\n",
       "<style scoped>\n",
       "    .dataframe tbody tr th:only-of-type {\n",
       "        vertical-align: middle;\n",
       "    }\n",
       "\n",
       "    .dataframe tbody tr th {\n",
       "        vertical-align: top;\n",
       "    }\n",
       "\n",
       "    .dataframe thead th {\n",
       "        text-align: right;\n",
       "    }\n",
       "</style>\n",
       "<table border=\"1\" class=\"dataframe\">\n",
       "  <thead>\n",
       "    <tr style=\"text-align: right;\">\n",
       "      <th></th>\n",
       "      <th>Cars</th>\n",
       "      <th>Bicycles</th>\n",
       "      <th>Scooter</th>\n",
       "      <th>Powerplants</th>\n",
       "      <th>Flower</th>\n",
       "    </tr>\n",
       "  </thead>\n",
       "  <tbody>\n",
       "    <tr>\n",
       "      <th>Germany</th>\n",
       "      <td>149455</td>\n",
       "      <td>80000</td>\n",
       "      <td>817887</td>\n",
       "      <td>256802</td>\n",
       "      <td>804946</td>\n",
       "    </tr>\n",
       "    <tr>\n",
       "      <th>China</th>\n",
       "      <td>993542</td>\n",
       "      <td>952183</td>\n",
       "      <td>1729</td>\n",
       "      <td>376470</td>\n",
       "      <td>611754</td>\n",
       "    </tr>\n",
       "    <tr>\n",
       "      <th>France</th>\n",
       "      <td>488843</td>\n",
       "      <td>957826</td>\n",
       "      <td>897808</td>\n",
       "      <td>748764</td>\n",
       "      <td>20518</td>\n",
       "    </tr>\n",
       "    <tr>\n",
       "      <th>USA</th>\n",
       "      <td>199580</td>\n",
       "      <td>309767</td>\n",
       "      <td>734203</td>\n",
       "      <td>134947</td>\n",
       "      <td>56205</td>\n",
       "    </tr>\n",
       "    <tr>\n",
       "      <th>Iceland</th>\n",
       "      <td>7767</td>\n",
       "      <td>163751</td>\n",
       "      <td>126818</td>\n",
       "      <td>162259</td>\n",
       "      <td>928317</td>\n",
       "    </tr>\n",
       "  </tbody>\n",
       "</table>\n",
       "</div>"
      ],
      "text/plain": [
       "           Cars  Bicycles  Scooter  Powerplants  Flower\n",
       "Germany  149455     80000   817887       256802  804946\n",
       "China    993542    952183     1729       376470  611754\n",
       "France   488843    957826   897808       748764   20518\n",
       "USA      199580    309767   734203       134947   56205\n",
       "Iceland    7767    163751   126818       162259  928317"
      ]
     },
     "execution_count": 58,
     "metadata": {},
     "output_type": "execute_result"
    }
   ],
   "source": [
    "countries_df"
   ]
  },
  {
   "cell_type": "code",
   "execution_count": 59,
   "id": "impossible-stewart",
   "metadata": {},
   "outputs": [],
   "source": [
    "countries_df[\"Transportation\"] = countries_df[\"Cars\"] + countries_df[\"Bicycles\"] + countries_df[\"Scooter\"]"
   ]
  },
  {
   "cell_type": "code",
   "execution_count": 60,
   "id": "limited-certificate",
   "metadata": {},
   "outputs": [
    {
     "data": {
      "text/html": [
       "<div>\n",
       "<style scoped>\n",
       "    .dataframe tbody tr th:only-of-type {\n",
       "        vertical-align: middle;\n",
       "    }\n",
       "\n",
       "    .dataframe tbody tr th {\n",
       "        vertical-align: top;\n",
       "    }\n",
       "\n",
       "    .dataframe thead th {\n",
       "        text-align: right;\n",
       "    }\n",
       "</style>\n",
       "<table border=\"1\" class=\"dataframe\">\n",
       "  <thead>\n",
       "    <tr style=\"text-align: right;\">\n",
       "      <th></th>\n",
       "      <th>Cars</th>\n",
       "      <th>Bicycles</th>\n",
       "      <th>Scooter</th>\n",
       "      <th>Powerplants</th>\n",
       "      <th>Flower</th>\n",
       "      <th>Transportation</th>\n",
       "    </tr>\n",
       "  </thead>\n",
       "  <tbody>\n",
       "    <tr>\n",
       "      <th>Germany</th>\n",
       "      <td>149455</td>\n",
       "      <td>80000</td>\n",
       "      <td>817887</td>\n",
       "      <td>256802</td>\n",
       "      <td>804946</td>\n",
       "      <td>1047342</td>\n",
       "    </tr>\n",
       "    <tr>\n",
       "      <th>China</th>\n",
       "      <td>993542</td>\n",
       "      <td>952183</td>\n",
       "      <td>1729</td>\n",
       "      <td>376470</td>\n",
       "      <td>611754</td>\n",
       "      <td>1947454</td>\n",
       "    </tr>\n",
       "    <tr>\n",
       "      <th>France</th>\n",
       "      <td>488843</td>\n",
       "      <td>957826</td>\n",
       "      <td>897808</td>\n",
       "      <td>748764</td>\n",
       "      <td>20518</td>\n",
       "      <td>2344477</td>\n",
       "    </tr>\n",
       "    <tr>\n",
       "      <th>USA</th>\n",
       "      <td>199580</td>\n",
       "      <td>309767</td>\n",
       "      <td>734203</td>\n",
       "      <td>134947</td>\n",
       "      <td>56205</td>\n",
       "      <td>1243550</td>\n",
       "    </tr>\n",
       "    <tr>\n",
       "      <th>Iceland</th>\n",
       "      <td>7767</td>\n",
       "      <td>163751</td>\n",
       "      <td>126818</td>\n",
       "      <td>162259</td>\n",
       "      <td>928317</td>\n",
       "      <td>298336</td>\n",
       "    </tr>\n",
       "  </tbody>\n",
       "</table>\n",
       "</div>"
      ],
      "text/plain": [
       "           Cars  Bicycles  Scooter  Powerplants  Flower  Transportation\n",
       "Germany  149455     80000   817887       256802  804946         1047342\n",
       "China    993542    952183     1729       376470  611754         1947454\n",
       "France   488843    957826   897808       748764   20518         2344477\n",
       "USA      199580    309767   734203       134947   56205         1243550\n",
       "Iceland    7767    163751   126818       162259  928317          298336"
      ]
     },
     "execution_count": 60,
     "metadata": {},
     "output_type": "execute_result"
    }
   ],
   "source": [
    "countries_df"
   ]
  },
  {
   "cell_type": "code",
   "execution_count": 61,
   "id": "crucial-pennsylvania",
   "metadata": {},
   "outputs": [],
   "source": [
    "countries_df[\"Random Thing\"] = countries_df[\"Flower\"] * countries_df[\"Powerplants\"]"
   ]
  },
  {
   "cell_type": "code",
   "execution_count": 62,
   "id": "arranged-shield",
   "metadata": {},
   "outputs": [
    {
     "data": {
      "text/html": [
       "<div>\n",
       "<style scoped>\n",
       "    .dataframe tbody tr th:only-of-type {\n",
       "        vertical-align: middle;\n",
       "    }\n",
       "\n",
       "    .dataframe tbody tr th {\n",
       "        vertical-align: top;\n",
       "    }\n",
       "\n",
       "    .dataframe thead th {\n",
       "        text-align: right;\n",
       "    }\n",
       "</style>\n",
       "<table border=\"1\" class=\"dataframe\">\n",
       "  <thead>\n",
       "    <tr style=\"text-align: right;\">\n",
       "      <th></th>\n",
       "      <th>Cars</th>\n",
       "      <th>Bicycles</th>\n",
       "      <th>Scooter</th>\n",
       "      <th>Powerplants</th>\n",
       "      <th>Flower</th>\n",
       "      <th>Transportation</th>\n",
       "      <th>Random Thing</th>\n",
       "    </tr>\n",
       "  </thead>\n",
       "  <tbody>\n",
       "    <tr>\n",
       "      <th>Germany</th>\n",
       "      <td>149455</td>\n",
       "      <td>80000</td>\n",
       "      <td>817887</td>\n",
       "      <td>256802</td>\n",
       "      <td>804946</td>\n",
       "      <td>1047342</td>\n",
       "      <td>206711742692</td>\n",
       "    </tr>\n",
       "    <tr>\n",
       "      <th>China</th>\n",
       "      <td>993542</td>\n",
       "      <td>952183</td>\n",
       "      <td>1729</td>\n",
       "      <td>376470</td>\n",
       "      <td>611754</td>\n",
       "      <td>1947454</td>\n",
       "      <td>230307028380</td>\n",
       "    </tr>\n",
       "    <tr>\n",
       "      <th>France</th>\n",
       "      <td>488843</td>\n",
       "      <td>957826</td>\n",
       "      <td>897808</td>\n",
       "      <td>748764</td>\n",
       "      <td>20518</td>\n",
       "      <td>2344477</td>\n",
       "      <td>15363139752</td>\n",
       "    </tr>\n",
       "    <tr>\n",
       "      <th>USA</th>\n",
       "      <td>199580</td>\n",
       "      <td>309767</td>\n",
       "      <td>734203</td>\n",
       "      <td>134947</td>\n",
       "      <td>56205</td>\n",
       "      <td>1243550</td>\n",
       "      <td>7584696135</td>\n",
       "    </tr>\n",
       "    <tr>\n",
       "      <th>Iceland</th>\n",
       "      <td>7767</td>\n",
       "      <td>163751</td>\n",
       "      <td>126818</td>\n",
       "      <td>162259</td>\n",
       "      <td>928317</td>\n",
       "      <td>298336</td>\n",
       "      <td>150627788103</td>\n",
       "    </tr>\n",
       "  </tbody>\n",
       "</table>\n",
       "</div>"
      ],
      "text/plain": [
       "           Cars  Bicycles  Scooter  Powerplants  Flower  Transportation  \\\n",
       "Germany  149455     80000   817887       256802  804946         1047342   \n",
       "China    993542    952183     1729       376470  611754         1947454   \n",
       "France   488843    957826   897808       748764   20518         2344477   \n",
       "USA      199580    309767   734203       134947   56205         1243550   \n",
       "Iceland    7767    163751   126818       162259  928317          298336   \n",
       "\n",
       "         Random Thing  \n",
       "Germany  206711742692  \n",
       "China    230307028380  \n",
       "France    15363139752  \n",
       "USA        7584696135  \n",
       "Iceland  150627788103  "
      ]
     },
     "execution_count": 62,
     "metadata": {},
     "output_type": "execute_result"
    }
   ],
   "source": [
    "countries_df"
   ]
  },
  {
   "cell_type": "markdown",
   "id": "polish-cooperative",
   "metadata": {},
   "source": [
    "### Deleting entries"
   ]
  },
  {
   "cell_type": "code",
   "execution_count": 66,
   "id": "extensive-matter",
   "metadata": {},
   "outputs": [
    {
     "data": {
      "text/html": [
       "<div>\n",
       "<style scoped>\n",
       "    .dataframe tbody tr th:only-of-type {\n",
       "        vertical-align: middle;\n",
       "    }\n",
       "\n",
       "    .dataframe tbody tr th {\n",
       "        vertical-align: top;\n",
       "    }\n",
       "\n",
       "    .dataframe thead th {\n",
       "        text-align: right;\n",
       "    }\n",
       "</style>\n",
       "<table border=\"1\" class=\"dataframe\">\n",
       "  <thead>\n",
       "    <tr style=\"text-align: right;\">\n",
       "      <th></th>\n",
       "      <th>Cars</th>\n",
       "      <th>Bicycles</th>\n",
       "      <th>Scooter</th>\n",
       "      <th>Powerplants</th>\n",
       "      <th>Flower</th>\n",
       "      <th>Transportation</th>\n",
       "    </tr>\n",
       "  </thead>\n",
       "  <tbody>\n",
       "    <tr>\n",
       "      <th>Germany</th>\n",
       "      <td>149455</td>\n",
       "      <td>80000</td>\n",
       "      <td>817887</td>\n",
       "      <td>256802</td>\n",
       "      <td>804946</td>\n",
       "      <td>1047342</td>\n",
       "    </tr>\n",
       "    <tr>\n",
       "      <th>China</th>\n",
       "      <td>993542</td>\n",
       "      <td>952183</td>\n",
       "      <td>1729</td>\n",
       "      <td>376470</td>\n",
       "      <td>611754</td>\n",
       "      <td>1947454</td>\n",
       "    </tr>\n",
       "    <tr>\n",
       "      <th>France</th>\n",
       "      <td>488843</td>\n",
       "      <td>957826</td>\n",
       "      <td>897808</td>\n",
       "      <td>748764</td>\n",
       "      <td>20518</td>\n",
       "      <td>2344477</td>\n",
       "    </tr>\n",
       "    <tr>\n",
       "      <th>USA</th>\n",
       "      <td>199580</td>\n",
       "      <td>309767</td>\n",
       "      <td>734203</td>\n",
       "      <td>134947</td>\n",
       "      <td>56205</td>\n",
       "      <td>1243550</td>\n",
       "    </tr>\n",
       "    <tr>\n",
       "      <th>Iceland</th>\n",
       "      <td>7767</td>\n",
       "      <td>163751</td>\n",
       "      <td>126818</td>\n",
       "      <td>162259</td>\n",
       "      <td>928317</td>\n",
       "      <td>298336</td>\n",
       "    </tr>\n",
       "  </tbody>\n",
       "</table>\n",
       "</div>"
      ],
      "text/plain": [
       "           Cars  Bicycles  Scooter  Powerplants  Flower  Transportation\n",
       "Germany  149455     80000   817887       256802  804946         1047342\n",
       "China    993542    952183     1729       376470  611754         1947454\n",
       "France   488843    957826   897808       748764   20518         2344477\n",
       "USA      199580    309767   734203       134947   56205         1243550\n",
       "Iceland    7767    163751   126818       162259  928317          298336"
      ]
     },
     "execution_count": 66,
     "metadata": {},
     "output_type": "execute_result"
    }
   ],
   "source": [
    "countries_df.drop(\"Random Thing\", axis=1)"
   ]
  },
  {
   "cell_type": "code",
   "execution_count": 67,
   "id": "portable-store",
   "metadata": {},
   "outputs": [
    {
     "data": {
      "text/html": [
       "<div>\n",
       "<style scoped>\n",
       "    .dataframe tbody tr th:only-of-type {\n",
       "        vertical-align: middle;\n",
       "    }\n",
       "\n",
       "    .dataframe tbody tr th {\n",
       "        vertical-align: top;\n",
       "    }\n",
       "\n",
       "    .dataframe thead th {\n",
       "        text-align: right;\n",
       "    }\n",
       "</style>\n",
       "<table border=\"1\" class=\"dataframe\">\n",
       "  <thead>\n",
       "    <tr style=\"text-align: right;\">\n",
       "      <th></th>\n",
       "      <th>Cars</th>\n",
       "      <th>Bicycles</th>\n",
       "      <th>Scooter</th>\n",
       "      <th>Powerplants</th>\n",
       "      <th>Flower</th>\n",
       "      <th>Transportation</th>\n",
       "      <th>Random Thing</th>\n",
       "    </tr>\n",
       "  </thead>\n",
       "  <tbody>\n",
       "    <tr>\n",
       "      <th>Germany</th>\n",
       "      <td>149455</td>\n",
       "      <td>80000</td>\n",
       "      <td>817887</td>\n",
       "      <td>256802</td>\n",
       "      <td>804946</td>\n",
       "      <td>1047342</td>\n",
       "      <td>206711742692</td>\n",
       "    </tr>\n",
       "    <tr>\n",
       "      <th>China</th>\n",
       "      <td>993542</td>\n",
       "      <td>952183</td>\n",
       "      <td>1729</td>\n",
       "      <td>376470</td>\n",
       "      <td>611754</td>\n",
       "      <td>1947454</td>\n",
       "      <td>230307028380</td>\n",
       "    </tr>\n",
       "    <tr>\n",
       "      <th>France</th>\n",
       "      <td>488843</td>\n",
       "      <td>957826</td>\n",
       "      <td>897808</td>\n",
       "      <td>748764</td>\n",
       "      <td>20518</td>\n",
       "      <td>2344477</td>\n",
       "      <td>15363139752</td>\n",
       "    </tr>\n",
       "    <tr>\n",
       "      <th>USA</th>\n",
       "      <td>199580</td>\n",
       "      <td>309767</td>\n",
       "      <td>734203</td>\n",
       "      <td>134947</td>\n",
       "      <td>56205</td>\n",
       "      <td>1243550</td>\n",
       "      <td>7584696135</td>\n",
       "    </tr>\n",
       "    <tr>\n",
       "      <th>Iceland</th>\n",
       "      <td>7767</td>\n",
       "      <td>163751</td>\n",
       "      <td>126818</td>\n",
       "      <td>162259</td>\n",
       "      <td>928317</td>\n",
       "      <td>298336</td>\n",
       "      <td>150627788103</td>\n",
       "    </tr>\n",
       "  </tbody>\n",
       "</table>\n",
       "</div>"
      ],
      "text/plain": [
       "           Cars  Bicycles  Scooter  Powerplants  Flower  Transportation  \\\n",
       "Germany  149455     80000   817887       256802  804946         1047342   \n",
       "China    993542    952183     1729       376470  611754         1947454   \n",
       "France   488843    957826   897808       748764   20518         2344477   \n",
       "USA      199580    309767   734203       134947   56205         1243550   \n",
       "Iceland    7767    163751   126818       162259  928317          298336   \n",
       "\n",
       "         Random Thing  \n",
       "Germany  206711742692  \n",
       "China    230307028380  \n",
       "France    15363139752  \n",
       "USA        7584696135  \n",
       "Iceland  150627788103  "
      ]
     },
     "execution_count": 67,
     "metadata": {},
     "output_type": "execute_result"
    }
   ],
   "source": [
    "countries_df"
   ]
  },
  {
   "cell_type": "code",
   "execution_count": 68,
   "id": "agricultural-depth",
   "metadata": {},
   "outputs": [],
   "source": [
    "countries_df.drop(\"Random Thing\", axis=1, inplace=True)"
   ]
  },
  {
   "cell_type": "code",
   "execution_count": 69,
   "id": "labeled-provider",
   "metadata": {},
   "outputs": [
    {
     "data": {
      "text/html": [
       "<div>\n",
       "<style scoped>\n",
       "    .dataframe tbody tr th:only-of-type {\n",
       "        vertical-align: middle;\n",
       "    }\n",
       "\n",
       "    .dataframe tbody tr th {\n",
       "        vertical-align: top;\n",
       "    }\n",
       "\n",
       "    .dataframe thead th {\n",
       "        text-align: right;\n",
       "    }\n",
       "</style>\n",
       "<table border=\"1\" class=\"dataframe\">\n",
       "  <thead>\n",
       "    <tr style=\"text-align: right;\">\n",
       "      <th></th>\n",
       "      <th>Cars</th>\n",
       "      <th>Bicycles</th>\n",
       "      <th>Scooter</th>\n",
       "      <th>Powerplants</th>\n",
       "      <th>Flower</th>\n",
       "      <th>Transportation</th>\n",
       "    </tr>\n",
       "  </thead>\n",
       "  <tbody>\n",
       "    <tr>\n",
       "      <th>Germany</th>\n",
       "      <td>149455</td>\n",
       "      <td>80000</td>\n",
       "      <td>817887</td>\n",
       "      <td>256802</td>\n",
       "      <td>804946</td>\n",
       "      <td>1047342</td>\n",
       "    </tr>\n",
       "    <tr>\n",
       "      <th>China</th>\n",
       "      <td>993542</td>\n",
       "      <td>952183</td>\n",
       "      <td>1729</td>\n",
       "      <td>376470</td>\n",
       "      <td>611754</td>\n",
       "      <td>1947454</td>\n",
       "    </tr>\n",
       "    <tr>\n",
       "      <th>France</th>\n",
       "      <td>488843</td>\n",
       "      <td>957826</td>\n",
       "      <td>897808</td>\n",
       "      <td>748764</td>\n",
       "      <td>20518</td>\n",
       "      <td>2344477</td>\n",
       "    </tr>\n",
       "    <tr>\n",
       "      <th>USA</th>\n",
       "      <td>199580</td>\n",
       "      <td>309767</td>\n",
       "      <td>734203</td>\n",
       "      <td>134947</td>\n",
       "      <td>56205</td>\n",
       "      <td>1243550</td>\n",
       "    </tr>\n",
       "    <tr>\n",
       "      <th>Iceland</th>\n",
       "      <td>7767</td>\n",
       "      <td>163751</td>\n",
       "      <td>126818</td>\n",
       "      <td>162259</td>\n",
       "      <td>928317</td>\n",
       "      <td>298336</td>\n",
       "    </tr>\n",
       "  </tbody>\n",
       "</table>\n",
       "</div>"
      ],
      "text/plain": [
       "           Cars  Bicycles  Scooter  Powerplants  Flower  Transportation\n",
       "Germany  149455     80000   817887       256802  804946         1047342\n",
       "China    993542    952183     1729       376470  611754         1947454\n",
       "France   488843    957826   897808       748764   20518         2344477\n",
       "USA      199580    309767   734203       134947   56205         1243550\n",
       "Iceland    7767    163751   126818       162259  928317          298336"
      ]
     },
     "execution_count": 69,
     "metadata": {},
     "output_type": "execute_result"
    }
   ],
   "source": [
    "countries_df"
   ]
  },
  {
   "cell_type": "markdown",
   "id": "brief-religion",
   "metadata": {},
   "source": [
    "### Advanced selecting"
   ]
  },
  {
   "cell_type": "code",
   "execution_count": 70,
   "id": "prospective-label",
   "metadata": {},
   "outputs": [
    {
     "data": {
      "text/plain": [
       "Germany    149455\n",
       "China      993542\n",
       "France     488843\n",
       "USA        199580\n",
       "Iceland      7767\n",
       "Name: Cars, dtype: int64"
      ]
     },
     "execution_count": 70,
     "metadata": {},
     "output_type": "execute_result"
    }
   ],
   "source": [
    "countries_df[\"Cars\"] # what we did so far"
   ]
  },
  {
   "cell_type": "code",
   "execution_count": 71,
   "id": "processed-newman",
   "metadata": {},
   "outputs": [
    {
     "data": {
      "text/plain": [
       "Germany    False\n",
       "China       True\n",
       "France      True\n",
       "USA        False\n",
       "Iceland    False\n",
       "Name: Cars, dtype: bool"
      ]
     },
     "execution_count": 71,
     "metadata": {},
     "output_type": "execute_result"
    }
   ],
   "source": [
    "countries_df[\"Cars\"] > 300000"
   ]
  },
  {
   "cell_type": "code",
   "execution_count": 72,
   "id": "sublime-kazakhstan",
   "metadata": {},
   "outputs": [
    {
     "data": {
      "text/html": [
       "<div>\n",
       "<style scoped>\n",
       "    .dataframe tbody tr th:only-of-type {\n",
       "        vertical-align: middle;\n",
       "    }\n",
       "\n",
       "    .dataframe tbody tr th {\n",
       "        vertical-align: top;\n",
       "    }\n",
       "\n",
       "    .dataframe thead th {\n",
       "        text-align: right;\n",
       "    }\n",
       "</style>\n",
       "<table border=\"1\" class=\"dataframe\">\n",
       "  <thead>\n",
       "    <tr style=\"text-align: right;\">\n",
       "      <th></th>\n",
       "      <th>Cars</th>\n",
       "      <th>Bicycles</th>\n",
       "      <th>Scooter</th>\n",
       "      <th>Powerplants</th>\n",
       "      <th>Flower</th>\n",
       "      <th>Transportation</th>\n",
       "    </tr>\n",
       "  </thead>\n",
       "  <tbody>\n",
       "    <tr>\n",
       "      <th>China</th>\n",
       "      <td>993542</td>\n",
       "      <td>952183</td>\n",
       "      <td>1729</td>\n",
       "      <td>376470</td>\n",
       "      <td>611754</td>\n",
       "      <td>1947454</td>\n",
       "    </tr>\n",
       "    <tr>\n",
       "      <th>France</th>\n",
       "      <td>488843</td>\n",
       "      <td>957826</td>\n",
       "      <td>897808</td>\n",
       "      <td>748764</td>\n",
       "      <td>20518</td>\n",
       "      <td>2344477</td>\n",
       "    </tr>\n",
       "  </tbody>\n",
       "</table>\n",
       "</div>"
      ],
      "text/plain": [
       "          Cars  Bicycles  Scooter  Powerplants  Flower  Transportation\n",
       "China   993542    952183     1729       376470  611754         1947454\n",
       "France  488843    957826   897808       748764   20518         2344477"
      ]
     },
     "execution_count": 72,
     "metadata": {},
     "output_type": "execute_result"
    }
   ],
   "source": [
    "countries_df[countries_df[\"Cars\"] > 300000]"
   ]
  },
  {
   "cell_type": "code",
   "execution_count": 77,
   "id": "desperate-custom",
   "metadata": {},
   "outputs": [
    {
     "data": {
      "text/html": [
       "<div>\n",
       "<style scoped>\n",
       "    .dataframe tbody tr th:only-of-type {\n",
       "        vertical-align: middle;\n",
       "    }\n",
       "\n",
       "    .dataframe tbody tr th {\n",
       "        vertical-align: top;\n",
       "    }\n",
       "\n",
       "    .dataframe thead th {\n",
       "        text-align: right;\n",
       "    }\n",
       "</style>\n",
       "<table border=\"1\" class=\"dataframe\">\n",
       "  <thead>\n",
       "    <tr style=\"text-align: right;\">\n",
       "      <th></th>\n",
       "      <th>Cars</th>\n",
       "      <th>Bicycles</th>\n",
       "      <th>Scooter</th>\n",
       "      <th>Powerplants</th>\n",
       "      <th>Flower</th>\n",
       "      <th>Transportation</th>\n",
       "    </tr>\n",
       "  </thead>\n",
       "  <tbody>\n",
       "    <tr>\n",
       "      <th>Germany</th>\n",
       "      <td>149455</td>\n",
       "      <td>80000</td>\n",
       "      <td>817887</td>\n",
       "      <td>256802</td>\n",
       "      <td>804946</td>\n",
       "      <td>1047342</td>\n",
       "    </tr>\n",
       "    <tr>\n",
       "      <th>China</th>\n",
       "      <td>993542</td>\n",
       "      <td>952183</td>\n",
       "      <td>1729</td>\n",
       "      <td>376470</td>\n",
       "      <td>611754</td>\n",
       "      <td>1947454</td>\n",
       "    </tr>\n",
       "  </tbody>\n",
       "</table>\n",
       "</div>"
      ],
      "text/plain": [
       "           Cars  Bicycles  Scooter  Powerplants  Flower  Transportation\n",
       "Germany  149455     80000   817887       256802  804946         1047342\n",
       "China    993542    952183     1729       376470  611754         1947454"
      ]
     },
     "execution_count": 77,
     "metadata": {},
     "output_type": "execute_result"
    }
   ],
   "source": [
    "countries_df[(countries_df[\"Flower\"] > 200000) & (countries_df[\"Powerplants\"] > 200000)]"
   ]
  },
  {
   "cell_type": "code",
   "execution_count": 76,
   "id": "extra-flesh",
   "metadata": {},
   "outputs": [
    {
     "data": {
      "text/html": [
       "<div>\n",
       "<style scoped>\n",
       "    .dataframe tbody tr th:only-of-type {\n",
       "        vertical-align: middle;\n",
       "    }\n",
       "\n",
       "    .dataframe tbody tr th {\n",
       "        vertical-align: top;\n",
       "    }\n",
       "\n",
       "    .dataframe thead th {\n",
       "        text-align: right;\n",
       "    }\n",
       "</style>\n",
       "<table border=\"1\" class=\"dataframe\">\n",
       "  <thead>\n",
       "    <tr style=\"text-align: right;\">\n",
       "      <th></th>\n",
       "      <th>Cars</th>\n",
       "      <th>Bicycles</th>\n",
       "      <th>Scooter</th>\n",
       "      <th>Powerplants</th>\n",
       "      <th>Flower</th>\n",
       "      <th>Transportation</th>\n",
       "    </tr>\n",
       "  </thead>\n",
       "  <tbody>\n",
       "    <tr>\n",
       "      <th>Germany</th>\n",
       "      <td>149455</td>\n",
       "      <td>80000</td>\n",
       "      <td>817887</td>\n",
       "      <td>256802</td>\n",
       "      <td>804946</td>\n",
       "      <td>1047342</td>\n",
       "    </tr>\n",
       "    <tr>\n",
       "      <th>China</th>\n",
       "      <td>993542</td>\n",
       "      <td>952183</td>\n",
       "      <td>1729</td>\n",
       "      <td>376470</td>\n",
       "      <td>611754</td>\n",
       "      <td>1947454</td>\n",
       "    </tr>\n",
       "    <tr>\n",
       "      <th>France</th>\n",
       "      <td>488843</td>\n",
       "      <td>957826</td>\n",
       "      <td>897808</td>\n",
       "      <td>748764</td>\n",
       "      <td>20518</td>\n",
       "      <td>2344477</td>\n",
       "    </tr>\n",
       "    <tr>\n",
       "      <th>USA</th>\n",
       "      <td>199580</td>\n",
       "      <td>309767</td>\n",
       "      <td>734203</td>\n",
       "      <td>134947</td>\n",
       "      <td>56205</td>\n",
       "      <td>1243550</td>\n",
       "    </tr>\n",
       "    <tr>\n",
       "      <th>Iceland</th>\n",
       "      <td>7767</td>\n",
       "      <td>163751</td>\n",
       "      <td>126818</td>\n",
       "      <td>162259</td>\n",
       "      <td>928317</td>\n",
       "      <td>298336</td>\n",
       "    </tr>\n",
       "  </tbody>\n",
       "</table>\n",
       "</div>"
      ],
      "text/plain": [
       "           Cars  Bicycles  Scooter  Powerplants  Flower  Transportation\n",
       "Germany  149455     80000   817887       256802  804946         1047342\n",
       "China    993542    952183     1729       376470  611754         1947454\n",
       "France   488843    957826   897808       748764   20518         2344477\n",
       "USA      199580    309767   734203       134947   56205         1243550\n",
       "Iceland    7767    163751   126818       162259  928317          298336"
      ]
     },
     "execution_count": 76,
     "metadata": {},
     "output_type": "execute_result"
    }
   ],
   "source": [
    "countries_df"
   ]
  },
  {
   "cell_type": "markdown",
   "id": "korean-victoria",
   "metadata": {},
   "source": [
    "### Working with the index"
   ]
  },
  {
   "cell_type": "code",
   "execution_count": 78,
   "id": "facial-married",
   "metadata": {},
   "outputs": [
    {
     "data": {
      "text/html": [
       "<div>\n",
       "<style scoped>\n",
       "    .dataframe tbody tr th:only-of-type {\n",
       "        vertical-align: middle;\n",
       "    }\n",
       "\n",
       "    .dataframe tbody tr th {\n",
       "        vertical-align: top;\n",
       "    }\n",
       "\n",
       "    .dataframe thead th {\n",
       "        text-align: right;\n",
       "    }\n",
       "</style>\n",
       "<table border=\"1\" class=\"dataframe\">\n",
       "  <thead>\n",
       "    <tr style=\"text-align: right;\">\n",
       "      <th></th>\n",
       "      <th>Cars</th>\n",
       "      <th>Bicycles</th>\n",
       "      <th>Scooter</th>\n",
       "      <th>Powerplants</th>\n",
       "      <th>Flower</th>\n",
       "      <th>Transportation</th>\n",
       "    </tr>\n",
       "  </thead>\n",
       "  <tbody>\n",
       "    <tr>\n",
       "      <th>Germany</th>\n",
       "      <td>149455</td>\n",
       "      <td>80000</td>\n",
       "      <td>817887</td>\n",
       "      <td>256802</td>\n",
       "      <td>804946</td>\n",
       "      <td>1047342</td>\n",
       "    </tr>\n",
       "    <tr>\n",
       "      <th>China</th>\n",
       "      <td>993542</td>\n",
       "      <td>952183</td>\n",
       "      <td>1729</td>\n",
       "      <td>376470</td>\n",
       "      <td>611754</td>\n",
       "      <td>1947454</td>\n",
       "    </tr>\n",
       "    <tr>\n",
       "      <th>France</th>\n",
       "      <td>488843</td>\n",
       "      <td>957826</td>\n",
       "      <td>897808</td>\n",
       "      <td>748764</td>\n",
       "      <td>20518</td>\n",
       "      <td>2344477</td>\n",
       "    </tr>\n",
       "    <tr>\n",
       "      <th>USA</th>\n",
       "      <td>199580</td>\n",
       "      <td>309767</td>\n",
       "      <td>734203</td>\n",
       "      <td>134947</td>\n",
       "      <td>56205</td>\n",
       "      <td>1243550</td>\n",
       "    </tr>\n",
       "    <tr>\n",
       "      <th>Iceland</th>\n",
       "      <td>7767</td>\n",
       "      <td>163751</td>\n",
       "      <td>126818</td>\n",
       "      <td>162259</td>\n",
       "      <td>928317</td>\n",
       "      <td>298336</td>\n",
       "    </tr>\n",
       "  </tbody>\n",
       "</table>\n",
       "</div>"
      ],
      "text/plain": [
       "           Cars  Bicycles  Scooter  Powerplants  Flower  Transportation\n",
       "Germany  149455     80000   817887       256802  804946         1047342\n",
       "China    993542    952183     1729       376470  611754         1947454\n",
       "France   488843    957826   897808       748764   20518         2344477\n",
       "USA      199580    309767   734203       134947   56205         1243550\n",
       "Iceland    7767    163751   126818       162259  928317          298336"
      ]
     },
     "execution_count": 78,
     "metadata": {},
     "output_type": "execute_result"
    }
   ],
   "source": [
    "countries_df"
   ]
  },
  {
   "cell_type": "code",
   "execution_count": 79,
   "id": "unusual-idaho",
   "metadata": {},
   "outputs": [
    {
     "data": {
      "text/plain": [
       "Cars               149455\n",
       "Bicycles            80000\n",
       "Scooter            817887\n",
       "Powerplants        256802\n",
       "Flower             804946\n",
       "Transportation    1047342\n",
       "Name: Germany, dtype: int64"
      ]
     },
     "execution_count": 79,
     "metadata": {},
     "output_type": "execute_result"
    }
   ],
   "source": [
    "countries_df.loc[\"Germany\"]"
   ]
  },
  {
   "cell_type": "code",
   "execution_count": 80,
   "id": "impaired-broadway",
   "metadata": {
    "scrolled": true
   },
   "outputs": [
    {
     "data": {
      "text/html": [
       "<div>\n",
       "<style scoped>\n",
       "    .dataframe tbody tr th:only-of-type {\n",
       "        vertical-align: middle;\n",
       "    }\n",
       "\n",
       "    .dataframe tbody tr th {\n",
       "        vertical-align: top;\n",
       "    }\n",
       "\n",
       "    .dataframe thead th {\n",
       "        text-align: right;\n",
       "    }\n",
       "</style>\n",
       "<table border=\"1\" class=\"dataframe\">\n",
       "  <thead>\n",
       "    <tr style=\"text-align: right;\">\n",
       "      <th></th>\n",
       "      <th>index</th>\n",
       "      <th>Cars</th>\n",
       "      <th>Bicycles</th>\n",
       "      <th>Scooter</th>\n",
       "      <th>Powerplants</th>\n",
       "      <th>Flower</th>\n",
       "      <th>Transportation</th>\n",
       "    </tr>\n",
       "  </thead>\n",
       "  <tbody>\n",
       "    <tr>\n",
       "      <th>0</th>\n",
       "      <td>Germany</td>\n",
       "      <td>149455</td>\n",
       "      <td>80000</td>\n",
       "      <td>817887</td>\n",
       "      <td>256802</td>\n",
       "      <td>804946</td>\n",
       "      <td>1047342</td>\n",
       "    </tr>\n",
       "    <tr>\n",
       "      <th>1</th>\n",
       "      <td>China</td>\n",
       "      <td>993542</td>\n",
       "      <td>952183</td>\n",
       "      <td>1729</td>\n",
       "      <td>376470</td>\n",
       "      <td>611754</td>\n",
       "      <td>1947454</td>\n",
       "    </tr>\n",
       "    <tr>\n",
       "      <th>2</th>\n",
       "      <td>France</td>\n",
       "      <td>488843</td>\n",
       "      <td>957826</td>\n",
       "      <td>897808</td>\n",
       "      <td>748764</td>\n",
       "      <td>20518</td>\n",
       "      <td>2344477</td>\n",
       "    </tr>\n",
       "    <tr>\n",
       "      <th>3</th>\n",
       "      <td>USA</td>\n",
       "      <td>199580</td>\n",
       "      <td>309767</td>\n",
       "      <td>734203</td>\n",
       "      <td>134947</td>\n",
       "      <td>56205</td>\n",
       "      <td>1243550</td>\n",
       "    </tr>\n",
       "    <tr>\n",
       "      <th>4</th>\n",
       "      <td>Iceland</td>\n",
       "      <td>7767</td>\n",
       "      <td>163751</td>\n",
       "      <td>126818</td>\n",
       "      <td>162259</td>\n",
       "      <td>928317</td>\n",
       "      <td>298336</td>\n",
       "    </tr>\n",
       "  </tbody>\n",
       "</table>\n",
       "</div>"
      ],
      "text/plain": [
       "     index    Cars  Bicycles  Scooter  Powerplants  Flower  Transportation\n",
       "0  Germany  149455     80000   817887       256802  804946         1047342\n",
       "1    China  993542    952183     1729       376470  611754         1947454\n",
       "2   France  488843    957826   897808       748764   20518         2344477\n",
       "3      USA  199580    309767   734203       134947   56205         1243550\n",
       "4  Iceland    7767    163751   126818       162259  928317          298336"
      ]
     },
     "execution_count": 80,
     "metadata": {},
     "output_type": "execute_result"
    }
   ],
   "source": [
    "countries_df.reset_index(inplace=True)\n",
    "countries_df"
   ]
  },
  {
   "cell_type": "code",
   "execution_count": 81,
   "id": "biological-participant",
   "metadata": {
    "scrolled": true
   },
   "outputs": [
    {
     "data": {
      "text/html": [
       "<div>\n",
       "<style scoped>\n",
       "    .dataframe tbody tr th:only-of-type {\n",
       "        vertical-align: middle;\n",
       "    }\n",
       "\n",
       "    .dataframe tbody tr th {\n",
       "        vertical-align: top;\n",
       "    }\n",
       "\n",
       "    .dataframe thead th {\n",
       "        text-align: right;\n",
       "    }\n",
       "</style>\n",
       "<table border=\"1\" class=\"dataframe\">\n",
       "  <thead>\n",
       "    <tr style=\"text-align: right;\">\n",
       "      <th></th>\n",
       "      <th>Country Name</th>\n",
       "      <th>Cars</th>\n",
       "      <th>Bicycles</th>\n",
       "      <th>Scooter</th>\n",
       "      <th>Powerplants</th>\n",
       "      <th>Flower</th>\n",
       "      <th>Transportation</th>\n",
       "    </tr>\n",
       "  </thead>\n",
       "  <tbody>\n",
       "    <tr>\n",
       "      <th>0</th>\n",
       "      <td>Germany</td>\n",
       "      <td>149455</td>\n",
       "      <td>80000</td>\n",
       "      <td>817887</td>\n",
       "      <td>256802</td>\n",
       "      <td>804946</td>\n",
       "      <td>1047342</td>\n",
       "    </tr>\n",
       "    <tr>\n",
       "      <th>1</th>\n",
       "      <td>China</td>\n",
       "      <td>993542</td>\n",
       "      <td>952183</td>\n",
       "      <td>1729</td>\n",
       "      <td>376470</td>\n",
       "      <td>611754</td>\n",
       "      <td>1947454</td>\n",
       "    </tr>\n",
       "    <tr>\n",
       "      <th>2</th>\n",
       "      <td>France</td>\n",
       "      <td>488843</td>\n",
       "      <td>957826</td>\n",
       "      <td>897808</td>\n",
       "      <td>748764</td>\n",
       "      <td>20518</td>\n",
       "      <td>2344477</td>\n",
       "    </tr>\n",
       "    <tr>\n",
       "      <th>3</th>\n",
       "      <td>USA</td>\n",
       "      <td>199580</td>\n",
       "      <td>309767</td>\n",
       "      <td>734203</td>\n",
       "      <td>134947</td>\n",
       "      <td>56205</td>\n",
       "      <td>1243550</td>\n",
       "    </tr>\n",
       "    <tr>\n",
       "      <th>4</th>\n",
       "      <td>Iceland</td>\n",
       "      <td>7767</td>\n",
       "      <td>163751</td>\n",
       "      <td>126818</td>\n",
       "      <td>162259</td>\n",
       "      <td>928317</td>\n",
       "      <td>298336</td>\n",
       "    </tr>\n",
       "  </tbody>\n",
       "</table>\n",
       "</div>"
      ],
      "text/plain": [
       "  Country Name    Cars  Bicycles  Scooter  Powerplants  Flower  Transportation\n",
       "0      Germany  149455     80000   817887       256802  804946         1047342\n",
       "1        China  993542    952183     1729       376470  611754         1947454\n",
       "2       France  488843    957826   897808       748764   20518         2344477\n",
       "3          USA  199580    309767   734203       134947   56205         1243550\n",
       "4      Iceland    7767    163751   126818       162259  928317          298336"
      ]
     },
     "execution_count": 81,
     "metadata": {},
     "output_type": "execute_result"
    }
   ],
   "source": [
    "countries_df.rename({\"index\":\"Country Name\"}, axis=1, inplace=True)\n",
    "countries_df"
   ]
  },
  {
   "cell_type": "markdown",
   "id": "technological-mongolia",
   "metadata": {},
   "source": [
    "## Multiple DataFrames"
   ]
  },
  {
   "cell_type": "code",
   "execution_count": 82,
   "id": "right-facility",
   "metadata": {},
   "outputs": [],
   "source": [
    "cols = [\"Bananas\", \"Apples\"]\n",
    "rows = [\"Germany\", \"USA\", \"China\", \"New Zealand\"]\n",
    "data = np.random.randint(1, 1000000, (len(rows), len(cols)))"
   ]
  },
  {
   "cell_type": "code",
   "execution_count": 83,
   "id": "auburn-shareware",
   "metadata": {},
   "outputs": [],
   "source": [
    "countries_df2 = pd.DataFrame(data, columns=cols, index=rows)"
   ]
  },
  {
   "cell_type": "code",
   "execution_count": 84,
   "id": "published-vulnerability",
   "metadata": {},
   "outputs": [
    {
     "data": {
      "text/html": [
       "<div>\n",
       "<style scoped>\n",
       "    .dataframe tbody tr th:only-of-type {\n",
       "        vertical-align: middle;\n",
       "    }\n",
       "\n",
       "    .dataframe tbody tr th {\n",
       "        vertical-align: top;\n",
       "    }\n",
       "\n",
       "    .dataframe thead th {\n",
       "        text-align: right;\n",
       "    }\n",
       "</style>\n",
       "<table border=\"1\" class=\"dataframe\">\n",
       "  <thead>\n",
       "    <tr style=\"text-align: right;\">\n",
       "      <th></th>\n",
       "      <th>Bananas</th>\n",
       "      <th>Apples</th>\n",
       "    </tr>\n",
       "  </thead>\n",
       "  <tbody>\n",
       "    <tr>\n",
       "      <th>Germany</th>\n",
       "      <td>677089</td>\n",
       "      <td>825939</td>\n",
       "    </tr>\n",
       "    <tr>\n",
       "      <th>USA</th>\n",
       "      <td>770048</td>\n",
       "      <td>482599</td>\n",
       "    </tr>\n",
       "    <tr>\n",
       "      <th>China</th>\n",
       "      <td>298410</td>\n",
       "      <td>45526</td>\n",
       "    </tr>\n",
       "    <tr>\n",
       "      <th>New Zealand</th>\n",
       "      <td>358926</td>\n",
       "      <td>572438</td>\n",
       "    </tr>\n",
       "  </tbody>\n",
       "</table>\n",
       "</div>"
      ],
      "text/plain": [
       "             Bananas  Apples\n",
       "Germany       677089  825939\n",
       "USA           770048  482599\n",
       "China         298410   45526\n",
       "New Zealand   358926  572438"
      ]
     },
     "execution_count": 84,
     "metadata": {},
     "output_type": "execute_result"
    }
   ],
   "source": [
    "countries_df2"
   ]
  },
  {
   "cell_type": "code",
   "execution_count": 85,
   "id": "paperback-limitation",
   "metadata": {},
   "outputs": [],
   "source": [
    "countries_df2 = countries_df2.reset_index().rename({\"index\":\"Country Name\"}, axis=1)"
   ]
  },
  {
   "cell_type": "code",
   "execution_count": 86,
   "id": "hydraulic-jurisdiction",
   "metadata": {},
   "outputs": [
    {
     "data": {
      "text/html": [
       "<div>\n",
       "<style scoped>\n",
       "    .dataframe tbody tr th:only-of-type {\n",
       "        vertical-align: middle;\n",
       "    }\n",
       "\n",
       "    .dataframe tbody tr th {\n",
       "        vertical-align: top;\n",
       "    }\n",
       "\n",
       "    .dataframe thead th {\n",
       "        text-align: right;\n",
       "    }\n",
       "</style>\n",
       "<table border=\"1\" class=\"dataframe\">\n",
       "  <thead>\n",
       "    <tr style=\"text-align: right;\">\n",
       "      <th></th>\n",
       "      <th>Country Name</th>\n",
       "      <th>Bananas</th>\n",
       "      <th>Apples</th>\n",
       "    </tr>\n",
       "  </thead>\n",
       "  <tbody>\n",
       "    <tr>\n",
       "      <th>0</th>\n",
       "      <td>Germany</td>\n",
       "      <td>677089</td>\n",
       "      <td>825939</td>\n",
       "    </tr>\n",
       "    <tr>\n",
       "      <th>1</th>\n",
       "      <td>USA</td>\n",
       "      <td>770048</td>\n",
       "      <td>482599</td>\n",
       "    </tr>\n",
       "    <tr>\n",
       "      <th>2</th>\n",
       "      <td>China</td>\n",
       "      <td>298410</td>\n",
       "      <td>45526</td>\n",
       "    </tr>\n",
       "    <tr>\n",
       "      <th>3</th>\n",
       "      <td>New Zealand</td>\n",
       "      <td>358926</td>\n",
       "      <td>572438</td>\n",
       "    </tr>\n",
       "  </tbody>\n",
       "</table>\n",
       "</div>"
      ],
      "text/plain": [
       "  Country Name  Bananas  Apples\n",
       "0      Germany   677089  825939\n",
       "1          USA   770048  482599\n",
       "2        China   298410   45526\n",
       "3  New Zealand   358926  572438"
      ]
     },
     "execution_count": 86,
     "metadata": {},
     "output_type": "execute_result"
    }
   ],
   "source": [
    "countries_df2"
   ]
  },
  {
   "cell_type": "markdown",
   "id": "placed-beverage",
   "metadata": {},
   "source": [
    "### Merge"
   ]
  },
  {
   "cell_type": "code",
   "execution_count": 87,
   "id": "delayed-hepatitis",
   "metadata": {},
   "outputs": [
    {
     "data": {
      "text/html": [
       "<div>\n",
       "<style scoped>\n",
       "    .dataframe tbody tr th:only-of-type {\n",
       "        vertical-align: middle;\n",
       "    }\n",
       "\n",
       "    .dataframe tbody tr th {\n",
       "        vertical-align: top;\n",
       "    }\n",
       "\n",
       "    .dataframe thead th {\n",
       "        text-align: right;\n",
       "    }\n",
       "</style>\n",
       "<table border=\"1\" class=\"dataframe\">\n",
       "  <thead>\n",
       "    <tr style=\"text-align: right;\">\n",
       "      <th></th>\n",
       "      <th>Country Name</th>\n",
       "      <th>Cars</th>\n",
       "      <th>Bicycles</th>\n",
       "      <th>Scooter</th>\n",
       "      <th>Powerplants</th>\n",
       "      <th>Flower</th>\n",
       "      <th>Transportation</th>\n",
       "      <th>Bananas</th>\n",
       "      <th>Apples</th>\n",
       "    </tr>\n",
       "  </thead>\n",
       "  <tbody>\n",
       "    <tr>\n",
       "      <th>0</th>\n",
       "      <td>Germany</td>\n",
       "      <td>149455</td>\n",
       "      <td>80000</td>\n",
       "      <td>817887</td>\n",
       "      <td>256802</td>\n",
       "      <td>804946</td>\n",
       "      <td>1047342</td>\n",
       "      <td>677089</td>\n",
       "      <td>825939</td>\n",
       "    </tr>\n",
       "    <tr>\n",
       "      <th>1</th>\n",
       "      <td>China</td>\n",
       "      <td>993542</td>\n",
       "      <td>952183</td>\n",
       "      <td>1729</td>\n",
       "      <td>376470</td>\n",
       "      <td>611754</td>\n",
       "      <td>1947454</td>\n",
       "      <td>298410</td>\n",
       "      <td>45526</td>\n",
       "    </tr>\n",
       "    <tr>\n",
       "      <th>2</th>\n",
       "      <td>USA</td>\n",
       "      <td>199580</td>\n",
       "      <td>309767</td>\n",
       "      <td>734203</td>\n",
       "      <td>134947</td>\n",
       "      <td>56205</td>\n",
       "      <td>1243550</td>\n",
       "      <td>770048</td>\n",
       "      <td>482599</td>\n",
       "    </tr>\n",
       "  </tbody>\n",
       "</table>\n",
       "</div>"
      ],
      "text/plain": [
       "  Country Name    Cars  Bicycles  Scooter  Powerplants  Flower  \\\n",
       "0      Germany  149455     80000   817887       256802  804946   \n",
       "1        China  993542    952183     1729       376470  611754   \n",
       "2          USA  199580    309767   734203       134947   56205   \n",
       "\n",
       "   Transportation  Bananas  Apples  \n",
       "0         1047342   677089  825939  \n",
       "1         1947454   298410   45526  \n",
       "2         1243550   770048  482599  "
      ]
     },
     "execution_count": 87,
     "metadata": {},
     "output_type": "execute_result"
    }
   ],
   "source": [
    "pd.merge(countries_df, countries_df2, on=\"Country Name\", how=\"inner\")"
   ]
  },
  {
   "cell_type": "code",
   "execution_count": 89,
   "id": "sudden-tolerance",
   "metadata": {},
   "outputs": [
    {
     "data": {
      "text/html": [
       "<div>\n",
       "<style scoped>\n",
       "    .dataframe tbody tr th:only-of-type {\n",
       "        vertical-align: middle;\n",
       "    }\n",
       "\n",
       "    .dataframe tbody tr th {\n",
       "        vertical-align: top;\n",
       "    }\n",
       "\n",
       "    .dataframe thead th {\n",
       "        text-align: right;\n",
       "    }\n",
       "</style>\n",
       "<table border=\"1\" class=\"dataframe\">\n",
       "  <thead>\n",
       "    <tr style=\"text-align: right;\">\n",
       "      <th></th>\n",
       "      <th>Country Name</th>\n",
       "      <th>Cars</th>\n",
       "      <th>Bicycles</th>\n",
       "      <th>Scooter</th>\n",
       "      <th>Powerplants</th>\n",
       "      <th>Flower</th>\n",
       "      <th>Transportation</th>\n",
       "      <th>Bananas</th>\n",
       "      <th>Apples</th>\n",
       "    </tr>\n",
       "  </thead>\n",
       "  <tbody>\n",
       "    <tr>\n",
       "      <th>0</th>\n",
       "      <td>Germany</td>\n",
       "      <td>149455.0</td>\n",
       "      <td>80000.0</td>\n",
       "      <td>817887.0</td>\n",
       "      <td>256802.0</td>\n",
       "      <td>804946.0</td>\n",
       "      <td>1047342.0</td>\n",
       "      <td>677089.0</td>\n",
       "      <td>825939.0</td>\n",
       "    </tr>\n",
       "    <tr>\n",
       "      <th>1</th>\n",
       "      <td>China</td>\n",
       "      <td>993542.0</td>\n",
       "      <td>952183.0</td>\n",
       "      <td>1729.0</td>\n",
       "      <td>376470.0</td>\n",
       "      <td>611754.0</td>\n",
       "      <td>1947454.0</td>\n",
       "      <td>298410.0</td>\n",
       "      <td>45526.0</td>\n",
       "    </tr>\n",
       "    <tr>\n",
       "      <th>2</th>\n",
       "      <td>France</td>\n",
       "      <td>488843.0</td>\n",
       "      <td>957826.0</td>\n",
       "      <td>897808.0</td>\n",
       "      <td>748764.0</td>\n",
       "      <td>20518.0</td>\n",
       "      <td>2344477.0</td>\n",
       "      <td>NaN</td>\n",
       "      <td>NaN</td>\n",
       "    </tr>\n",
       "    <tr>\n",
       "      <th>3</th>\n",
       "      <td>USA</td>\n",
       "      <td>199580.0</td>\n",
       "      <td>309767.0</td>\n",
       "      <td>734203.0</td>\n",
       "      <td>134947.0</td>\n",
       "      <td>56205.0</td>\n",
       "      <td>1243550.0</td>\n",
       "      <td>770048.0</td>\n",
       "      <td>482599.0</td>\n",
       "    </tr>\n",
       "    <tr>\n",
       "      <th>4</th>\n",
       "      <td>Iceland</td>\n",
       "      <td>7767.0</td>\n",
       "      <td>163751.0</td>\n",
       "      <td>126818.0</td>\n",
       "      <td>162259.0</td>\n",
       "      <td>928317.0</td>\n",
       "      <td>298336.0</td>\n",
       "      <td>NaN</td>\n",
       "      <td>NaN</td>\n",
       "    </tr>\n",
       "    <tr>\n",
       "      <th>5</th>\n",
       "      <td>New Zealand</td>\n",
       "      <td>NaN</td>\n",
       "      <td>NaN</td>\n",
       "      <td>NaN</td>\n",
       "      <td>NaN</td>\n",
       "      <td>NaN</td>\n",
       "      <td>NaN</td>\n",
       "      <td>358926.0</td>\n",
       "      <td>572438.0</td>\n",
       "    </tr>\n",
       "  </tbody>\n",
       "</table>\n",
       "</div>"
      ],
      "text/plain": [
       "  Country Name      Cars  Bicycles   Scooter  Powerplants    Flower  \\\n",
       "0      Germany  149455.0   80000.0  817887.0     256802.0  804946.0   \n",
       "1        China  993542.0  952183.0    1729.0     376470.0  611754.0   \n",
       "2       France  488843.0  957826.0  897808.0     748764.0   20518.0   \n",
       "3          USA  199580.0  309767.0  734203.0     134947.0   56205.0   \n",
       "4      Iceland    7767.0  163751.0  126818.0     162259.0  928317.0   \n",
       "5  New Zealand       NaN       NaN       NaN          NaN       NaN   \n",
       "\n",
       "   Transportation   Bananas    Apples  \n",
       "0       1047342.0  677089.0  825939.0  \n",
       "1       1947454.0  298410.0   45526.0  \n",
       "2       2344477.0       NaN       NaN  \n",
       "3       1243550.0  770048.0  482599.0  \n",
       "4        298336.0       NaN       NaN  \n",
       "5             NaN  358926.0  572438.0  "
      ]
     },
     "execution_count": 89,
     "metadata": {},
     "output_type": "execute_result"
    }
   ],
   "source": [
    "countries_outer_df = pd.merge(countries_df, countries_df2, on=\"Country Name\", how=\"outer\")\n",
    "countries_outer_df"
   ]
  },
  {
   "cell_type": "code",
   "execution_count": 90,
   "id": "characteristic-nightlife",
   "metadata": {},
   "outputs": [
    {
     "data": {
      "text/plain": [
       "Cars               367837.40\n",
       "Bicycles           492705.40\n",
       "Scooter            515689.00\n",
       "Powerplants        335848.40\n",
       "Flower             484348.00\n",
       "Transportation    1376231.80\n",
       "Bananas            526118.25\n",
       "Apples             481625.50\n",
       "dtype: float64"
      ]
     },
     "execution_count": 90,
     "metadata": {},
     "output_type": "execute_result"
    }
   ],
   "source": [
    "countries_outer_df.mean() # NaN is helpful in calculating aggregate statistics!"
   ]
  },
  {
   "cell_type": "code",
   "execution_count": 91,
   "id": "saving-boating",
   "metadata": {},
   "outputs": [
    {
     "data": {
      "text/html": [
       "<div>\n",
       "<style scoped>\n",
       "    .dataframe tbody tr th:only-of-type {\n",
       "        vertical-align: middle;\n",
       "    }\n",
       "\n",
       "    .dataframe tbody tr th {\n",
       "        vertical-align: top;\n",
       "    }\n",
       "\n",
       "    .dataframe thead th {\n",
       "        text-align: right;\n",
       "    }\n",
       "</style>\n",
       "<table border=\"1\" class=\"dataframe\">\n",
       "  <thead>\n",
       "    <tr style=\"text-align: right;\">\n",
       "      <th></th>\n",
       "      <th>Country Name</th>\n",
       "      <th>Cars</th>\n",
       "      <th>Bicycles</th>\n",
       "      <th>Scooter</th>\n",
       "      <th>Powerplants</th>\n",
       "      <th>Flower</th>\n",
       "      <th>Transportation</th>\n",
       "      <th>Bananas</th>\n",
       "      <th>Apples</th>\n",
       "    </tr>\n",
       "  </thead>\n",
       "  <tbody>\n",
       "    <tr>\n",
       "      <th>0</th>\n",
       "      <td>Germany</td>\n",
       "      <td>149455</td>\n",
       "      <td>80000</td>\n",
       "      <td>817887</td>\n",
       "      <td>256802</td>\n",
       "      <td>804946</td>\n",
       "      <td>1047342</td>\n",
       "      <td>677089.0</td>\n",
       "      <td>825939.0</td>\n",
       "    </tr>\n",
       "    <tr>\n",
       "      <th>1</th>\n",
       "      <td>China</td>\n",
       "      <td>993542</td>\n",
       "      <td>952183</td>\n",
       "      <td>1729</td>\n",
       "      <td>376470</td>\n",
       "      <td>611754</td>\n",
       "      <td>1947454</td>\n",
       "      <td>298410.0</td>\n",
       "      <td>45526.0</td>\n",
       "    </tr>\n",
       "    <tr>\n",
       "      <th>2</th>\n",
       "      <td>France</td>\n",
       "      <td>488843</td>\n",
       "      <td>957826</td>\n",
       "      <td>897808</td>\n",
       "      <td>748764</td>\n",
       "      <td>20518</td>\n",
       "      <td>2344477</td>\n",
       "      <td>NaN</td>\n",
       "      <td>NaN</td>\n",
       "    </tr>\n",
       "    <tr>\n",
       "      <th>3</th>\n",
       "      <td>USA</td>\n",
       "      <td>199580</td>\n",
       "      <td>309767</td>\n",
       "      <td>734203</td>\n",
       "      <td>134947</td>\n",
       "      <td>56205</td>\n",
       "      <td>1243550</td>\n",
       "      <td>770048.0</td>\n",
       "      <td>482599.0</td>\n",
       "    </tr>\n",
       "    <tr>\n",
       "      <th>4</th>\n",
       "      <td>Iceland</td>\n",
       "      <td>7767</td>\n",
       "      <td>163751</td>\n",
       "      <td>126818</td>\n",
       "      <td>162259</td>\n",
       "      <td>928317</td>\n",
       "      <td>298336</td>\n",
       "      <td>NaN</td>\n",
       "      <td>NaN</td>\n",
       "    </tr>\n",
       "  </tbody>\n",
       "</table>\n",
       "</div>"
      ],
      "text/plain": [
       "  Country Name    Cars  Bicycles  Scooter  Powerplants  Flower  \\\n",
       "0      Germany  149455     80000   817887       256802  804946   \n",
       "1        China  993542    952183     1729       376470  611754   \n",
       "2       France  488843    957826   897808       748764   20518   \n",
       "3          USA  199580    309767   734203       134947   56205   \n",
       "4      Iceland    7767    163751   126818       162259  928317   \n",
       "\n",
       "   Transportation   Bananas    Apples  \n",
       "0         1047342  677089.0  825939.0  \n",
       "1         1947454  298410.0   45526.0  \n",
       "2         2344477       NaN       NaN  \n",
       "3         1243550  770048.0  482599.0  \n",
       "4          298336       NaN       NaN  "
      ]
     },
     "execution_count": 91,
     "metadata": {},
     "output_type": "execute_result"
    }
   ],
   "source": [
    "pd.merge(countries_df, countries_df2, on=\"Country Name\", how=\"left\")"
   ]
  },
  {
   "cell_type": "markdown",
   "id": "spiritual-leonard",
   "metadata": {},
   "source": [
    "### Missing Data"
   ]
  },
  {
   "cell_type": "code",
   "execution_count": 94,
   "id": "promising-cache",
   "metadata": {},
   "outputs": [
    {
     "data": {
      "text/html": [
       "<div>\n",
       "<style scoped>\n",
       "    .dataframe tbody tr th:only-of-type {\n",
       "        vertical-align: middle;\n",
       "    }\n",
       "\n",
       "    .dataframe tbody tr th {\n",
       "        vertical-align: top;\n",
       "    }\n",
       "\n",
       "    .dataframe thead th {\n",
       "        text-align: right;\n",
       "    }\n",
       "</style>\n",
       "<table border=\"1\" class=\"dataframe\">\n",
       "  <thead>\n",
       "    <tr style=\"text-align: right;\">\n",
       "      <th></th>\n",
       "      <th>Country Name</th>\n",
       "      <th>Cars</th>\n",
       "      <th>Bicycles</th>\n",
       "      <th>Scooter</th>\n",
       "      <th>Powerplants</th>\n",
       "      <th>Flower</th>\n",
       "      <th>Transportation</th>\n",
       "      <th>Bananas</th>\n",
       "      <th>Apples</th>\n",
       "    </tr>\n",
       "  </thead>\n",
       "  <tbody>\n",
       "    <tr>\n",
       "      <th>0</th>\n",
       "      <td>Germany</td>\n",
       "      <td>149455.0</td>\n",
       "      <td>80000.0</td>\n",
       "      <td>817887.0</td>\n",
       "      <td>256802.0</td>\n",
       "      <td>804946.0</td>\n",
       "      <td>1047342.0</td>\n",
       "      <td>677089.0</td>\n",
       "      <td>825939.0</td>\n",
       "    </tr>\n",
       "    <tr>\n",
       "      <th>1</th>\n",
       "      <td>China</td>\n",
       "      <td>993542.0</td>\n",
       "      <td>952183.0</td>\n",
       "      <td>1729.0</td>\n",
       "      <td>376470.0</td>\n",
       "      <td>611754.0</td>\n",
       "      <td>1947454.0</td>\n",
       "      <td>298410.0</td>\n",
       "      <td>45526.0</td>\n",
       "    </tr>\n",
       "    <tr>\n",
       "      <th>2</th>\n",
       "      <td>France</td>\n",
       "      <td>488843.0</td>\n",
       "      <td>957826.0</td>\n",
       "      <td>897808.0</td>\n",
       "      <td>748764.0</td>\n",
       "      <td>20518.0</td>\n",
       "      <td>2344477.0</td>\n",
       "      <td>NaN</td>\n",
       "      <td>NaN</td>\n",
       "    </tr>\n",
       "    <tr>\n",
       "      <th>3</th>\n",
       "      <td>USA</td>\n",
       "      <td>199580.0</td>\n",
       "      <td>309767.0</td>\n",
       "      <td>734203.0</td>\n",
       "      <td>134947.0</td>\n",
       "      <td>56205.0</td>\n",
       "      <td>1243550.0</td>\n",
       "      <td>770048.0</td>\n",
       "      <td>482599.0</td>\n",
       "    </tr>\n",
       "    <tr>\n",
       "      <th>4</th>\n",
       "      <td>Iceland</td>\n",
       "      <td>7767.0</td>\n",
       "      <td>163751.0</td>\n",
       "      <td>126818.0</td>\n",
       "      <td>162259.0</td>\n",
       "      <td>928317.0</td>\n",
       "      <td>298336.0</td>\n",
       "      <td>NaN</td>\n",
       "      <td>NaN</td>\n",
       "    </tr>\n",
       "    <tr>\n",
       "      <th>5</th>\n",
       "      <td>New Zealand</td>\n",
       "      <td>NaN</td>\n",
       "      <td>NaN</td>\n",
       "      <td>NaN</td>\n",
       "      <td>NaN</td>\n",
       "      <td>NaN</td>\n",
       "      <td>NaN</td>\n",
       "      <td>358926.0</td>\n",
       "      <td>572438.0</td>\n",
       "    </tr>\n",
       "  </tbody>\n",
       "</table>\n",
       "</div>"
      ],
      "text/plain": [
       "  Country Name      Cars  Bicycles   Scooter  Powerplants    Flower  \\\n",
       "0      Germany  149455.0   80000.0  817887.0     256802.0  804946.0   \n",
       "1        China  993542.0  952183.0    1729.0     376470.0  611754.0   \n",
       "2       France  488843.0  957826.0  897808.0     748764.0   20518.0   \n",
       "3          USA  199580.0  309767.0  734203.0     134947.0   56205.0   \n",
       "4      Iceland    7767.0  163751.0  126818.0     162259.0  928317.0   \n",
       "5  New Zealand       NaN       NaN       NaN          NaN       NaN   \n",
       "\n",
       "   Transportation   Bananas    Apples  \n",
       "0       1047342.0  677089.0  825939.0  \n",
       "1       1947454.0  298410.0   45526.0  \n",
       "2       2344477.0       NaN       NaN  \n",
       "3       1243550.0  770048.0  482599.0  \n",
       "4        298336.0       NaN       NaN  \n",
       "5             NaN  358926.0  572438.0  "
      ]
     },
     "execution_count": 94,
     "metadata": {},
     "output_type": "execute_result"
    }
   ],
   "source": [
    "countries_outer_df"
   ]
  },
  {
   "cell_type": "code",
   "execution_count": 93,
   "id": "rising-quick",
   "metadata": {},
   "outputs": [
    {
     "data": {
      "text/html": [
       "<div>\n",
       "<style scoped>\n",
       "    .dataframe tbody tr th:only-of-type {\n",
       "        vertical-align: middle;\n",
       "    }\n",
       "\n",
       "    .dataframe tbody tr th {\n",
       "        vertical-align: top;\n",
       "    }\n",
       "\n",
       "    .dataframe thead th {\n",
       "        text-align: right;\n",
       "    }\n",
       "</style>\n",
       "<table border=\"1\" class=\"dataframe\">\n",
       "  <thead>\n",
       "    <tr style=\"text-align: right;\">\n",
       "      <th></th>\n",
       "      <th>Country Name</th>\n",
       "      <th>Cars</th>\n",
       "      <th>Bicycles</th>\n",
       "      <th>Scooter</th>\n",
       "      <th>Powerplants</th>\n",
       "      <th>Flower</th>\n",
       "      <th>Transportation</th>\n",
       "      <th>Bananas</th>\n",
       "      <th>Apples</th>\n",
       "    </tr>\n",
       "  </thead>\n",
       "  <tbody>\n",
       "    <tr>\n",
       "      <th>0</th>\n",
       "      <td>Germany</td>\n",
       "      <td>149455.0</td>\n",
       "      <td>80000.0</td>\n",
       "      <td>817887.0</td>\n",
       "      <td>256802.0</td>\n",
       "      <td>804946.0</td>\n",
       "      <td>1047342.0</td>\n",
       "      <td>677089.00</td>\n",
       "      <td>825939.0</td>\n",
       "    </tr>\n",
       "    <tr>\n",
       "      <th>1</th>\n",
       "      <td>China</td>\n",
       "      <td>993542.0</td>\n",
       "      <td>952183.0</td>\n",
       "      <td>1729.0</td>\n",
       "      <td>376470.0</td>\n",
       "      <td>611754.0</td>\n",
       "      <td>1947454.0</td>\n",
       "      <td>298410.00</td>\n",
       "      <td>45526.0</td>\n",
       "    </tr>\n",
       "    <tr>\n",
       "      <th>2</th>\n",
       "      <td>France</td>\n",
       "      <td>488843.0</td>\n",
       "      <td>957826.0</td>\n",
       "      <td>897808.0</td>\n",
       "      <td>748764.0</td>\n",
       "      <td>20518.0</td>\n",
       "      <td>2344477.0</td>\n",
       "      <td>526118.25</td>\n",
       "      <td>481625.5</td>\n",
       "    </tr>\n",
       "    <tr>\n",
       "      <th>3</th>\n",
       "      <td>USA</td>\n",
       "      <td>199580.0</td>\n",
       "      <td>309767.0</td>\n",
       "      <td>734203.0</td>\n",
       "      <td>134947.0</td>\n",
       "      <td>56205.0</td>\n",
       "      <td>1243550.0</td>\n",
       "      <td>770048.00</td>\n",
       "      <td>482599.0</td>\n",
       "    </tr>\n",
       "    <tr>\n",
       "      <th>4</th>\n",
       "      <td>Iceland</td>\n",
       "      <td>7767.0</td>\n",
       "      <td>163751.0</td>\n",
       "      <td>126818.0</td>\n",
       "      <td>162259.0</td>\n",
       "      <td>928317.0</td>\n",
       "      <td>298336.0</td>\n",
       "      <td>526118.25</td>\n",
       "      <td>481625.5</td>\n",
       "    </tr>\n",
       "    <tr>\n",
       "      <th>5</th>\n",
       "      <td>New Zealand</td>\n",
       "      <td>367837.4</td>\n",
       "      <td>492705.4</td>\n",
       "      <td>515689.0</td>\n",
       "      <td>335848.4</td>\n",
       "      <td>484348.0</td>\n",
       "      <td>1376231.8</td>\n",
       "      <td>358926.00</td>\n",
       "      <td>572438.0</td>\n",
       "    </tr>\n",
       "  </tbody>\n",
       "</table>\n",
       "</div>"
      ],
      "text/plain": [
       "  Country Name      Cars  Bicycles   Scooter  Powerplants    Flower  \\\n",
       "0      Germany  149455.0   80000.0  817887.0     256802.0  804946.0   \n",
       "1        China  993542.0  952183.0    1729.0     376470.0  611754.0   \n",
       "2       France  488843.0  957826.0  897808.0     748764.0   20518.0   \n",
       "3          USA  199580.0  309767.0  734203.0     134947.0   56205.0   \n",
       "4      Iceland    7767.0  163751.0  126818.0     162259.0  928317.0   \n",
       "5  New Zealand  367837.4  492705.4  515689.0     335848.4  484348.0   \n",
       "\n",
       "   Transportation    Bananas    Apples  \n",
       "0       1047342.0  677089.00  825939.0  \n",
       "1       1947454.0  298410.00   45526.0  \n",
       "2       2344477.0  526118.25  481625.5  \n",
       "3       1243550.0  770048.00  482599.0  \n",
       "4        298336.0  526118.25  481625.5  \n",
       "5       1376231.8  358926.00  572438.0  "
      ]
     },
     "execution_count": 93,
     "metadata": {},
     "output_type": "execute_result"
    }
   ],
   "source": [
    "countries_outer_df.fillna(countries_outer_df.mean())"
   ]
  },
  {
   "cell_type": "code",
   "execution_count": 97,
   "id": "infectious-repeat",
   "metadata": {},
   "outputs": [
    {
     "data": {
      "text/html": [
       "<div>\n",
       "<style scoped>\n",
       "    .dataframe tbody tr th:only-of-type {\n",
       "        vertical-align: middle;\n",
       "    }\n",
       "\n",
       "    .dataframe tbody tr th {\n",
       "        vertical-align: top;\n",
       "    }\n",
       "\n",
       "    .dataframe thead th {\n",
       "        text-align: right;\n",
       "    }\n",
       "</style>\n",
       "<table border=\"1\" class=\"dataframe\">\n",
       "  <thead>\n",
       "    <tr style=\"text-align: right;\">\n",
       "      <th></th>\n",
       "      <th>Country Name</th>\n",
       "      <th>Cars</th>\n",
       "      <th>Bicycles</th>\n",
       "      <th>Scooter</th>\n",
       "      <th>Powerplants</th>\n",
       "      <th>Flower</th>\n",
       "      <th>Transportation</th>\n",
       "      <th>Bananas</th>\n",
       "      <th>Apples</th>\n",
       "    </tr>\n",
       "  </thead>\n",
       "  <tbody>\n",
       "    <tr>\n",
       "      <th>0</th>\n",
       "      <td>Germany</td>\n",
       "      <td>149455.0</td>\n",
       "      <td>80000.0</td>\n",
       "      <td>817887.0</td>\n",
       "      <td>256802.0</td>\n",
       "      <td>804946.0</td>\n",
       "      <td>1047342.0</td>\n",
       "      <td>677089.0</td>\n",
       "      <td>825939.0</td>\n",
       "    </tr>\n",
       "    <tr>\n",
       "      <th>1</th>\n",
       "      <td>China</td>\n",
       "      <td>993542.0</td>\n",
       "      <td>952183.0</td>\n",
       "      <td>1729.0</td>\n",
       "      <td>376470.0</td>\n",
       "      <td>611754.0</td>\n",
       "      <td>1947454.0</td>\n",
       "      <td>298410.0</td>\n",
       "      <td>45526.0</td>\n",
       "    </tr>\n",
       "    <tr>\n",
       "      <th>2</th>\n",
       "      <td>France</td>\n",
       "      <td>488843.0</td>\n",
       "      <td>957826.0</td>\n",
       "      <td>897808.0</td>\n",
       "      <td>748764.0</td>\n",
       "      <td>20518.0</td>\n",
       "      <td>2344477.0</td>\n",
       "      <td>600000.0</td>\n",
       "      <td>300000.0</td>\n",
       "    </tr>\n",
       "    <tr>\n",
       "      <th>3</th>\n",
       "      <td>USA</td>\n",
       "      <td>199580.0</td>\n",
       "      <td>309767.0</td>\n",
       "      <td>734203.0</td>\n",
       "      <td>134947.0</td>\n",
       "      <td>56205.0</td>\n",
       "      <td>1243550.0</td>\n",
       "      <td>770048.0</td>\n",
       "      <td>482599.0</td>\n",
       "    </tr>\n",
       "    <tr>\n",
       "      <th>4</th>\n",
       "      <td>Iceland</td>\n",
       "      <td>7767.0</td>\n",
       "      <td>163751.0</td>\n",
       "      <td>126818.0</td>\n",
       "      <td>162259.0</td>\n",
       "      <td>928317.0</td>\n",
       "      <td>298336.0</td>\n",
       "      <td>600000.0</td>\n",
       "      <td>300000.0</td>\n",
       "    </tr>\n",
       "  </tbody>\n",
       "</table>\n",
       "</div>"
      ],
      "text/plain": [
       "  Country Name      Cars  Bicycles   Scooter  Powerplants    Flower  \\\n",
       "0      Germany  149455.0   80000.0  817887.0     256802.0  804946.0   \n",
       "1        China  993542.0  952183.0    1729.0     376470.0  611754.0   \n",
       "2       France  488843.0  957826.0  897808.0     748764.0   20518.0   \n",
       "3          USA  199580.0  309767.0  734203.0     134947.0   56205.0   \n",
       "4      Iceland    7767.0  163751.0  126818.0     162259.0  928317.0   \n",
       "\n",
       "   Transportation   Bananas    Apples  \n",
       "0       1047342.0  677089.0  825939.0  \n",
       "1       1947454.0  298410.0   45526.0  \n",
       "2       2344477.0  600000.0  300000.0  \n",
       "3       1243550.0  770048.0  482599.0  \n",
       "4        298336.0  600000.0  300000.0  "
      ]
     },
     "execution_count": 97,
     "metadata": {},
     "output_type": "execute_result"
    }
   ],
   "source": [
    "countries_outer_df.fillna(value={\"Bananas\":600000, \"Apples\":300000}).dropna()"
   ]
  },
  {
   "cell_type": "markdown",
   "id": "innocent-smile",
   "metadata": {},
   "source": [
    "### Concatenation"
   ]
  },
  {
   "cell_type": "code",
   "execution_count": 98,
   "id": "vocal-kansas",
   "metadata": {},
   "outputs": [
    {
     "data": {
      "text/html": [
       "<div>\n",
       "<style scoped>\n",
       "    .dataframe tbody tr th:only-of-type {\n",
       "        vertical-align: middle;\n",
       "    }\n",
       "\n",
       "    .dataframe tbody tr th {\n",
       "        vertical-align: top;\n",
       "    }\n",
       "\n",
       "    .dataframe thead th {\n",
       "        text-align: right;\n",
       "    }\n",
       "</style>\n",
       "<table border=\"1\" class=\"dataframe\">\n",
       "  <thead>\n",
       "    <tr style=\"text-align: right;\">\n",
       "      <th></th>\n",
       "      <th>Country Name</th>\n",
       "      <th>Cars</th>\n",
       "      <th>Bicycles</th>\n",
       "      <th>Scooter</th>\n",
       "      <th>Powerplants</th>\n",
       "      <th>Flower</th>\n",
       "      <th>Transportation</th>\n",
       "    </tr>\n",
       "  </thead>\n",
       "  <tbody>\n",
       "    <tr>\n",
       "      <th>0</th>\n",
       "      <td>Germany</td>\n",
       "      <td>149455</td>\n",
       "      <td>80000</td>\n",
       "      <td>817887</td>\n",
       "      <td>256802</td>\n",
       "      <td>804946</td>\n",
       "      <td>1047342</td>\n",
       "    </tr>\n",
       "    <tr>\n",
       "      <th>1</th>\n",
       "      <td>China</td>\n",
       "      <td>993542</td>\n",
       "      <td>952183</td>\n",
       "      <td>1729</td>\n",
       "      <td>376470</td>\n",
       "      <td>611754</td>\n",
       "      <td>1947454</td>\n",
       "    </tr>\n",
       "    <tr>\n",
       "      <th>2</th>\n",
       "      <td>France</td>\n",
       "      <td>488843</td>\n",
       "      <td>957826</td>\n",
       "      <td>897808</td>\n",
       "      <td>748764</td>\n",
       "      <td>20518</td>\n",
       "      <td>2344477</td>\n",
       "    </tr>\n",
       "    <tr>\n",
       "      <th>3</th>\n",
       "      <td>USA</td>\n",
       "      <td>199580</td>\n",
       "      <td>309767</td>\n",
       "      <td>734203</td>\n",
       "      <td>134947</td>\n",
       "      <td>56205</td>\n",
       "      <td>1243550</td>\n",
       "    </tr>\n",
       "    <tr>\n",
       "      <th>4</th>\n",
       "      <td>Iceland</td>\n",
       "      <td>7767</td>\n",
       "      <td>163751</td>\n",
       "      <td>126818</td>\n",
       "      <td>162259</td>\n",
       "      <td>928317</td>\n",
       "      <td>298336</td>\n",
       "    </tr>\n",
       "  </tbody>\n",
       "</table>\n",
       "</div>"
      ],
      "text/plain": [
       "  Country Name    Cars  Bicycles  Scooter  Powerplants  Flower  Transportation\n",
       "0      Germany  149455     80000   817887       256802  804946         1047342\n",
       "1        China  993542    952183     1729       376470  611754         1947454\n",
       "2       France  488843    957826   897808       748764   20518         2344477\n",
       "3          USA  199580    309767   734203       134947   56205         1243550\n",
       "4      Iceland    7767    163751   126818       162259  928317          298336"
      ]
     },
     "execution_count": 98,
     "metadata": {},
     "output_type": "execute_result"
    }
   ],
   "source": [
    "countries_df"
   ]
  },
  {
   "cell_type": "code",
   "execution_count": 102,
   "id": "affecting-grill",
   "metadata": {},
   "outputs": [],
   "source": [
    "cols = [\"Country Name\", \"Cars\", \"Bicycles\", \"Scooter\", \"Powerplants\", \"Flower\", \"Transportation\"]\n",
    "rows = [\"South Arica\", \"Argentina\", \"Chile\", \"Lybia\"]\n",
    "\n",
    "data = np.random.randint(1, 1000000, (len(rows), len(cols)))\n",
    "data\n",
    "\n",
    "countries_df_new = pd.DataFrame(data, columns=cols)"
   ]
  },
  {
   "cell_type": "code",
   "execution_count": null,
   "id": "multiple-chicago",
   "metadata": {},
   "outputs": [],
   "source": [
    "countries_df_new[\"Country Name\"] = rows"
   ]
  },
  {
   "cell_type": "code",
   "execution_count": 106,
   "id": "major-verification",
   "metadata": {},
   "outputs": [
    {
     "data": {
      "text/html": [
       "<div>\n",
       "<style scoped>\n",
       "    .dataframe tbody tr th:only-of-type {\n",
       "        vertical-align: middle;\n",
       "    }\n",
       "\n",
       "    .dataframe tbody tr th {\n",
       "        vertical-align: top;\n",
       "    }\n",
       "\n",
       "    .dataframe thead th {\n",
       "        text-align: right;\n",
       "    }\n",
       "</style>\n",
       "<table border=\"1\" class=\"dataframe\">\n",
       "  <thead>\n",
       "    <tr style=\"text-align: right;\">\n",
       "      <th></th>\n",
       "      <th>Country Name</th>\n",
       "      <th>Cars</th>\n",
       "      <th>Bicycles</th>\n",
       "      <th>Scooter</th>\n",
       "      <th>Powerplants</th>\n",
       "      <th>Flower</th>\n",
       "      <th>Transportation</th>\n",
       "    </tr>\n",
       "  </thead>\n",
       "  <tbody>\n",
       "    <tr>\n",
       "      <th>0</th>\n",
       "      <td>South Arica</td>\n",
       "      <td>124778</td>\n",
       "      <td>542630</td>\n",
       "      <td>664444</td>\n",
       "      <td>621310</td>\n",
       "      <td>693778</td>\n",
       "      <td>764564</td>\n",
       "    </tr>\n",
       "    <tr>\n",
       "      <th>1</th>\n",
       "      <td>Argentina</td>\n",
       "      <td>162210</td>\n",
       "      <td>108502</td>\n",
       "      <td>604893</td>\n",
       "      <td>100893</td>\n",
       "      <td>770069</td>\n",
       "      <td>86136</td>\n",
       "    </tr>\n",
       "    <tr>\n",
       "      <th>2</th>\n",
       "      <td>Chile</td>\n",
       "      <td>882039</td>\n",
       "      <td>345332</td>\n",
       "      <td>948100</td>\n",
       "      <td>606019</td>\n",
       "      <td>143886</td>\n",
       "      <td>343676</td>\n",
       "    </tr>\n",
       "    <tr>\n",
       "      <th>3</th>\n",
       "      <td>Lybia</td>\n",
       "      <td>222183</td>\n",
       "      <td>450582</td>\n",
       "      <td>86125</td>\n",
       "      <td>851091</td>\n",
       "      <td>940475</td>\n",
       "      <td>432131</td>\n",
       "    </tr>\n",
       "  </tbody>\n",
       "</table>\n",
       "</div>"
      ],
      "text/plain": [
       "  Country Name    Cars  Bicycles  Scooter  Powerplants  Flower  Transportation\n",
       "0  South Arica  124778    542630   664444       621310  693778          764564\n",
       "1    Argentina  162210    108502   604893       100893  770069           86136\n",
       "2        Chile  882039    345332   948100       606019  143886          343676\n",
       "3        Lybia  222183    450582    86125       851091  940475          432131"
      ]
     },
     "execution_count": 106,
     "metadata": {},
     "output_type": "execute_result"
    }
   ],
   "source": [
    "countries_df_new"
   ]
  },
  {
   "cell_type": "code",
   "execution_count": 110,
   "id": "infrared-christmas",
   "metadata": {},
   "outputs": [
    {
     "data": {
      "text/html": [
       "<div>\n",
       "<style scoped>\n",
       "    .dataframe tbody tr th:only-of-type {\n",
       "        vertical-align: middle;\n",
       "    }\n",
       "\n",
       "    .dataframe tbody tr th {\n",
       "        vertical-align: top;\n",
       "    }\n",
       "\n",
       "    .dataframe thead th {\n",
       "        text-align: right;\n",
       "    }\n",
       "</style>\n",
       "<table border=\"1\" class=\"dataframe\">\n",
       "  <thead>\n",
       "    <tr style=\"text-align: right;\">\n",
       "      <th></th>\n",
       "      <th>Country Name</th>\n",
       "      <th>Cars</th>\n",
       "      <th>Bicycles</th>\n",
       "      <th>Scooter</th>\n",
       "      <th>Powerplants</th>\n",
       "      <th>Flower</th>\n",
       "      <th>Transportation</th>\n",
       "    </tr>\n",
       "  </thead>\n",
       "  <tbody>\n",
       "    <tr>\n",
       "      <th>0</th>\n",
       "      <td>Germany</td>\n",
       "      <td>149455</td>\n",
       "      <td>80000</td>\n",
       "      <td>817887</td>\n",
       "      <td>256802</td>\n",
       "      <td>804946</td>\n",
       "      <td>1047342</td>\n",
       "    </tr>\n",
       "    <tr>\n",
       "      <th>1</th>\n",
       "      <td>China</td>\n",
       "      <td>993542</td>\n",
       "      <td>952183</td>\n",
       "      <td>1729</td>\n",
       "      <td>376470</td>\n",
       "      <td>611754</td>\n",
       "      <td>1947454</td>\n",
       "    </tr>\n",
       "    <tr>\n",
       "      <th>2</th>\n",
       "      <td>France</td>\n",
       "      <td>488843</td>\n",
       "      <td>957826</td>\n",
       "      <td>897808</td>\n",
       "      <td>748764</td>\n",
       "      <td>20518</td>\n",
       "      <td>2344477</td>\n",
       "    </tr>\n",
       "    <tr>\n",
       "      <th>3</th>\n",
       "      <td>USA</td>\n",
       "      <td>199580</td>\n",
       "      <td>309767</td>\n",
       "      <td>734203</td>\n",
       "      <td>134947</td>\n",
       "      <td>56205</td>\n",
       "      <td>1243550</td>\n",
       "    </tr>\n",
       "    <tr>\n",
       "      <th>4</th>\n",
       "      <td>Iceland</td>\n",
       "      <td>7767</td>\n",
       "      <td>163751</td>\n",
       "      <td>126818</td>\n",
       "      <td>162259</td>\n",
       "      <td>928317</td>\n",
       "      <td>298336</td>\n",
       "    </tr>\n",
       "    <tr>\n",
       "      <th>5</th>\n",
       "      <td>South Arica</td>\n",
       "      <td>124778</td>\n",
       "      <td>542630</td>\n",
       "      <td>664444</td>\n",
       "      <td>621310</td>\n",
       "      <td>693778</td>\n",
       "      <td>764564</td>\n",
       "    </tr>\n",
       "    <tr>\n",
       "      <th>6</th>\n",
       "      <td>Argentina</td>\n",
       "      <td>162210</td>\n",
       "      <td>108502</td>\n",
       "      <td>604893</td>\n",
       "      <td>100893</td>\n",
       "      <td>770069</td>\n",
       "      <td>86136</td>\n",
       "    </tr>\n",
       "    <tr>\n",
       "      <th>7</th>\n",
       "      <td>Chile</td>\n",
       "      <td>882039</td>\n",
       "      <td>345332</td>\n",
       "      <td>948100</td>\n",
       "      <td>606019</td>\n",
       "      <td>143886</td>\n",
       "      <td>343676</td>\n",
       "    </tr>\n",
       "    <tr>\n",
       "      <th>8</th>\n",
       "      <td>Lybia</td>\n",
       "      <td>222183</td>\n",
       "      <td>450582</td>\n",
       "      <td>86125</td>\n",
       "      <td>851091</td>\n",
       "      <td>940475</td>\n",
       "      <td>432131</td>\n",
       "    </tr>\n",
       "  </tbody>\n",
       "</table>\n",
       "</div>"
      ],
      "text/plain": [
       "  Country Name    Cars  Bicycles  Scooter  Powerplants  Flower  Transportation\n",
       "0      Germany  149455     80000   817887       256802  804946         1047342\n",
       "1        China  993542    952183     1729       376470  611754         1947454\n",
       "2       France  488843    957826   897808       748764   20518         2344477\n",
       "3          USA  199580    309767   734203       134947   56205         1243550\n",
       "4      Iceland    7767    163751   126818       162259  928317          298336\n",
       "5  South Arica  124778    542630   664444       621310  693778          764564\n",
       "6    Argentina  162210    108502   604893       100893  770069           86136\n",
       "7        Chile  882039    345332   948100       606019  143886          343676\n",
       "8        Lybia  222183    450582    86125       851091  940475          432131"
      ]
     },
     "execution_count": 110,
     "metadata": {},
     "output_type": "execute_result"
    }
   ],
   "source": [
    "countries_df_large = pd.concat([countries_df, countries_df_new]).reset_index(drop=True)\n",
    "countries_df_large"
   ]
  },
  {
   "cell_type": "markdown",
   "id": "medieval-montreal",
   "metadata": {},
   "source": [
    "### GroupBy"
   ]
  },
  {
   "cell_type": "code",
   "execution_count": 111,
   "id": "collectible-homeless",
   "metadata": {},
   "outputs": [],
   "source": [
    "countries_df_large[\"Continent\"] = [\"Europe\", \"Asia\", \"Europe\", \"North America\", \"Europe\", \"Africa\", \"South America\", \"South America\", \"Africa\"]"
   ]
  },
  {
   "cell_type": "code",
   "execution_count": 112,
   "id": "random-kernel",
   "metadata": {},
   "outputs": [
    {
     "data": {
      "text/html": [
       "<div>\n",
       "<style scoped>\n",
       "    .dataframe tbody tr th:only-of-type {\n",
       "        vertical-align: middle;\n",
       "    }\n",
       "\n",
       "    .dataframe tbody tr th {\n",
       "        vertical-align: top;\n",
       "    }\n",
       "\n",
       "    .dataframe thead th {\n",
       "        text-align: right;\n",
       "    }\n",
       "</style>\n",
       "<table border=\"1\" class=\"dataframe\">\n",
       "  <thead>\n",
       "    <tr style=\"text-align: right;\">\n",
       "      <th></th>\n",
       "      <th>Country Name</th>\n",
       "      <th>Cars</th>\n",
       "      <th>Bicycles</th>\n",
       "      <th>Scooter</th>\n",
       "      <th>Powerplants</th>\n",
       "      <th>Flower</th>\n",
       "      <th>Transportation</th>\n",
       "      <th>Continent</th>\n",
       "    </tr>\n",
       "  </thead>\n",
       "  <tbody>\n",
       "    <tr>\n",
       "      <th>0</th>\n",
       "      <td>Germany</td>\n",
       "      <td>149455</td>\n",
       "      <td>80000</td>\n",
       "      <td>817887</td>\n",
       "      <td>256802</td>\n",
       "      <td>804946</td>\n",
       "      <td>1047342</td>\n",
       "      <td>Europe</td>\n",
       "    </tr>\n",
       "    <tr>\n",
       "      <th>1</th>\n",
       "      <td>China</td>\n",
       "      <td>993542</td>\n",
       "      <td>952183</td>\n",
       "      <td>1729</td>\n",
       "      <td>376470</td>\n",
       "      <td>611754</td>\n",
       "      <td>1947454</td>\n",
       "      <td>Asia</td>\n",
       "    </tr>\n",
       "    <tr>\n",
       "      <th>2</th>\n",
       "      <td>France</td>\n",
       "      <td>488843</td>\n",
       "      <td>957826</td>\n",
       "      <td>897808</td>\n",
       "      <td>748764</td>\n",
       "      <td>20518</td>\n",
       "      <td>2344477</td>\n",
       "      <td>Europe</td>\n",
       "    </tr>\n",
       "    <tr>\n",
       "      <th>3</th>\n",
       "      <td>USA</td>\n",
       "      <td>199580</td>\n",
       "      <td>309767</td>\n",
       "      <td>734203</td>\n",
       "      <td>134947</td>\n",
       "      <td>56205</td>\n",
       "      <td>1243550</td>\n",
       "      <td>North America</td>\n",
       "    </tr>\n",
       "    <tr>\n",
       "      <th>4</th>\n",
       "      <td>Iceland</td>\n",
       "      <td>7767</td>\n",
       "      <td>163751</td>\n",
       "      <td>126818</td>\n",
       "      <td>162259</td>\n",
       "      <td>928317</td>\n",
       "      <td>298336</td>\n",
       "      <td>Europe</td>\n",
       "    </tr>\n",
       "    <tr>\n",
       "      <th>5</th>\n",
       "      <td>South Arica</td>\n",
       "      <td>124778</td>\n",
       "      <td>542630</td>\n",
       "      <td>664444</td>\n",
       "      <td>621310</td>\n",
       "      <td>693778</td>\n",
       "      <td>764564</td>\n",
       "      <td>Africa</td>\n",
       "    </tr>\n",
       "    <tr>\n",
       "      <th>6</th>\n",
       "      <td>Argentina</td>\n",
       "      <td>162210</td>\n",
       "      <td>108502</td>\n",
       "      <td>604893</td>\n",
       "      <td>100893</td>\n",
       "      <td>770069</td>\n",
       "      <td>86136</td>\n",
       "      <td>South America</td>\n",
       "    </tr>\n",
       "    <tr>\n",
       "      <th>7</th>\n",
       "      <td>Chile</td>\n",
       "      <td>882039</td>\n",
       "      <td>345332</td>\n",
       "      <td>948100</td>\n",
       "      <td>606019</td>\n",
       "      <td>143886</td>\n",
       "      <td>343676</td>\n",
       "      <td>South America</td>\n",
       "    </tr>\n",
       "    <tr>\n",
       "      <th>8</th>\n",
       "      <td>Lybia</td>\n",
       "      <td>222183</td>\n",
       "      <td>450582</td>\n",
       "      <td>86125</td>\n",
       "      <td>851091</td>\n",
       "      <td>940475</td>\n",
       "      <td>432131</td>\n",
       "      <td>Africa</td>\n",
       "    </tr>\n",
       "  </tbody>\n",
       "</table>\n",
       "</div>"
      ],
      "text/plain": [
       "  Country Name    Cars  Bicycles  Scooter  Powerplants  Flower  \\\n",
       "0      Germany  149455     80000   817887       256802  804946   \n",
       "1        China  993542    952183     1729       376470  611754   \n",
       "2       France  488843    957826   897808       748764   20518   \n",
       "3          USA  199580    309767   734203       134947   56205   \n",
       "4      Iceland    7767    163751   126818       162259  928317   \n",
       "5  South Arica  124778    542630   664444       621310  693778   \n",
       "6    Argentina  162210    108502   604893       100893  770069   \n",
       "7        Chile  882039    345332   948100       606019  143886   \n",
       "8        Lybia  222183    450582    86125       851091  940475   \n",
       "\n",
       "   Transportation      Continent  \n",
       "0         1047342         Europe  \n",
       "1         1947454           Asia  \n",
       "2         2344477         Europe  \n",
       "3         1243550  North America  \n",
       "4          298336         Europe  \n",
       "5          764564         Africa  \n",
       "6           86136  South America  \n",
       "7          343676  South America  \n",
       "8          432131         Africa  "
      ]
     },
     "execution_count": 112,
     "metadata": {},
     "output_type": "execute_result"
    }
   ],
   "source": [
    "countries_df_large"
   ]
  },
  {
   "cell_type": "code",
   "execution_count": 116,
   "id": "solved-wrist",
   "metadata": {},
   "outputs": [
    {
     "data": {
      "text/html": [
       "<div>\n",
       "<style scoped>\n",
       "    .dataframe tbody tr th:only-of-type {\n",
       "        vertical-align: middle;\n",
       "    }\n",
       "\n",
       "    .dataframe tbody tr th {\n",
       "        vertical-align: top;\n",
       "    }\n",
       "\n",
       "    .dataframe thead th {\n",
       "        text-align: right;\n",
       "    }\n",
       "</style>\n",
       "<table border=\"1\" class=\"dataframe\">\n",
       "  <thead>\n",
       "    <tr style=\"text-align: right;\">\n",
       "      <th></th>\n",
       "      <th>Cars</th>\n",
       "      <th>Bicycles</th>\n",
       "      <th>Scooter</th>\n",
       "      <th>Powerplants</th>\n",
       "      <th>Flower</th>\n",
       "      <th>Transportation</th>\n",
       "    </tr>\n",
       "    <tr>\n",
       "      <th>Continent</th>\n",
       "      <th></th>\n",
       "      <th></th>\n",
       "      <th></th>\n",
       "      <th></th>\n",
       "      <th></th>\n",
       "      <th></th>\n",
       "    </tr>\n",
       "  </thead>\n",
       "  <tbody>\n",
       "    <tr>\n",
       "      <th>Africa</th>\n",
       "      <td>173480.5</td>\n",
       "      <td>496606.000000</td>\n",
       "      <td>375284.5</td>\n",
       "      <td>736200.5</td>\n",
       "      <td>817126.500000</td>\n",
       "      <td>5.983475e+05</td>\n",
       "    </tr>\n",
       "    <tr>\n",
       "      <th>Asia</th>\n",
       "      <td>993542.0</td>\n",
       "      <td>952183.000000</td>\n",
       "      <td>1729.0</td>\n",
       "      <td>376470.0</td>\n",
       "      <td>611754.000000</td>\n",
       "      <td>1.947454e+06</td>\n",
       "    </tr>\n",
       "    <tr>\n",
       "      <th>Europe</th>\n",
       "      <td>215355.0</td>\n",
       "      <td>400525.666667</td>\n",
       "      <td>614171.0</td>\n",
       "      <td>389275.0</td>\n",
       "      <td>584593.666667</td>\n",
       "      <td>1.230052e+06</td>\n",
       "    </tr>\n",
       "    <tr>\n",
       "      <th>North America</th>\n",
       "      <td>199580.0</td>\n",
       "      <td>309767.000000</td>\n",
       "      <td>734203.0</td>\n",
       "      <td>134947.0</td>\n",
       "      <td>56205.000000</td>\n",
       "      <td>1.243550e+06</td>\n",
       "    </tr>\n",
       "    <tr>\n",
       "      <th>South America</th>\n",
       "      <td>522124.5</td>\n",
       "      <td>226917.000000</td>\n",
       "      <td>776496.5</td>\n",
       "      <td>353456.0</td>\n",
       "      <td>456977.500000</td>\n",
       "      <td>2.149060e+05</td>\n",
       "    </tr>\n",
       "  </tbody>\n",
       "</table>\n",
       "</div>"
      ],
      "text/plain": [
       "                   Cars       Bicycles   Scooter  Powerplants         Flower  \\\n",
       "Continent                                                                      \n",
       "Africa         173480.5  496606.000000  375284.5     736200.5  817126.500000   \n",
       "Asia           993542.0  952183.000000    1729.0     376470.0  611754.000000   \n",
       "Europe         215355.0  400525.666667  614171.0     389275.0  584593.666667   \n",
       "North America  199580.0  309767.000000  734203.0     134947.0   56205.000000   \n",
       "South America  522124.5  226917.000000  776496.5     353456.0  456977.500000   \n",
       "\n",
       "               Transportation  \n",
       "Continent                      \n",
       "Africa           5.983475e+05  \n",
       "Asia             1.947454e+06  \n",
       "Europe           1.230052e+06  \n",
       "North America    1.243550e+06  \n",
       "South America    2.149060e+05  "
      ]
     },
     "execution_count": 116,
     "metadata": {},
     "output_type": "execute_result"
    }
   ],
   "source": [
    "countries_df_large.groupby(\"Continent\").mean()"
   ]
  },
  {
   "cell_type": "markdown",
   "id": "after-vermont",
   "metadata": {},
   "source": [
    "## Read Data"
   ]
  },
  {
   "cell_type": "code",
   "execution_count": 117,
   "id": "comic-discrimination",
   "metadata": {},
   "outputs": [],
   "source": [
    "iris_df = pd.read_csv(\"data/IRIS.csv\")"
   ]
  },
  {
   "cell_type": "code",
   "execution_count": 118,
   "id": "familiar-sewing",
   "metadata": {},
   "outputs": [
    {
     "data": {
      "text/html": [
       "<div>\n",
       "<style scoped>\n",
       "    .dataframe tbody tr th:only-of-type {\n",
       "        vertical-align: middle;\n",
       "    }\n",
       "\n",
       "    .dataframe tbody tr th {\n",
       "        vertical-align: top;\n",
       "    }\n",
       "\n",
       "    .dataframe thead th {\n",
       "        text-align: right;\n",
       "    }\n",
       "</style>\n",
       "<table border=\"1\" class=\"dataframe\">\n",
       "  <thead>\n",
       "    <tr style=\"text-align: right;\">\n",
       "      <th></th>\n",
       "      <th>sepal_length</th>\n",
       "      <th>sepal_width</th>\n",
       "      <th>petal_length</th>\n",
       "      <th>petal_width</th>\n",
       "      <th>species</th>\n",
       "    </tr>\n",
       "  </thead>\n",
       "  <tbody>\n",
       "    <tr>\n",
       "      <th>0</th>\n",
       "      <td>5.1</td>\n",
       "      <td>3.5</td>\n",
       "      <td>1.4</td>\n",
       "      <td>0.2</td>\n",
       "      <td>setosa</td>\n",
       "    </tr>\n",
       "    <tr>\n",
       "      <th>1</th>\n",
       "      <td>4.9</td>\n",
       "      <td>3.0</td>\n",
       "      <td>1.4</td>\n",
       "      <td>0.2</td>\n",
       "      <td>setosa</td>\n",
       "    </tr>\n",
       "    <tr>\n",
       "      <th>2</th>\n",
       "      <td>4.7</td>\n",
       "      <td>3.2</td>\n",
       "      <td>1.3</td>\n",
       "      <td>0.2</td>\n",
       "      <td>setosa</td>\n",
       "    </tr>\n",
       "    <tr>\n",
       "      <th>3</th>\n",
       "      <td>4.6</td>\n",
       "      <td>3.1</td>\n",
       "      <td>1.5</td>\n",
       "      <td>0.2</td>\n",
       "      <td>setosa</td>\n",
       "    </tr>\n",
       "    <tr>\n",
       "      <th>4</th>\n",
       "      <td>5.0</td>\n",
       "      <td>3.6</td>\n",
       "      <td>1.4</td>\n",
       "      <td>0.2</td>\n",
       "      <td>setosa</td>\n",
       "    </tr>\n",
       "    <tr>\n",
       "      <th>...</th>\n",
       "      <td>...</td>\n",
       "      <td>...</td>\n",
       "      <td>...</td>\n",
       "      <td>...</td>\n",
       "      <td>...</td>\n",
       "    </tr>\n",
       "    <tr>\n",
       "      <th>145</th>\n",
       "      <td>6.7</td>\n",
       "      <td>3.0</td>\n",
       "      <td>5.2</td>\n",
       "      <td>2.3</td>\n",
       "      <td>virginica</td>\n",
       "    </tr>\n",
       "    <tr>\n",
       "      <th>146</th>\n",
       "      <td>6.3</td>\n",
       "      <td>2.5</td>\n",
       "      <td>5.0</td>\n",
       "      <td>1.9</td>\n",
       "      <td>virginica</td>\n",
       "    </tr>\n",
       "    <tr>\n",
       "      <th>147</th>\n",
       "      <td>6.5</td>\n",
       "      <td>3.0</td>\n",
       "      <td>5.2</td>\n",
       "      <td>2.0</td>\n",
       "      <td>virginica</td>\n",
       "    </tr>\n",
       "    <tr>\n",
       "      <th>148</th>\n",
       "      <td>6.2</td>\n",
       "      <td>3.4</td>\n",
       "      <td>5.4</td>\n",
       "      <td>2.3</td>\n",
       "      <td>virginica</td>\n",
       "    </tr>\n",
       "    <tr>\n",
       "      <th>149</th>\n",
       "      <td>5.9</td>\n",
       "      <td>3.0</td>\n",
       "      <td>5.1</td>\n",
       "      <td>1.8</td>\n",
       "      <td>virginica</td>\n",
       "    </tr>\n",
       "  </tbody>\n",
       "</table>\n",
       "<p>150 rows × 5 columns</p>\n",
       "</div>"
      ],
      "text/plain": [
       "     sepal_length  sepal_width  petal_length  petal_width    species\n",
       "0             5.1          3.5           1.4          0.2     setosa\n",
       "1             4.9          3.0           1.4          0.2     setosa\n",
       "2             4.7          3.2           1.3          0.2     setosa\n",
       "3             4.6          3.1           1.5          0.2     setosa\n",
       "4             5.0          3.6           1.4          0.2     setosa\n",
       "..            ...          ...           ...          ...        ...\n",
       "145           6.7          3.0           5.2          2.3  virginica\n",
       "146           6.3          2.5           5.0          1.9  virginica\n",
       "147           6.5          3.0           5.2          2.0  virginica\n",
       "148           6.2          3.4           5.4          2.3  virginica\n",
       "149           5.9          3.0           5.1          1.8  virginica\n",
       "\n",
       "[150 rows x 5 columns]"
      ]
     },
     "execution_count": 118,
     "metadata": {},
     "output_type": "execute_result"
    }
   ],
   "source": [
    "iris_df"
   ]
  },
  {
   "cell_type": "code",
   "execution_count": 121,
   "id": "attempted-palestine",
   "metadata": {},
   "outputs": [
    {
     "data": {
      "text/html": [
       "<div>\n",
       "<style scoped>\n",
       "    .dataframe tbody tr th:only-of-type {\n",
       "        vertical-align: middle;\n",
       "    }\n",
       "\n",
       "    .dataframe tbody tr th {\n",
       "        vertical-align: top;\n",
       "    }\n",
       "\n",
       "    .dataframe thead th {\n",
       "        text-align: right;\n",
       "    }\n",
       "</style>\n",
       "<table border=\"1\" class=\"dataframe\">\n",
       "  <thead>\n",
       "    <tr style=\"text-align: right;\">\n",
       "      <th></th>\n",
       "      <th>sepal_length</th>\n",
       "      <th>sepal_width</th>\n",
       "      <th>petal_length</th>\n",
       "      <th>petal_width</th>\n",
       "      <th>species</th>\n",
       "    </tr>\n",
       "  </thead>\n",
       "  <tbody>\n",
       "    <tr>\n",
       "      <th>0</th>\n",
       "      <td>5.1</td>\n",
       "      <td>3.5</td>\n",
       "      <td>1.4</td>\n",
       "      <td>0.2</td>\n",
       "      <td>setosa</td>\n",
       "    </tr>\n",
       "    <tr>\n",
       "      <th>1</th>\n",
       "      <td>4.9</td>\n",
       "      <td>3.0</td>\n",
       "      <td>1.4</td>\n",
       "      <td>0.2</td>\n",
       "      <td>setosa</td>\n",
       "    </tr>\n",
       "    <tr>\n",
       "      <th>2</th>\n",
       "      <td>4.7</td>\n",
       "      <td>3.2</td>\n",
       "      <td>1.3</td>\n",
       "      <td>0.2</td>\n",
       "      <td>setosa</td>\n",
       "    </tr>\n",
       "    <tr>\n",
       "      <th>3</th>\n",
       "      <td>4.6</td>\n",
       "      <td>3.1</td>\n",
       "      <td>1.5</td>\n",
       "      <td>0.2</td>\n",
       "      <td>setosa</td>\n",
       "    </tr>\n",
       "    <tr>\n",
       "      <th>4</th>\n",
       "      <td>5.0</td>\n",
       "      <td>3.6</td>\n",
       "      <td>1.4</td>\n",
       "      <td>0.2</td>\n",
       "      <td>setosa</td>\n",
       "    </tr>\n",
       "    <tr>\n",
       "      <th>5</th>\n",
       "      <td>5.4</td>\n",
       "      <td>3.9</td>\n",
       "      <td>1.7</td>\n",
       "      <td>0.4</td>\n",
       "      <td>setosa</td>\n",
       "    </tr>\n",
       "    <tr>\n",
       "      <th>6</th>\n",
       "      <td>4.6</td>\n",
       "      <td>3.4</td>\n",
       "      <td>1.4</td>\n",
       "      <td>0.3</td>\n",
       "      <td>setosa</td>\n",
       "    </tr>\n",
       "    <tr>\n",
       "      <th>7</th>\n",
       "      <td>5.0</td>\n",
       "      <td>3.4</td>\n",
       "      <td>1.5</td>\n",
       "      <td>0.2</td>\n",
       "      <td>setosa</td>\n",
       "    </tr>\n",
       "    <tr>\n",
       "      <th>8</th>\n",
       "      <td>4.4</td>\n",
       "      <td>2.9</td>\n",
       "      <td>1.4</td>\n",
       "      <td>0.2</td>\n",
       "      <td>setosa</td>\n",
       "    </tr>\n",
       "    <tr>\n",
       "      <th>9</th>\n",
       "      <td>4.9</td>\n",
       "      <td>3.1</td>\n",
       "      <td>1.5</td>\n",
       "      <td>0.1</td>\n",
       "      <td>setosa</td>\n",
       "    </tr>\n",
       "  </tbody>\n",
       "</table>\n",
       "</div>"
      ],
      "text/plain": [
       "   sepal_length  sepal_width  petal_length  petal_width species\n",
       "0           5.1          3.5           1.4          0.2  setosa\n",
       "1           4.9          3.0           1.4          0.2  setosa\n",
       "2           4.7          3.2           1.3          0.2  setosa\n",
       "3           4.6          3.1           1.5          0.2  setosa\n",
       "4           5.0          3.6           1.4          0.2  setosa\n",
       "5           5.4          3.9           1.7          0.4  setosa\n",
       "6           4.6          3.4           1.4          0.3  setosa\n",
       "7           5.0          3.4           1.5          0.2  setosa\n",
       "8           4.4          2.9           1.4          0.2  setosa\n",
       "9           4.9          3.1           1.5          0.1  setosa"
      ]
     },
     "execution_count": 121,
     "metadata": {},
     "output_type": "execute_result"
    }
   ],
   "source": [
    "iris_df.head(10)"
   ]
  },
  {
   "cell_type": "code",
   "execution_count": 122,
   "id": "under-methodology",
   "metadata": {},
   "outputs": [
    {
     "data": {
      "text/html": [
       "<div>\n",
       "<style scoped>\n",
       "    .dataframe tbody tr th:only-of-type {\n",
       "        vertical-align: middle;\n",
       "    }\n",
       "\n",
       "    .dataframe tbody tr th {\n",
       "        vertical-align: top;\n",
       "    }\n",
       "\n",
       "    .dataframe thead th {\n",
       "        text-align: right;\n",
       "    }\n",
       "</style>\n",
       "<table border=\"1\" class=\"dataframe\">\n",
       "  <thead>\n",
       "    <tr style=\"text-align: right;\">\n",
       "      <th></th>\n",
       "      <th>sepal_length</th>\n",
       "      <th>sepal_width</th>\n",
       "      <th>petal_length</th>\n",
       "      <th>petal_width</th>\n",
       "      <th>species</th>\n",
       "    </tr>\n",
       "  </thead>\n",
       "  <tbody>\n",
       "    <tr>\n",
       "      <th>145</th>\n",
       "      <td>6.7</td>\n",
       "      <td>3.0</td>\n",
       "      <td>5.2</td>\n",
       "      <td>2.3</td>\n",
       "      <td>virginica</td>\n",
       "    </tr>\n",
       "    <tr>\n",
       "      <th>146</th>\n",
       "      <td>6.3</td>\n",
       "      <td>2.5</td>\n",
       "      <td>5.0</td>\n",
       "      <td>1.9</td>\n",
       "      <td>virginica</td>\n",
       "    </tr>\n",
       "    <tr>\n",
       "      <th>147</th>\n",
       "      <td>6.5</td>\n",
       "      <td>3.0</td>\n",
       "      <td>5.2</td>\n",
       "      <td>2.0</td>\n",
       "      <td>virginica</td>\n",
       "    </tr>\n",
       "    <tr>\n",
       "      <th>148</th>\n",
       "      <td>6.2</td>\n",
       "      <td>3.4</td>\n",
       "      <td>5.4</td>\n",
       "      <td>2.3</td>\n",
       "      <td>virginica</td>\n",
       "    </tr>\n",
       "    <tr>\n",
       "      <th>149</th>\n",
       "      <td>5.9</td>\n",
       "      <td>3.0</td>\n",
       "      <td>5.1</td>\n",
       "      <td>1.8</td>\n",
       "      <td>virginica</td>\n",
       "    </tr>\n",
       "  </tbody>\n",
       "</table>\n",
       "</div>"
      ],
      "text/plain": [
       "     sepal_length  sepal_width  petal_length  petal_width    species\n",
       "145           6.7          3.0           5.2          2.3  virginica\n",
       "146           6.3          2.5           5.0          1.9  virginica\n",
       "147           6.5          3.0           5.2          2.0  virginica\n",
       "148           6.2          3.4           5.4          2.3  virginica\n",
       "149           5.9          3.0           5.1          1.8  virginica"
      ]
     },
     "execution_count": 122,
     "metadata": {},
     "output_type": "execute_result"
    }
   ],
   "source": [
    "iris_df.tail(5)"
   ]
  },
  {
   "cell_type": "code",
   "execution_count": 123,
   "id": "corresponding-palestinian",
   "metadata": {},
   "outputs": [
    {
     "data": {
      "text/html": [
       "<div>\n",
       "<style scoped>\n",
       "    .dataframe tbody tr th:only-of-type {\n",
       "        vertical-align: middle;\n",
       "    }\n",
       "\n",
       "    .dataframe tbody tr th {\n",
       "        vertical-align: top;\n",
       "    }\n",
       "\n",
       "    .dataframe thead th {\n",
       "        text-align: right;\n",
       "    }\n",
       "</style>\n",
       "<table border=\"1\" class=\"dataframe\">\n",
       "  <thead>\n",
       "    <tr style=\"text-align: right;\">\n",
       "      <th></th>\n",
       "      <th>sepal_length</th>\n",
       "      <th>sepal_width</th>\n",
       "      <th>petal_length</th>\n",
       "      <th>petal_width</th>\n",
       "      <th>species</th>\n",
       "    </tr>\n",
       "  </thead>\n",
       "  <tbody>\n",
       "    <tr>\n",
       "      <th>19</th>\n",
       "      <td>5.1</td>\n",
       "      <td>3.8</td>\n",
       "      <td>1.5</td>\n",
       "      <td>0.3</td>\n",
       "      <td>setosa</td>\n",
       "    </tr>\n",
       "    <tr>\n",
       "      <th>146</th>\n",
       "      <td>6.3</td>\n",
       "      <td>2.5</td>\n",
       "      <td>5.0</td>\n",
       "      <td>1.9</td>\n",
       "      <td>virginica</td>\n",
       "    </tr>\n",
       "    <tr>\n",
       "      <th>57</th>\n",
       "      <td>4.9</td>\n",
       "      <td>2.4</td>\n",
       "      <td>3.3</td>\n",
       "      <td>1.0</td>\n",
       "      <td>versicolor</td>\n",
       "    </tr>\n",
       "    <tr>\n",
       "      <th>97</th>\n",
       "      <td>6.2</td>\n",
       "      <td>2.9</td>\n",
       "      <td>4.3</td>\n",
       "      <td>1.3</td>\n",
       "      <td>versicolor</td>\n",
       "    </tr>\n",
       "    <tr>\n",
       "      <th>105</th>\n",
       "      <td>7.6</td>\n",
       "      <td>3.0</td>\n",
       "      <td>6.6</td>\n",
       "      <td>2.1</td>\n",
       "      <td>virginica</td>\n",
       "    </tr>\n",
       "  </tbody>\n",
       "</table>\n",
       "</div>"
      ],
      "text/plain": [
       "     sepal_length  sepal_width  petal_length  petal_width     species\n",
       "19            5.1          3.8           1.5          0.3      setosa\n",
       "146           6.3          2.5           5.0          1.9   virginica\n",
       "57            4.9          2.4           3.3          1.0  versicolor\n",
       "97            6.2          2.9           4.3          1.3  versicolor\n",
       "105           7.6          3.0           6.6          2.1   virginica"
      ]
     },
     "execution_count": 123,
     "metadata": {},
     "output_type": "execute_result"
    }
   ],
   "source": [
    "iris_df.sample(5)"
   ]
  },
  {
   "cell_type": "code",
   "execution_count": 124,
   "id": "equipped-fitting",
   "metadata": {},
   "outputs": [
    {
     "data": {
      "text/html": [
       "<div>\n",
       "<style scoped>\n",
       "    .dataframe tbody tr th:only-of-type {\n",
       "        vertical-align: middle;\n",
       "    }\n",
       "\n",
       "    .dataframe tbody tr th {\n",
       "        vertical-align: top;\n",
       "    }\n",
       "\n",
       "    .dataframe thead th {\n",
       "        text-align: right;\n",
       "    }\n",
       "</style>\n",
       "<table border=\"1\" class=\"dataframe\">\n",
       "  <thead>\n",
       "    <tr style=\"text-align: right;\">\n",
       "      <th></th>\n",
       "      <th>sepal_length</th>\n",
       "      <th>sepal_width</th>\n",
       "      <th>petal_length</th>\n",
       "      <th>petal_width</th>\n",
       "    </tr>\n",
       "  </thead>\n",
       "  <tbody>\n",
       "    <tr>\n",
       "      <th>count</th>\n",
       "      <td>150.000000</td>\n",
       "      <td>150.000000</td>\n",
       "      <td>150.000000</td>\n",
       "      <td>150.000000</td>\n",
       "    </tr>\n",
       "    <tr>\n",
       "      <th>mean</th>\n",
       "      <td>5.843333</td>\n",
       "      <td>3.054000</td>\n",
       "      <td>3.758667</td>\n",
       "      <td>1.198667</td>\n",
       "    </tr>\n",
       "    <tr>\n",
       "      <th>std</th>\n",
       "      <td>0.828066</td>\n",
       "      <td>0.433594</td>\n",
       "      <td>1.764420</td>\n",
       "      <td>0.763161</td>\n",
       "    </tr>\n",
       "    <tr>\n",
       "      <th>min</th>\n",
       "      <td>4.300000</td>\n",
       "      <td>2.000000</td>\n",
       "      <td>1.000000</td>\n",
       "      <td>0.100000</td>\n",
       "    </tr>\n",
       "    <tr>\n",
       "      <th>25%</th>\n",
       "      <td>5.100000</td>\n",
       "      <td>2.800000</td>\n",
       "      <td>1.600000</td>\n",
       "      <td>0.300000</td>\n",
       "    </tr>\n",
       "    <tr>\n",
       "      <th>50%</th>\n",
       "      <td>5.800000</td>\n",
       "      <td>3.000000</td>\n",
       "      <td>4.350000</td>\n",
       "      <td>1.300000</td>\n",
       "    </tr>\n",
       "    <tr>\n",
       "      <th>75%</th>\n",
       "      <td>6.400000</td>\n",
       "      <td>3.300000</td>\n",
       "      <td>5.100000</td>\n",
       "      <td>1.800000</td>\n",
       "    </tr>\n",
       "    <tr>\n",
       "      <th>max</th>\n",
       "      <td>7.900000</td>\n",
       "      <td>4.400000</td>\n",
       "      <td>6.900000</td>\n",
       "      <td>2.500000</td>\n",
       "    </tr>\n",
       "  </tbody>\n",
       "</table>\n",
       "</div>"
      ],
      "text/plain": [
       "       sepal_length  sepal_width  petal_length  petal_width\n",
       "count    150.000000   150.000000    150.000000   150.000000\n",
       "mean       5.843333     3.054000      3.758667     1.198667\n",
       "std        0.828066     0.433594      1.764420     0.763161\n",
       "min        4.300000     2.000000      1.000000     0.100000\n",
       "25%        5.100000     2.800000      1.600000     0.300000\n",
       "50%        5.800000     3.000000      4.350000     1.300000\n",
       "75%        6.400000     3.300000      5.100000     1.800000\n",
       "max        7.900000     4.400000      6.900000     2.500000"
      ]
     },
     "execution_count": 124,
     "metadata": {},
     "output_type": "execute_result"
    }
   ],
   "source": [
    "iris_df.describe()"
   ]
  },
  {
   "cell_type": "code",
   "execution_count": 125,
   "id": "boxed-kinase",
   "metadata": {},
   "outputs": [
    {
     "name": "stdout",
     "output_type": "stream",
     "text": [
      "<class 'pandas.core.frame.DataFrame'>\n",
      "RangeIndex: 150 entries, 0 to 149\n",
      "Data columns (total 5 columns):\n",
      " #   Column        Non-Null Count  Dtype  \n",
      "---  ------        --------------  -----  \n",
      " 0   sepal_length  150 non-null    float64\n",
      " 1   sepal_width   150 non-null    float64\n",
      " 2   petal_length  150 non-null    float64\n",
      " 3   petal_width   150 non-null    float64\n",
      " 4   species       150 non-null    object \n",
      "dtypes: float64(4), object(1)\n",
      "memory usage: 6.0+ KB\n"
     ]
    }
   ],
   "source": [
    "iris_df.info()"
   ]
  },
  {
   "cell_type": "code",
   "execution_count": 128,
   "id": "mediterranean-mayor",
   "metadata": {},
   "outputs": [],
   "source": [
    "sepal_df = iris_df[[\"sepal_length\", \"sepal_width\", \"species\"]]"
   ]
  },
  {
   "cell_type": "code",
   "execution_count": 130,
   "id": "overall-might",
   "metadata": {},
   "outputs": [],
   "source": [
    "#iris_df.drop([\"petal_width\", \"petal_length\"], axis=1) # does the same"
   ]
  },
  {
   "cell_type": "code",
   "execution_count": 131,
   "id": "horizontal-calculator",
   "metadata": {},
   "outputs": [],
   "source": [
    "sepal_df.to_csv(\"data/SEPAL.csv\")"
   ]
  },
  {
   "cell_type": "code",
   "execution_count": 137,
   "id": "economic-spray",
   "metadata": {},
   "outputs": [],
   "source": [
    "sepal_read_df = pd.read_csv(\"data/SEPAL.csv\", index_col=0, delimiter=\",\")"
   ]
  },
  {
   "cell_type": "code",
   "execution_count": 138,
   "id": "bronze-update",
   "metadata": {},
   "outputs": [
    {
     "data": {
      "text/html": [
       "<div>\n",
       "<style scoped>\n",
       "    .dataframe tbody tr th:only-of-type {\n",
       "        vertical-align: middle;\n",
       "    }\n",
       "\n",
       "    .dataframe tbody tr th {\n",
       "        vertical-align: top;\n",
       "    }\n",
       "\n",
       "    .dataframe thead th {\n",
       "        text-align: right;\n",
       "    }\n",
       "</style>\n",
       "<table border=\"1\" class=\"dataframe\">\n",
       "  <thead>\n",
       "    <tr style=\"text-align: right;\">\n",
       "      <th></th>\n",
       "      <th>sepal_length</th>\n",
       "      <th>sepal_width</th>\n",
       "      <th>species</th>\n",
       "    </tr>\n",
       "  </thead>\n",
       "  <tbody>\n",
       "    <tr>\n",
       "      <th>0</th>\n",
       "      <td>5.1</td>\n",
       "      <td>3.5</td>\n",
       "      <td>setosa</td>\n",
       "    </tr>\n",
       "    <tr>\n",
       "      <th>1</th>\n",
       "      <td>4.9</td>\n",
       "      <td>3.0</td>\n",
       "      <td>setosa</td>\n",
       "    </tr>\n",
       "    <tr>\n",
       "      <th>2</th>\n",
       "      <td>4.7</td>\n",
       "      <td>3.2</td>\n",
       "      <td>setosa</td>\n",
       "    </tr>\n",
       "    <tr>\n",
       "      <th>3</th>\n",
       "      <td>4.6</td>\n",
       "      <td>3.1</td>\n",
       "      <td>setosa</td>\n",
       "    </tr>\n",
       "    <tr>\n",
       "      <th>4</th>\n",
       "      <td>5.0</td>\n",
       "      <td>3.6</td>\n",
       "      <td>setosa</td>\n",
       "    </tr>\n",
       "    <tr>\n",
       "      <th>...</th>\n",
       "      <td>...</td>\n",
       "      <td>...</td>\n",
       "      <td>...</td>\n",
       "    </tr>\n",
       "    <tr>\n",
       "      <th>145</th>\n",
       "      <td>6.7</td>\n",
       "      <td>3.0</td>\n",
       "      <td>virginica</td>\n",
       "    </tr>\n",
       "    <tr>\n",
       "      <th>146</th>\n",
       "      <td>6.3</td>\n",
       "      <td>2.5</td>\n",
       "      <td>virginica</td>\n",
       "    </tr>\n",
       "    <tr>\n",
       "      <th>147</th>\n",
       "      <td>6.5</td>\n",
       "      <td>3.0</td>\n",
       "      <td>virginica</td>\n",
       "    </tr>\n",
       "    <tr>\n",
       "      <th>148</th>\n",
       "      <td>6.2</td>\n",
       "      <td>3.4</td>\n",
       "      <td>virginica</td>\n",
       "    </tr>\n",
       "    <tr>\n",
       "      <th>149</th>\n",
       "      <td>5.9</td>\n",
       "      <td>3.0</td>\n",
       "      <td>virginica</td>\n",
       "    </tr>\n",
       "  </tbody>\n",
       "</table>\n",
       "<p>150 rows × 3 columns</p>\n",
       "</div>"
      ],
      "text/plain": [
       "     sepal_length  sepal_width    species\n",
       "0             5.1          3.5     setosa\n",
       "1             4.9          3.0     setosa\n",
       "2             4.7          3.2     setosa\n",
       "3             4.6          3.1     setosa\n",
       "4             5.0          3.6     setosa\n",
       "..            ...          ...        ...\n",
       "145           6.7          3.0  virginica\n",
       "146           6.3          2.5  virginica\n",
       "147           6.5          3.0  virginica\n",
       "148           6.2          3.4  virginica\n",
       "149           5.9          3.0  virginica\n",
       "\n",
       "[150 rows x 3 columns]"
      ]
     },
     "execution_count": 138,
     "metadata": {},
     "output_type": "execute_result"
    }
   ],
   "source": [
    "sepal_read_df"
   ]
  },
  {
   "cell_type": "code",
   "execution_count": null,
   "id": "dedicated-second",
   "metadata": {},
   "outputs": [],
   "source": []
  }
 ],
 "metadata": {
  "kernelspec": {
   "display_name": "Python 3",
   "language": "python",
   "name": "python3"
  },
  "language_info": {
   "codemirror_mode": {
    "name": "ipython",
    "version": 3
   },
   "file_extension": ".py",
   "mimetype": "text/x-python",
   "name": "python",
   "nbconvert_exporter": "python",
   "pygments_lexer": "ipython3",
   "version": "3.9.2"
  }
 },
 "nbformat": 4,
 "nbformat_minor": 5
}
