{
 "cells": [
  {
   "cell_type": "code",
   "execution_count": 1,
   "id": "functional-possibility",
   "metadata": {},
   "outputs": [],
   "source": [
    "import prodas\n",
    "from prodas.io import *"
   ]
  },
  {
   "cell_type": "code",
   "execution_count": 2,
   "id": "packed-stations",
   "metadata": {},
   "outputs": [],
   "source": [
    "from prodas.model import create_model"
   ]
  },
  {
   "cell_type": "code",
   "execution_count": 3,
   "id": "oriented-browse",
   "metadata": {
    "scrolled": true
   },
   "outputs": [
    {
     "name": "stdout",
     "output_type": "stream",
     "text": [
      "I'm a dummy function.\n"
     ]
    }
   ],
   "source": [
    "prodas.io.save_dummy()"
   ]
  },
  {
   "cell_type": "code",
   "execution_count": null,
   "id": "acceptable-fifteen",
   "metadata": {},
   "outputs": [],
   "source": [
    "# df = prodas.io.read_data(\"iris.csv\")"
   ]
  },
  {
   "cell_type": "code",
   "execution_count": null,
   "id": "charged-spirit",
   "metadata": {},
   "outputs": [],
   "source": [
    "# prod.viz.lineplot(x, y)"
   ]
  },
  {
   "cell_type": "code",
   "execution_count": 4,
   "id": "separated-bradford",
   "metadata": {},
   "outputs": [
    {
     "name": "stdout",
     "output_type": "stream",
     "text": [
      "I'm a dummy function.\n"
     ]
    }
   ],
   "source": [
    "save_dummy()"
   ]
  },
  {
   "cell_type": "code",
   "execution_count": 5,
   "id": "logical-crossing",
   "metadata": {},
   "outputs": [
    {
     "name": "stdout",
     "output_type": "stream",
     "text": [
      "Linear model created\n",
      "Linear model trained.\n",
      "Model saved.\n"
     ]
    }
   ],
   "source": [
    "create_model()"
   ]
  },
  {
   "cell_type": "code",
   "execution_count": null,
   "id": "whole-processing",
   "metadata": {},
   "outputs": [],
   "source": []
  }
 ],
 "metadata": {
  "kernelspec": {
   "display_name": "Python 3",
   "language": "python",
   "name": "python3"
  },
  "language_info": {
   "codemirror_mode": {
    "name": "ipython",
    "version": 3
   },
   "file_extension": ".py",
   "mimetype": "text/x-python",
   "name": "python",
   "nbconvert_exporter": "python",
   "pygments_lexer": "ipython3",
   "version": "3.9.2"
  }
 },
 "nbformat": 4,
 "nbformat_minor": 5
}
